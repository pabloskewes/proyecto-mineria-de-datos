{
 "cells": [
  {
   "cell_type": "markdown",
   "metadata": {},
   "source": [
    "****Hito 2****\n"
   ]
  },
  {
   "cell_type": "code",
   "execution_count": 1,
   "metadata": {},
   "outputs": [],
   "source": [
    "# importar librerías\n",
    "\n",
    "from pathlib import Path\n",
    "import pandas as pd\n",
    "import matplotlib.pyplot as plt\n",
    "from sklearn import datasets\n",
    "from sklearn.metrics import f1_score, recall_score, precision_score, accuracy_score\n",
    "from sklearn.model_selection import train_test_split\n"
   ]
  },
  {
   "cell_type": "code",
   "execution_count": 2,
   "metadata": {},
   "outputs": [],
   "source": [
    "# importar datos de la carpeta data\n",
    "DATA_DIR = Path('./data').resolve()\n",
    "\n",
    "df = pd.read_excel('./data/base_indices_2005-2023.xlsx', sheet_name='BaseINDICES_2005_2023')"
   ]
  },
  {
   "cell_type": "code",
   "execution_count": 3,
   "metadata": {},
   "outputs": [
    {
     "data": {
      "text/html": [
       "<div>\n",
       "<style scoped>\n",
       "    .dataframe tbody tr th:only-of-type {\n",
       "        vertical-align: middle;\n",
       "    }\n",
       "\n",
       "    .dataframe tbody tr th {\n",
       "        vertical-align: top;\n",
       "    }\n",
       "\n",
       "    .dataframe thead th {\n",
       "        text-align: right;\n",
       "    }\n",
       "</style>\n",
       "<table border=\"1\" class=\"dataframe\">\n",
       "  <thead>\n",
       "    <tr style=\"text-align: right;\">\n",
       "      <th></th>\n",
       "      <th>Año</th>\n",
       "      <th>Cód. Institución</th>\n",
       "      <th>Nombre Institución</th>\n",
       "      <th>Tipo Institución</th>\n",
       "      <th>Clasificación1</th>\n",
       "      <th>Clasificación2</th>\n",
       "      <th>Clasificación3</th>\n",
       "      <th>Clasificación4</th>\n",
       "      <th>Clasificación5</th>\n",
       "      <th>Clasificación6</th>\n",
       "      <th>...</th>\n",
       "      <th>Matrícula primer año hombres</th>\n",
       "      <th>Matrícula primer año mujeres</th>\n",
       "      <th>Matrícula primer año extranjeros</th>\n",
       "      <th>Matrícula Primer Año</th>\n",
       "      <th>Matrícula total hombres</th>\n",
       "      <th>Matrícula total mujeres</th>\n",
       "      <th>Matrícula total extranjeros</th>\n",
       "      <th>Matrícula Total</th>\n",
       "      <th>Códgo SIES</th>\n",
       "      <th>Pregrado/Posgrado</th>\n",
       "    </tr>\n",
       "  </thead>\n",
       "  <tbody>\n",
       "    <tr>\n",
       "      <th>0</th>\n",
       "      <td>2023</td>\n",
       "      <td>1001</td>\n",
       "      <td>U. DE CHILE</td>\n",
       "      <td>Univ.</td>\n",
       "      <td>(a) Universidades CRUCH</td>\n",
       "      <td>(a) Universidades Estatales CRUCH</td>\n",
       "      <td>(a) Acreditada</td>\n",
       "      <td>(a) Autónoma</td>\n",
       "      <td>(a) Adscritas a Gratuidad</td>\n",
       "      <td>(a) Subsistema Universitario</td>\n",
       "      <td>...</td>\n",
       "      <td>68.0</td>\n",
       "      <td>82.0</td>\n",
       "      <td>2.0</td>\n",
       "      <td>150</td>\n",
       "      <td>302.0</td>\n",
       "      <td>392.0</td>\n",
       "      <td>5.0</td>\n",
       "      <td>694</td>\n",
       "      <td>I70S1C1J1V2</td>\n",
       "      <td>Pregrado</td>\n",
       "    </tr>\n",
       "    <tr>\n",
       "      <th>1</th>\n",
       "      <td>2023</td>\n",
       "      <td>1001</td>\n",
       "      <td>U. DE CHILE</td>\n",
       "      <td>Univ.</td>\n",
       "      <td>(a) Universidades CRUCH</td>\n",
       "      <td>(a) Universidades Estatales CRUCH</td>\n",
       "      <td>(a) Acreditada</td>\n",
       "      <td>(a) Autónoma</td>\n",
       "      <td>(a) Adscritas a Gratuidad</td>\n",
       "      <td>(a) Subsistema Universitario</td>\n",
       "      <td>...</td>\n",
       "      <td>54.0</td>\n",
       "      <td>45.0</td>\n",
       "      <td>10.0</td>\n",
       "      <td>99</td>\n",
       "      <td>191.0</td>\n",
       "      <td>205.0</td>\n",
       "      <td>23.0</td>\n",
       "      <td>396</td>\n",
       "      <td>I70S1C814J1V1</td>\n",
       "      <td>Pregrado</td>\n",
       "    </tr>\n",
       "    <tr>\n",
       "      <th>2</th>\n",
       "      <td>2023</td>\n",
       "      <td>1001</td>\n",
       "      <td>U. DE CHILE</td>\n",
       "      <td>Univ.</td>\n",
       "      <td>(a) Universidades CRUCH</td>\n",
       "      <td>(a) Universidades Estatales CRUCH</td>\n",
       "      <td>(a) Acreditada</td>\n",
       "      <td>(a) Autónoma</td>\n",
       "      <td>(a) Adscritas a Gratuidad</td>\n",
       "      <td>(a) Subsistema Universitario</td>\n",
       "      <td>...</td>\n",
       "      <td>353.0</td>\n",
       "      <td>234.0</td>\n",
       "      <td>16.0</td>\n",
       "      <td>587</td>\n",
       "      <td>1535.0</td>\n",
       "      <td>1126.0</td>\n",
       "      <td>52.0</td>\n",
       "      <td>2661</td>\n",
       "      <td>I70S1C58J1V1</td>\n",
       "      <td>Pregrado</td>\n",
       "    </tr>\n",
       "    <tr>\n",
       "      <th>3</th>\n",
       "      <td>2023</td>\n",
       "      <td>1001</td>\n",
       "      <td>U. DE CHILE</td>\n",
       "      <td>Univ.</td>\n",
       "      <td>(a) Universidades CRUCH</td>\n",
       "      <td>(a) Universidades Estatales CRUCH</td>\n",
       "      <td>(a) Acreditada</td>\n",
       "      <td>(a) Autónoma</td>\n",
       "      <td>(a) Adscritas a Gratuidad</td>\n",
       "      <td>(a) Subsistema Universitario</td>\n",
       "      <td>...</td>\n",
       "      <td>101.0</td>\n",
       "      <td>86.0</td>\n",
       "      <td>10.0</td>\n",
       "      <td>187</td>\n",
       "      <td>395.0</td>\n",
       "      <td>358.0</td>\n",
       "      <td>27.0</td>\n",
       "      <td>753</td>\n",
       "      <td>I70S1C816J1V1</td>\n",
       "      <td>Pregrado</td>\n",
       "    </tr>\n",
       "    <tr>\n",
       "      <th>4</th>\n",
       "      <td>2023</td>\n",
       "      <td>1001</td>\n",
       "      <td>U. DE CHILE</td>\n",
       "      <td>Univ.</td>\n",
       "      <td>(a) Universidades CRUCH</td>\n",
       "      <td>(a) Universidades Estatales CRUCH</td>\n",
       "      <td>(a) Acreditada</td>\n",
       "      <td>(a) Autónoma</td>\n",
       "      <td>(a) Adscritas a Gratuidad</td>\n",
       "      <td>(a) Subsistema Universitario</td>\n",
       "      <td>...</td>\n",
       "      <td>76.0</td>\n",
       "      <td>56.0</td>\n",
       "      <td>4.0</td>\n",
       "      <td>132</td>\n",
       "      <td>378.0</td>\n",
       "      <td>268.0</td>\n",
       "      <td>6.0</td>\n",
       "      <td>646</td>\n",
       "      <td>I70S1C47J1V1</td>\n",
       "      <td>Pregrado</td>\n",
       "    </tr>\n",
       "  </tbody>\n",
       "</table>\n",
       "<p>5 rows × 60 columns</p>\n",
       "</div>"
      ],
      "text/plain": [
       "    Año  Cód. Institución Nombre Institución Tipo Institución  \\\n",
       "0  2023              1001        U. DE CHILE            Univ.   \n",
       "1  2023              1001        U. DE CHILE            Univ.   \n",
       "2  2023              1001        U. DE CHILE            Univ.   \n",
       "3  2023              1001        U. DE CHILE            Univ.   \n",
       "4  2023              1001        U. DE CHILE            Univ.   \n",
       "\n",
       "            Clasificación1                     Clasificación2  Clasificación3  \\\n",
       "0  (a) Universidades CRUCH  (a) Universidades Estatales CRUCH  (a) Acreditada   \n",
       "1  (a) Universidades CRUCH  (a) Universidades Estatales CRUCH  (a) Acreditada   \n",
       "2  (a) Universidades CRUCH  (a) Universidades Estatales CRUCH  (a) Acreditada   \n",
       "3  (a) Universidades CRUCH  (a) Universidades Estatales CRUCH  (a) Acreditada   \n",
       "4  (a) Universidades CRUCH  (a) Universidades Estatales CRUCH  (a) Acreditada   \n",
       "\n",
       "  Clasificación4             Clasificación5                Clasificación6  \\\n",
       "0   (a) Autónoma  (a) Adscritas a Gratuidad  (a) Subsistema Universitario   \n",
       "1   (a) Autónoma  (a) Adscritas a Gratuidad  (a) Subsistema Universitario   \n",
       "2   (a) Autónoma  (a) Adscritas a Gratuidad  (a) Subsistema Universitario   \n",
       "3   (a) Autónoma  (a) Adscritas a Gratuidad  (a) Subsistema Universitario   \n",
       "4   (a) Autónoma  (a) Adscritas a Gratuidad  (a) Subsistema Universitario   \n",
       "\n",
       "   ... Matrícula primer año hombres Matrícula primer año mujeres  \\\n",
       "0  ...                         68.0                         82.0   \n",
       "1  ...                         54.0                         45.0   \n",
       "2  ...                        353.0                        234.0   \n",
       "3  ...                        101.0                         86.0   \n",
       "4  ...                         76.0                         56.0   \n",
       "\n",
       "  Matrícula primer año extranjeros  Matrícula Primer Año  \\\n",
       "0                              2.0                   150   \n",
       "1                             10.0                    99   \n",
       "2                             16.0                   587   \n",
       "3                             10.0                   187   \n",
       "4                              4.0                   132   \n",
       "\n",
       "   Matrícula total hombres Matrícula total mujeres  \\\n",
       "0                    302.0                   392.0   \n",
       "1                    191.0                   205.0   \n",
       "2                   1535.0                  1126.0   \n",
       "3                    395.0                   358.0   \n",
       "4                    378.0                   268.0   \n",
       "\n",
       "  Matrícula total extranjeros Matrícula Total     Códgo SIES Pregrado/Posgrado  \n",
       "0                         5.0             694    I70S1C1J1V2          Pregrado  \n",
       "1                        23.0             396  I70S1C814J1V1          Pregrado  \n",
       "2                        52.0            2661   I70S1C58J1V1          Pregrado  \n",
       "3                        27.0             753  I70S1C816J1V1          Pregrado  \n",
       "4                         6.0             646   I70S1C47J1V1          Pregrado  \n",
       "\n",
       "[5 rows x 60 columns]"
      ]
     },
     "execution_count": 3,
     "metadata": {},
     "output_type": "execute_result"
    }
   ],
   "source": [
    "df.head()"
   ]
  },
  {
   "cell_type": "code",
   "execution_count": 4,
   "metadata": {},
   "outputs": [
    {
     "data": {
      "text/plain": [
       "(218773, 60)"
      ]
     },
     "execution_count": 4,
     "metadata": {},
     "output_type": "execute_result"
    }
   ],
   "source": [
    "df.shape"
   ]
  },
  {
   "cell_type": "markdown",
   "metadata": {},
   "source": [
    "Según el enfoque que llegamos del hito 1\n",
    "donde queremos responder\n",
    "* ¿Se puede predecir el puntaje de corte esperado para el próximo año en función de las tendencias históricas?\n",
    "* ¿Existen grupos con características comunes?\n",
    "* ¿Se pueden agrupar instituciones que tienen perfiles similares de aranceles y puntajes de ingreso?\n",
    "\n",
    "* Ver el efecto en la matrícula en educación superior (universidades) del ingreso de la gratuidad al sistema de becas\n",
    "* Ver el efecto del ingreso de la beca vocación de profesor en la matrícula de las carreras de pedagogía\n",
    "* Ver el efecto de los programas de motivación a que las mujeres se matriculen en carreras STEM, ver una evolución a lo largo de los años\n",
    "\n",
    "Podemos analizar las columnas según su información y hacer un primer filtro según si aportan a este enfoque\n"
   ]
  },
  {
   "cell_type": "code",
   "execution_count": 5,
   "metadata": {},
   "outputs": [
    {
     "name": "stdout",
     "output_type": "stream",
     "text": [
      "El DataFrame esta compuesto por las siguientes columnas:\n",
      "Año\n",
      "Cód. Institución\n",
      "Nombre Institución\n",
      "Tipo Institución\n",
      "Clasificación1\n",
      "Clasificación2\n",
      "Clasificación3\n",
      "Clasificación4\n",
      "Clasificación5\n",
      "Clasificación6\n",
      "Nombre de la Sede\n",
      "Comuna donde se imparte la carrera o programa\n",
      "Nombre Region\n",
      "Orden Geográfico de la Región (Norte aSur)\n",
      "Cód. Carrera\n",
      "Carrera Genérica\n",
      "Nombre Programa\n",
      "Mención o Especialidad\n",
      "Horario\n",
      "Tipo Programa\n",
      "Area Conocimiento\n",
      "idgenerocarrera\n",
      "Tipo Carrera\n",
      "IngresoDirecto\n",
      "Año Inicio Actividades\n",
      "Nombre del Campus\n",
      "Duración (en semestres)\n",
      "Cód. Campus\n",
      "Cód. Sede\n",
      "Título\n",
      "Grado Académico\n",
      "Máximo Puntaje (promedio matemáticas y lenguaje)\n",
      "Promedio Puntaje (promedio matemáticas y lenguaje)\n",
      "Mínimo Puntaje (promedio matemáticas y lenguaje)\n",
      "Puntaje de corte (primer seleccionado)\n",
      "Puntaje de corte (promedio de la carrera)\n",
      "Puntaje de corte (último seleccionado)\n",
      "Máximo Puntaje NEM\n",
      "Promedio Puntaje NEM\n",
      "Mínimo Puntaje NEM\n",
      "Máximo Puntaje Ranking\n",
      "Promedio Puntaje Ranking\n",
      "Mínimo Puntaje Ranking\n",
      "Nº Alumnos Ingreso Via PSU o PDT\n",
      "Nº Alumnos Ingreso Otra Via\n",
      "Valor de matrícula\n",
      "Valor de arancel\n",
      "Valor del Título\n",
      "Tipo Moneda\n",
      "Vacantes\n",
      "Matrícula primer año hombres\n",
      "Matrícula primer año mujeres\n",
      "Matrícula primer año extranjeros\n",
      "Matrícula Primer Año\n",
      "Matrícula total hombres\n",
      "Matrícula total mujeres\n",
      "Matrícula total extranjeros\n",
      "Matrícula Total\n",
      "Códgo SIES\n",
      "Pregrado/Posgrado\n"
     ]
    }
   ],
   "source": [
    "# Columnas del dataframe\n",
    "print(\"El DataFrame esta compuesto por las siguientes columnas:\")\n",
    "columns = list(df.columns)\n",
    "for i in columns:\n",
    "    print(i)"
   ]
  },
  {
   "cell_type": "markdown",
   "metadata": {},
   "source": [
    "Notemos que la base de datos contiene la información de carreras por año, en donde hay data del año sobre las matriculas, la carrera, la institución. Hay columnas que de por sí no nos entregan información relevante a lo que buscamos o se puede extraer de otras columnas, como el orden geografico de la región, las menciones o especialidades, el idgenerocarrera, el nombre del campus, cód. campus y sede, Código SIES.\n",
    "\n",
    "Por otro lado, si bien nos interesan los puntajes, con la información del premedio basta para nuestro analisis"
   ]
  },
  {
   "cell_type": "code",
   "execution_count": 6,
   "metadata": {},
   "outputs": [],
   "source": [
    "# Eliminamos esas columnas\n",
    "df = df.drop(['Nombre de la Sede', 'Orden Geográfico de la Región (Norte aSur)', 'Mención o Especialidad', 'idgenerocarrera', 'Cód. Campus', 'Cód. Sede', 'Códgo SIES'], axis=1)"
   ]
  },
  {
   "cell_type": "code",
   "execution_count": 7,
   "metadata": {},
   "outputs": [],
   "source": [
    "# Eliminamos máximos\n",
    "df = df.drop(['Máximo Puntaje (promedio matemáticas y lenguaje)', 'Máximo Puntaje NEM', 'Máximo Puntaje Ranking'], axis=1)\n",
    "\n",
    "# Eliminamos mínimos\n",
    "df = df.drop(['Mínimo Puntaje (promedio matemáticas y lenguaje)', 'Mínimo Puntaje NEM', 'Mínimo Puntaje Ranking'], axis=1)"
   ]
  },
  {
   "cell_type": "code",
   "execution_count": 8,
   "metadata": {},
   "outputs": [
    {
     "name": "stdout",
     "output_type": "stream",
     "text": [
      "Cantidad de valores únicos por columna: \n",
      " \n",
      "Año                                                      19\n",
      "Cód. Institución                                        247\n",
      "Nombre Institución                                      247\n",
      "Tipo Institución                                          4\n",
      "Clasificación1                                            6\n",
      "Clasificación2                                            8\n",
      "Clasificación3                                            2\n",
      "Clasificación4                                            6\n",
      "Clasificación5                                            2\n",
      "Clasificación6                                            4\n",
      "Comuna donde se imparte la carrera o programa           127\n",
      "Nombre Region                                            16\n",
      "Cód. Carrera                                          33071\n",
      "Carrera Genérica                                        294\n",
      "Nombre Programa                                        7935\n",
      "Horario                                                   3\n",
      "Tipo Programa                                             2\n",
      "Area Conocimiento                                        11\n",
      "Tipo Carrera                                             12\n",
      "IngresoDirecto                                            2\n",
      "Año Inicio Actividades                                  107\n",
      "Nombre del Campus                                       282\n",
      "Duración (en semestres)                                  15\n",
      "Título                                                 5749\n",
      "Grado Académico                                        3136\n",
      "Promedio Puntaje (promedio matemáticas y lenguaje)      532\n",
      "Puntaje de corte (primer seleccionado)                  626\n",
      "Puntaje de corte (promedio de la carrera)               534\n",
      "Puntaje de corte (último seleccionado)                  619\n",
      "Promedio Puntaje NEM                                    545\n",
      "Promedio Puntaje Ranking                                566\n",
      "Nº Alumnos Ingreso Via PSU o PDT                        442\n",
      "Nº Alumnos Ingreso Otra Via                             429\n",
      "Valor de matrícula                                     3226\n",
      "Valor de arancel                                      19439\n",
      "Valor del Título                                       4453\n",
      "Tipo Moneda                                               5\n",
      "Vacantes                                                445\n",
      "Matrícula primer año hombres                            407\n",
      "Matrícula primer año mujeres                            382\n",
      "Matrícula primer año extranjeros                         75\n",
      "Matrícula Primer Año                                    578\n",
      "Matrícula total hombres                                 972\n",
      "Matrícula total mujeres                                 973\n",
      "Matrícula total extranjeros                             141\n",
      "Matrícula Total                                        1459\n",
      "Pregrado/Posgrado                                         2\n",
      "dtype: int64 \n",
      " \n"
     ]
    }
   ],
   "source": [
    "# Identifiquemos los valores únicos por columna\n",
    "unicos = df.nunique()\n",
    "print(f\"Cantidad de valores únicos por columna: \\n \\n{unicos} \\n \")"
   ]
  },
  {
   "cell_type": "markdown",
   "metadata": {},
   "source": [
    "De esto podemos notar que hay columnas que tienen pocos valores unicos, por lo que deben ser una especie de clasificación y por tanto es importanter ver si estas entregan una información relevante."
   ]
  },
  {
   "cell_type": "code",
   "execution_count": 9,
   "metadata": {},
   "outputs": [
    {
     "name": "stdout",
     "output_type": "stream",
     "text": [
      "Valores únicos de la columna Clasificación1: \n",
      " \n",
      "['(a) Universidades CRUCH' '(b) Universidades Privadas'\n",
      " '(c) Institutos Profesionales' '(d) Centros de Formación Técnica'\n",
      " '(e) Centros de Formación Técnica Estatales' '(f) F.F.A.A.'] \n",
      " \n",
      "Valores únicos de la columna Clasificación2: \n",
      " \n",
      "['(a) Universidades Estatales CRUCH' '(b) Universidades Privadas CRUCH'\n",
      " '(d) Universidades Privadas' '(c) Univ. Privadas Adscritas SUA'\n",
      " '(e) Institutos Profesionales' '(f) Centros de Formación Técnica'\n",
      " '(g) Centros de Formación Técnica Estatales' '(h) F.F.A.A.'] \n",
      " \n",
      "Valores únicos de la columna Clasificación3: \n",
      " \n",
      "['(a) Acreditada' '(b) No Acreditada'] \n",
      " \n",
      "Valores únicos de la columna Clasificación4: \n",
      " \n",
      "['(a) Autónoma' '(e) Cerrada' '(b) Licenciamiento' '(e) F.F.A.A.'\n",
      " '(c) Examinación' '(d) Supervisión'] \n",
      " \n",
      "Valores únicos de la columna Clasificación5: \n",
      " \n",
      "['(a) Adscritas a Gratuidad' '(b) No Adscritas/No Aplica'] \n",
      " \n",
      "Valores únicos de la columna Clasificación6: \n",
      " \n",
      "['(a) Subsistema Universitario' '(c) No adscrito'\n",
      " '(b) Subsistema Técnico Profesional' '(d) F.F.A.A.'] \n",
      " \n",
      "Valores únicos de la columna Horario: \n",
      " \n",
      "['Diurno' 'Vespertino' 'Otro'] \n",
      " \n",
      "Valores únicos de la columna Tipo Programa: \n",
      " \n",
      "['Programa Regular' 'Programa Especial'] \n",
      " \n",
      "Valores únicos de la columna IngresoDirecto: \n",
      " \n",
      "['Ingreso Directo' 'No es Ingreso Directo'] \n",
      " \n",
      "Valores únicos de la columna Tipo Moneda: \n",
      " \n",
      "['Pesos     ' 'PESOS     ' 'pesos     ' 'UF        ' 'Pesos'] \n",
      " \n",
      "Valores únicos de la columna Pregrado/Posgrado: \n",
      " \n",
      "['Pregrado' 'Posgrado'] \n",
      " \n"
     ]
    }
   ],
   "source": [
    "interes1 = ['Clasificación1', 'Clasificación2', 'Clasificación3', 'Clasificación4', 'Clasificación5', 'Clasificación6']\n",
    "for column in interes1:\n",
    "    print(f\"Valores únicos de la columna {column}: \\n \\n{df[column].unique()} \\n \")\n",
    "\n",
    "interes2 = ['Horario', 'Tipo Programa', 'IngresoDirecto', 'Tipo Moneda', \"Pregrado/Posgrado\"]\n",
    "for column in interes2:\n",
    "    print(f\"Valores únicos de la columna {column}: \\n \\n{df[column].unique() } \\n \")"
   ]
  },
  {
   "cell_type": "markdown",
   "metadata": {},
   "source": [
    "Según lo que estamos buscando, dentro de las clasificaciones, la columna \"Clasificación2\" entrega una sub caracterizacipon de la columna \"Clasificación1\" por lo que no entrega información relevante según nuestro enfoque. Por otro lado, se puede observar que en la columna \"Tipo Moneda\" en verdad son loslo 2 opciones que una de ellas está escrita de forma distinta por lo que hay que corregir esa columna. Por último, la comuna de \"Pregrado/posgrado\" hay que revisar la frecuencia de estas, para elegir si enfocarnos en las matrículas especificas de alguna de ellas o en general."
   ]
  },
  {
   "cell_type": "code",
   "execution_count": 10,
   "metadata": {},
   "outputs": [
    {
     "name": "stdout",
     "output_type": "stream",
     "text": [
      "Existen 83.78684755431429% datos de pregrado y 16.21315244568571% datos de posgrado\n"
     ]
    }
   ],
   "source": [
    "#df = df.drop(['Clasificación2'], axis=1)\n",
    "\n",
    "# Reemplazamos los valores de la columna Tipo Moneda a Pesos si la variable es PESOS\n",
    "df['Tipo Moneda'] = df['Tipo Moneda'].replace('PESOS     ', 'Pesos')\n",
    "df['Tipo Moneda'] = df['Tipo Moneda'].replace('Pesos     ', 'Pesos')\n",
    "df['Tipo Moneda'] = df['Tipo Moneda'].replace('pesos     ', 'Pesos')\n",
    "df['Tipo Moneda'] = df['Tipo Moneda'].replace('UF        ', 'UF')\n",
    "\n",
    "\n",
    "print(f\"Existen {100*sum(df['Pregrado/Posgrado']=='Pregrado')/len(df['Pregrado/Posgrado'])}% datos de pregrado y {100*sum(df['Pregrado/Posgrado']=='Posgrado')/len(df['Pregrado/Posgrado'])}% datos de posgrado\")"
   ]
  },
  {
   "cell_type": "markdown",
   "metadata": {},
   "source": [
    "Como exite un claro desbalanceo en esta clasificación, solo nos quedamos con las matrículas de pregrado"
   ]
  },
  {
   "cell_type": "code",
   "execution_count": 11,
   "metadata": {},
   "outputs": [],
   "source": [
    "df = df.drop(df[df[\"Pregrado/Posgrado\"] == \"Posgrado\"].index)"
   ]
  },
  {
   "cell_type": "code",
   "execution_count": 12,
   "metadata": {},
   "outputs": [
    {
     "name": "stdout",
     "output_type": "stream",
     "text": [
      "Porcentaje valores vacios por columna: \n",
      " \n",
      "Año                                                    0.000000\n",
      "Cód. Institución                                       0.000000\n",
      "Nombre Institución                                     0.000000\n",
      "Tipo Institución                                       0.000000\n",
      "Clasificación1                                         0.000000\n",
      "Clasificación2                                         0.000000\n",
      "Clasificación3                                         0.000000\n",
      "Clasificación4                                         0.000000\n",
      "Clasificación5                                         0.000000\n",
      "Clasificación6                                         0.000000\n",
      "Comuna donde se imparte la carrera o programa          0.000000\n",
      "Nombre Region                                          0.000000\n",
      "Cód. Carrera                                           0.000000\n",
      "Carrera Genérica                                       0.000000\n",
      "Nombre Programa                                        0.000000\n",
      "Horario                                                0.000000\n",
      "Tipo Programa                                          0.000000\n",
      "Area Conocimiento                                      0.000000\n",
      "Tipo Carrera                                           0.000000\n",
      "IngresoDirecto                                         0.000000\n",
      "Año Inicio Actividades                                 0.000000\n",
      "Nombre del Campus                                     57.032345\n",
      "Duración (en semestres)                                0.394974\n",
      "Título                                                 2.038155\n",
      "Grado Académico                                       67.102011\n",
      "Promedio Puntaje (promedio matemáticas y lenguaje)    78.327687\n",
      "Puntaje de corte (primer seleccionado)                81.435656\n",
      "Puntaje de corte (promedio de la carrera)             81.488574\n",
      "Puntaje de corte (último seleccionado)                80.325472\n",
      "Promedio Puntaje NEM                                  89.012182\n",
      "Promedio Puntaje Ranking                              89.580094\n",
      "Nº Alumnos Ingreso Via PSU o PDT                      77.453724\n",
      "Nº Alumnos Ingreso Otra Via                           61.868600\n",
      "Valor de matrícula                                    21.934720\n",
      "Valor de arancel                                      25.370016\n",
      "Valor del Título                                      15.108863\n",
      "Tipo Moneda                                            0.000000\n",
      "Vacantes                                              23.459518\n",
      "Matrícula primer año hombres                           9.789802\n",
      "Matrícula primer año mujeres                           9.934371\n",
      "Matrícula primer año extranjeros                      28.702203\n",
      "Matrícula Primer Año                                   0.000000\n",
      "Matrícula total hombres                                1.445148\n",
      "Matrícula total mujeres                                1.646454\n",
      "Matrícula total extranjeros                           24.681538\n",
      "Matrícula Total                                        0.000000\n",
      "Pregrado/Posgrado                                      0.000000\n",
      "dtype: float64 \n",
      " \n"
     ]
    }
   ],
   "source": [
    "# Identifiquemos los valores nulos\n",
    "vacios = df.isnull().sum()\n",
    "print(f\"Porcentaje valores vacios por columna: \\n \\n{100*vacios/df.shape[0]} \\n \")\n"
   ]
  },
  {
   "cell_type": "code",
   "execution_count": 13,
   "metadata": {},
   "outputs": [
    {
     "data": {
      "text/plain": [
       "(183303, 47)"
      ]
     },
     "execution_count": 13,
     "metadata": {},
     "output_type": "execute_result"
    }
   ],
   "source": [
    "df.shape"
   ]
  },
  {
   "cell_type": "markdown",
   "metadata": {},
   "source": [
    "Debido a que el porcentaje de nulos en la parte de puntajes es extremadamente alta, este dataset no nos permite realizar un estudio por medio de los puntajes, pero si por medio de los matriculados, tipo de institución. \n",
    "\n",
    "Se propone complementar este dataset con otro que incluye información de la infraestructutra de las universidades."
   ]
  },
  {
   "cell_type": "code",
   "execution_count": 14,
   "metadata": {},
   "outputs": [],
   "source": [
    "df_inmueble = pd.read_excel('./data/indices_institucional_2005_2022.xlsx', sheet_name='Inmuebles')\n",
    "df_labs = pd.read_excel('./data/indices_institucional_2005_2022.xlsx', sheet_name='Laboratorios y Talleres')"
   ]
  },
  {
   "cell_type": "code",
   "execution_count": 15,
   "metadata": {},
   "outputs": [
    {
     "name": "stdout",
     "output_type": "stream",
     "text": [
      "El DataFrame esta compuesto por las siguientes columnas:\n",
      "Tipo Institución\n",
      "Cód. Institución\n",
      "Nombre Institución\n",
      "idInstitucion\n",
      "idSede\n",
      "Sede\n",
      "Año Información\n",
      "N° Inmuebles\n",
      "M2 Terreno\n",
      "M2 Construido\n",
      "M2 Salas\n",
      "Nº Oficinas\n",
      "Nº Salas\n",
      "Conectividad Megas\n"
     ]
    }
   ],
   "source": [
    "# Columnas del dataframe\n",
    "print(\"El DataFrame esta compuesto por las siguientes columnas:\")\n",
    "columns_in = list(df_inmueble.columns)\n",
    "for i in columns_in:\n",
    "    print(i)"
   ]
  },
  {
   "cell_type": "code",
   "execution_count": 16,
   "metadata": {},
   "outputs": [
    {
     "name": "stdout",
     "output_type": "stream",
     "text": [
      "Porcentaje valores vacios por columna: \n",
      " \n",
      "Tipo Institución       0.000000\n",
      "Cód. Institución       0.000000\n",
      "Nombre Institución     0.000000\n",
      "idInstitucion          0.000000\n",
      "idSede                 0.000000\n",
      "Sede                   0.000000\n",
      "Año Información        0.000000\n",
      "N° Inmuebles           1.631461\n",
      "M2 Terreno             2.095140\n",
      "M2 Construido          1.597115\n",
      "M2 Salas               4.619612\n",
      "Nº Oficinas           11.523270\n",
      "Nº Salas               2.953804\n",
      "Conectividad Megas    76.867594\n",
      "dtype: float64 \n",
      " \n"
     ]
    }
   ],
   "source": [
    "# Identifiquemos los valores nulos\n",
    "vacios_in = df_inmueble.isnull().sum()\n",
    "print(f\"Porcentaje valores vacios por columna: \\n \\n{100*vacios_in/df_inmueble.shape[0]} \\n \")"
   ]
  },
  {
   "cell_type": "code",
   "execution_count": 17,
   "metadata": {},
   "outputs": [],
   "source": [
    "# Eliminamos columnas que no nos interesan\n",
    "df_inmueble = df_inmueble.drop(['Tipo Institución', 'Nombre Institución', 'idInstitucion', 'idSede', 'Sede', 'Conectividad Megas'], axis=1)"
   ]
  },
  {
   "cell_type": "code",
   "execution_count": 18,
   "metadata": {},
   "outputs": [
    {
     "name": "stdout",
     "output_type": "stream",
     "text": [
      "El DataFrame esta compuesto por las siguientes columnas:\n",
      "Tipo Institución\n",
      "Cód. Institución\n",
      "Nombre Institución\n",
      "idSede\n",
      "Sede\n",
      "Año Proceso\n",
      "Nº Laboratorios\n",
      "M2 Construido\n",
      "Nº de PC para alumnos\n",
      "N° Computadores con Internet\n"
     ]
    }
   ],
   "source": [
    "# Columnas del dataframe\n",
    "print(\"El DataFrame esta compuesto por las siguientes columnas:\")\n",
    "columns_lab = list(df_labs.columns)\n",
    "for i in columns_lab:\n",
    "    print(i)"
   ]
  },
  {
   "cell_type": "code",
   "execution_count": 19,
   "metadata": {},
   "outputs": [
    {
     "name": "stdout",
     "output_type": "stream",
     "text": [
      "Porcentaje valores vacios por columna: \n",
      " \n",
      "Tipo Institución                0.000000\n",
      "Cód. Institución                0.000000\n",
      "Nombre Institución              0.000000\n",
      "idSede                          0.000000\n",
      "Sede                            0.000000\n",
      "Año Proceso                     0.000000\n",
      "Nº Laboratorios                 0.987965\n",
      "M2 Construido                   1.508892\n",
      "Nº de PC para alumnos           3.646488\n",
      "N° Computadores con Internet    3.969822\n",
      "dtype: float64 \n",
      " \n"
     ]
    }
   ],
   "source": [
    "# Identifiquemos los valores nulos\n",
    "vacios_lab = df_labs.isnull().sum()\n",
    "print(f\"Porcentaje valores vacios por columna: \\n \\n{100*vacios_lab/df_labs.shape[0]} \\n \")"
   ]
  },
  {
   "cell_type": "code",
   "execution_count": 20,
   "metadata": {},
   "outputs": [],
   "source": [
    "# Eliminamos columnas que no nos interesan\n",
    "df_labs = df_labs.drop(['Tipo Institución', 'Nombre Institución', 'idSede', 'Sede'], axis=1)"
   ]
  },
  {
   "cell_type": "code",
   "execution_count": 21,
   "metadata": {},
   "outputs": [],
   "source": [
    "# Arreglamos columna Año\n",
    "df_inmueble = df_inmueble.rename(columns={'Año Información':'Año'})\n",
    "df_labs = df_labs.rename(columns={'Año Proceso':'Año'})\n",
    "\n",
    "df_inmueble['Año'] = pd.to_datetime(df_inmueble['Año'], format='%Y')\n",
    "df_labs['Año'] = pd.to_datetime(df_labs['Año'], format='%Y')\n",
    "df['Año'] = pd.to_datetime(df['Año'], format='%Y')"
   ]
  },
  {
   "cell_type": "code",
   "execution_count": 28,
   "metadata": {},
   "outputs": [],
   "source": [
    "# unimos\n",
    "\n",
    "df_final = pd.merge(df, df_inmueble, on=['Año','Cód. Institución'], how='left')\n",
    "df_final = pd.merge(df_final, df_labs, on=['Año', 'Cód. Institución'], how='left')"
   ]
  },
  {
   "cell_type": "code",
   "execution_count": 29,
   "metadata": {},
   "outputs": [
    {
     "name": "stdout",
     "output_type": "stream",
     "text": [
      "Porcentaje valores vacios por columna: \n",
      " \n",
      "Año                                                    0.000000\n",
      "Cód. Institución                                       0.000000\n",
      "Nombre Institución                                     0.000000\n",
      "Tipo Institución                                       0.000000\n",
      "Clasificación1                                         0.000000\n",
      "Clasificación2                                         0.000000\n",
      "Clasificación3                                         0.000000\n",
      "Clasificación4                                         0.000000\n",
      "Clasificación5                                         0.000000\n",
      "Clasificación6                                         0.000000\n",
      "Comuna donde se imparte la carrera o programa          0.000000\n",
      "Nombre Region                                          0.000000\n",
      "Cód. Carrera                                           0.000000\n",
      "Carrera Genérica                                       0.000000\n",
      "Nombre Programa                                        0.000000\n",
      "Horario                                                0.000000\n",
      "Tipo Programa                                          0.000000\n",
      "Area Conocimiento                                      0.000000\n",
      "Tipo Carrera                                           0.000000\n",
      "IngresoDirecto                                         0.000000\n",
      "Año Inicio Actividades                                 0.000000\n",
      "Nombre del Campus                                     78.246672\n",
      "Duración (en semestres)                                0.324295\n",
      "Título                                                 0.607048\n",
      "Grado Académico                                       85.415353\n",
      "Promedio Puntaje (promedio matemáticas y lenguaje)    92.153570\n",
      "Puntaje de corte (primer seleccionado)                93.914187\n",
      "Puntaje de corte (promedio de la carrera)             93.921673\n",
      "Puntaje de corte (último seleccionado)                93.430341\n",
      "Promedio Puntaje NEM                                  98.084848\n",
      "Promedio Puntaje Ranking                              98.178350\n",
      "Nº Alumnos Ingreso Via PSU o PDT                      91.763170\n",
      "Nº Alumnos Ingreso Otra Via                           63.775272\n",
      "Valor de matrícula                                    27.069786\n",
      "Valor de arancel                                      29.459191\n",
      "Valor del Título                                      23.477441\n",
      "Tipo Moneda                                            0.000000\n",
      "Vacantes                                              24.025606\n",
      "Matrícula primer año hombres                          10.358189\n",
      "Matrícula primer año mujeres                          10.975490\n",
      "Matrícula primer año extranjeros                      30.688700\n",
      "Matrícula Primer Año                                   0.000000\n",
      "Matrícula total hombres                                1.582787\n",
      "Matrícula total mujeres                                2.509179\n",
      "Matrícula total extranjeros                           28.858229\n",
      "Matrícula Total                                        0.000000\n",
      "Pregrado/Posgrado                                      0.000000\n",
      "N° Inmuebles                                           1.128047\n",
      "M2 Terreno                                             2.701331\n",
      "M2 Construido_x                                        1.175839\n",
      "M2 Salas                                               4.090004\n",
      "Nº Oficinas                                           35.218891\n",
      "Nº Salas                                               2.724461\n",
      "Nº Laboratorios                                        1.358752\n",
      "M2 Construido_y                                        1.503673\n",
      "Nº de PC para alumnos                                  4.978019\n",
      "N° Computadores con Internet                           5.049007\n",
      "dtype: float64 \n",
      " \n"
     ]
    }
   ],
   "source": [
    "# Identifiquemos los valores nulos\n",
    "vacios_fin = df_final.isnull().sum()\n",
    "print(f\"Porcentaje valores vacios por columna: \\n \\n{100*vacios_fin/df_final.shape[0]} \\n \")"
   ]
  },
  {
   "cell_type": "code",
   "execution_count": null,
   "metadata": {},
   "outputs": [],
   "source": []
  },
  {
   "cell_type": "code",
   "execution_count": null,
   "metadata": {},
   "outputs": [],
   "source": []
  },
  {
   "cell_type": "code",
   "execution_count": null,
   "metadata": {},
   "outputs": [],
   "source": []
  }
 ],
 "metadata": {
  "kernelspec": {
   "display_name": "Python 3",
   "language": "python",
   "name": "python3"
  },
  "language_info": {
   "codemirror_mode": {
    "name": "ipython",
    "version": 3
   },
   "file_extension": ".py",
   "mimetype": "text/x-python",
   "name": "python",
   "nbconvert_exporter": "python",
   "pygments_lexer": "ipython3",
   "version": "3.11.4"
  }
 },
 "nbformat": 4,
 "nbformat_minor": 2
}
