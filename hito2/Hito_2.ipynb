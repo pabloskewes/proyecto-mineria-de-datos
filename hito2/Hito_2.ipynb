{
 "cells": [
  {
   "cell_type": "markdown",
   "metadata": {},
   "source": [
    "****Hito 2****\n"
   ]
  },
  {
   "cell_type": "code",
   "execution_count": 2,
   "metadata": {},
   "outputs": [],
   "source": [
    "# importar librerías\n",
    "\n",
    "from pathlib import Path\n",
    "import pandas as pd\n",
    "import matplotlib.pyplot as plt\n",
    "from sklearn import datasets\n",
    "from sklearn.metrics import f1_score, recall_score, precision_score, accuracy_score\n",
    "from sklearn.model_selection import train_test_split\n"
   ]
  },
  {
   "cell_type": "code",
   "execution_count": 3,
   "metadata": {},
   "outputs": [],
   "source": [
    "# importar datos de la carpeta data\n",
    "DATA_DIR = Path('./data').resolve()\n",
    "\n",
    "df = pd.read_excel('./data/base_indices_2005-2023.xlsx', sheet_name='BaseINDICES_2005_2023')"
   ]
  },
  {
   "cell_type": "code",
   "execution_count": null,
   "metadata": {},
   "outputs": [
    {
     "data": {
      "text/html": [
       "<div>\n",
       "<style scoped>\n",
       "    .dataframe tbody tr th:only-of-type {\n",
       "        vertical-align: middle;\n",
       "    }\n",
       "\n",
       "    .dataframe tbody tr th {\n",
       "        vertical-align: top;\n",
       "    }\n",
       "\n",
       "    .dataframe thead th {\n",
       "        text-align: right;\n",
       "    }\n",
       "</style>\n",
       "<table border=\"1\" class=\"dataframe\">\n",
       "  <thead>\n",
       "    <tr style=\"text-align: right;\">\n",
       "      <th></th>\n",
       "      <th>Año</th>\n",
       "      <th>Cód. Institución</th>\n",
       "      <th>Nombre Institución</th>\n",
       "      <th>Tipo Institución</th>\n",
       "      <th>Clasificación1</th>\n",
       "      <th>Clasificación2</th>\n",
       "      <th>Clasificación3</th>\n",
       "      <th>Clasificación4</th>\n",
       "      <th>Clasificación5</th>\n",
       "      <th>Clasificación6</th>\n",
       "      <th>...</th>\n",
       "      <th>Matrícula primer año hombres</th>\n",
       "      <th>Matrícula primer año mujeres</th>\n",
       "      <th>Matrícula primer año extranjeros</th>\n",
       "      <th>Matrícula Primer Año</th>\n",
       "      <th>Matrícula total hombres</th>\n",
       "      <th>Matrícula total mujeres</th>\n",
       "      <th>Matrícula total extranjeros</th>\n",
       "      <th>Matrícula Total</th>\n",
       "      <th>Códgo SIES</th>\n",
       "      <th>Pregrado/Posgrado</th>\n",
       "    </tr>\n",
       "  </thead>\n",
       "  <tbody>\n",
       "    <tr>\n",
       "      <th>0</th>\n",
       "      <td>2023</td>\n",
       "      <td>1001</td>\n",
       "      <td>U. DE CHILE</td>\n",
       "      <td>Univ.</td>\n",
       "      <td>(a) Universidades CRUCH</td>\n",
       "      <td>(a) Universidades Estatales CRUCH</td>\n",
       "      <td>(a) Acreditada</td>\n",
       "      <td>(a) Autónoma</td>\n",
       "      <td>(a) Adscritas a Gratuidad</td>\n",
       "      <td>(a) Subsistema Universitario</td>\n",
       "      <td>...</td>\n",
       "      <td>68.0</td>\n",
       "      <td>82.0</td>\n",
       "      <td>2.0</td>\n",
       "      <td>150</td>\n",
       "      <td>302.0</td>\n",
       "      <td>392.0</td>\n",
       "      <td>5.0</td>\n",
       "      <td>694</td>\n",
       "      <td>I70S1C1J1V2</td>\n",
       "      <td>Pregrado</td>\n",
       "    </tr>\n",
       "    <tr>\n",
       "      <th>1</th>\n",
       "      <td>2023</td>\n",
       "      <td>1001</td>\n",
       "      <td>U. DE CHILE</td>\n",
       "      <td>Univ.</td>\n",
       "      <td>(a) Universidades CRUCH</td>\n",
       "      <td>(a) Universidades Estatales CRUCH</td>\n",
       "      <td>(a) Acreditada</td>\n",
       "      <td>(a) Autónoma</td>\n",
       "      <td>(a) Adscritas a Gratuidad</td>\n",
       "      <td>(a) Subsistema Universitario</td>\n",
       "      <td>...</td>\n",
       "      <td>54.0</td>\n",
       "      <td>45.0</td>\n",
       "      <td>10.0</td>\n",
       "      <td>99</td>\n",
       "      <td>191.0</td>\n",
       "      <td>205.0</td>\n",
       "      <td>23.0</td>\n",
       "      <td>396</td>\n",
       "      <td>I70S1C814J1V1</td>\n",
       "      <td>Pregrado</td>\n",
       "    </tr>\n",
       "    <tr>\n",
       "      <th>2</th>\n",
       "      <td>2023</td>\n",
       "      <td>1001</td>\n",
       "      <td>U. DE CHILE</td>\n",
       "      <td>Univ.</td>\n",
       "      <td>(a) Universidades CRUCH</td>\n",
       "      <td>(a) Universidades Estatales CRUCH</td>\n",
       "      <td>(a) Acreditada</td>\n",
       "      <td>(a) Autónoma</td>\n",
       "      <td>(a) Adscritas a Gratuidad</td>\n",
       "      <td>(a) Subsistema Universitario</td>\n",
       "      <td>...</td>\n",
       "      <td>353.0</td>\n",
       "      <td>234.0</td>\n",
       "      <td>16.0</td>\n",
       "      <td>587</td>\n",
       "      <td>1535.0</td>\n",
       "      <td>1126.0</td>\n",
       "      <td>52.0</td>\n",
       "      <td>2661</td>\n",
       "      <td>I70S1C58J1V1</td>\n",
       "      <td>Pregrado</td>\n",
       "    </tr>\n",
       "    <tr>\n",
       "      <th>3</th>\n",
       "      <td>2023</td>\n",
       "      <td>1001</td>\n",
       "      <td>U. DE CHILE</td>\n",
       "      <td>Univ.</td>\n",
       "      <td>(a) Universidades CRUCH</td>\n",
       "      <td>(a) Universidades Estatales CRUCH</td>\n",
       "      <td>(a) Acreditada</td>\n",
       "      <td>(a) Autónoma</td>\n",
       "      <td>(a) Adscritas a Gratuidad</td>\n",
       "      <td>(a) Subsistema Universitario</td>\n",
       "      <td>...</td>\n",
       "      <td>101.0</td>\n",
       "      <td>86.0</td>\n",
       "      <td>10.0</td>\n",
       "      <td>187</td>\n",
       "      <td>395.0</td>\n",
       "      <td>358.0</td>\n",
       "      <td>27.0</td>\n",
       "      <td>753</td>\n",
       "      <td>I70S1C816J1V1</td>\n",
       "      <td>Pregrado</td>\n",
       "    </tr>\n",
       "    <tr>\n",
       "      <th>4</th>\n",
       "      <td>2023</td>\n",
       "      <td>1001</td>\n",
       "      <td>U. DE CHILE</td>\n",
       "      <td>Univ.</td>\n",
       "      <td>(a) Universidades CRUCH</td>\n",
       "      <td>(a) Universidades Estatales CRUCH</td>\n",
       "      <td>(a) Acreditada</td>\n",
       "      <td>(a) Autónoma</td>\n",
       "      <td>(a) Adscritas a Gratuidad</td>\n",
       "      <td>(a) Subsistema Universitario</td>\n",
       "      <td>...</td>\n",
       "      <td>76.0</td>\n",
       "      <td>56.0</td>\n",
       "      <td>4.0</td>\n",
       "      <td>132</td>\n",
       "      <td>378.0</td>\n",
       "      <td>268.0</td>\n",
       "      <td>6.0</td>\n",
       "      <td>646</td>\n",
       "      <td>I70S1C47J1V1</td>\n",
       "      <td>Pregrado</td>\n",
       "    </tr>\n",
       "  </tbody>\n",
       "</table>\n",
       "<p>5 rows × 60 columns</p>\n",
       "</div>"
      ],
      "text/plain": [
       "    Año  Cód. Institución Nombre Institución Tipo Institución  \\\n",
       "0  2023              1001        U. DE CHILE            Univ.   \n",
       "1  2023              1001        U. DE CHILE            Univ.   \n",
       "2  2023              1001        U. DE CHILE            Univ.   \n",
       "3  2023              1001        U. DE CHILE            Univ.   \n",
       "4  2023              1001        U. DE CHILE            Univ.   \n",
       "\n",
       "            Clasificación1                     Clasificación2  Clasificación3  \\\n",
       "0  (a) Universidades CRUCH  (a) Universidades Estatales CRUCH  (a) Acreditada   \n",
       "1  (a) Universidades CRUCH  (a) Universidades Estatales CRUCH  (a) Acreditada   \n",
       "2  (a) Universidades CRUCH  (a) Universidades Estatales CRUCH  (a) Acreditada   \n",
       "3  (a) Universidades CRUCH  (a) Universidades Estatales CRUCH  (a) Acreditada   \n",
       "4  (a) Universidades CRUCH  (a) Universidades Estatales CRUCH  (a) Acreditada   \n",
       "\n",
       "  Clasificación4             Clasificación5                Clasificación6  \\\n",
       "0   (a) Autónoma  (a) Adscritas a Gratuidad  (a) Subsistema Universitario   \n",
       "1   (a) Autónoma  (a) Adscritas a Gratuidad  (a) Subsistema Universitario   \n",
       "2   (a) Autónoma  (a) Adscritas a Gratuidad  (a) Subsistema Universitario   \n",
       "3   (a) Autónoma  (a) Adscritas a Gratuidad  (a) Subsistema Universitario   \n",
       "4   (a) Autónoma  (a) Adscritas a Gratuidad  (a) Subsistema Universitario   \n",
       "\n",
       "   ... Matrícula primer año hombres Matrícula primer año mujeres  \\\n",
       "0  ...                         68.0                         82.0   \n",
       "1  ...                         54.0                         45.0   \n",
       "2  ...                        353.0                        234.0   \n",
       "3  ...                        101.0                         86.0   \n",
       "4  ...                         76.0                         56.0   \n",
       "\n",
       "  Matrícula primer año extranjeros  Matrícula Primer Año  \\\n",
       "0                              2.0                   150   \n",
       "1                             10.0                    99   \n",
       "2                             16.0                   587   \n",
       "3                             10.0                   187   \n",
       "4                              4.0                   132   \n",
       "\n",
       "   Matrícula total hombres Matrícula total mujeres  \\\n",
       "0                    302.0                   392.0   \n",
       "1                    191.0                   205.0   \n",
       "2                   1535.0                  1126.0   \n",
       "3                    395.0                   358.0   \n",
       "4                    378.0                   268.0   \n",
       "\n",
       "  Matrícula total extranjeros Matrícula Total     Códgo SIES Pregrado/Posgrado  \n",
       "0                         5.0             694    I70S1C1J1V2          Pregrado  \n",
       "1                        23.0             396  I70S1C814J1V1          Pregrado  \n",
       "2                        52.0            2661   I70S1C58J1V1          Pregrado  \n",
       "3                        27.0             753  I70S1C816J1V1          Pregrado  \n",
       "4                         6.0             646   I70S1C47J1V1          Pregrado  \n",
       "\n",
       "[5 rows x 60 columns]"
      ]
     },
     "execution_count": 3,
     "metadata": {},
     "output_type": "execute_result"
    }
   ],
   "source": [
    "df.head()"
   ]
  },
  {
   "cell_type": "code",
   "execution_count": null,
   "metadata": {},
   "outputs": [
    {
     "data": {
      "text/plain": [
       "(218773, 60)"
      ]
     },
     "execution_count": 4,
     "metadata": {},
     "output_type": "execute_result"
    }
   ],
   "source": [
    "df.shape"
   ]
  },
  {
   "cell_type": "markdown",
   "metadata": {},
   "source": [
    "Según el enfoque que llegamos del hito 1\n",
    "donde queremos responder\n",
    "* ¿Se puede predecir el puntaje de corte esperado para el próximo año en función de las tendencias históricas?\n",
    "* ¿Existen grupos con características comunes?\n",
    "* ¿Se pueden agrupar instituciones que tienen perfiles similares de aranceles y puntajes de ingreso?\n",
    "\n",
    "* Ver el efecto en la matrícula en educación superior (universidades) del ingreso de la gratuidad al sistema de becas\n",
    "* Ver el efecto del ingreso de la beca vocación de profesor en la matrícula de las carreras de pedagogía\n",
    "* Ver el efecto de los programas de motivación a que las mujeres se matriculen en carreras STEM, ver una evolución a lo largo de los años\n",
    "\n",
    "Podemos analizar las columnas según su información y hacer un primer filtro según si aportan a este enfoque\n"
   ]
  },
  {
   "cell_type": "code",
   "execution_count": null,
   "metadata": {},
   "outputs": [
    {
     "name": "stdout",
     "output_type": "stream",
     "text": [
      "El DataFrame esta compuesto por las siguientes columnas:\n",
      "Año\n",
      "Cód. Institución\n",
      "Nombre Institución\n",
      "Tipo Institución\n",
      "Clasificación1\n",
      "Clasificación2\n",
      "Clasificación3\n",
      "Clasificación4\n",
      "Clasificación5\n",
      "Clasificación6\n",
      "Nombre de la Sede\n",
      "Comuna donde se imparte la carrera o programa\n",
      "Nombre Region\n",
      "Orden Geográfico de la Región (Norte aSur)\n",
      "Cód. Carrera\n",
      "Carrera Genérica\n",
      "Nombre Programa\n",
      "Mención o Especialidad\n",
      "Horario\n",
      "Tipo Programa\n",
      "Area Conocimiento\n",
      "idgenerocarrera\n",
      "Tipo Carrera\n",
      "IngresoDirecto\n",
      "Año Inicio Actividades\n",
      "Nombre del Campus\n",
      "Duración (en semestres)\n",
      "Cód. Campus\n",
      "Cód. Sede\n",
      "Título\n",
      "Grado Académico\n",
      "Máximo Puntaje (promedio matemáticas y lenguaje)\n",
      "Promedio Puntaje (promedio matemáticas y lenguaje)\n",
      "Mínimo Puntaje (promedio matemáticas y lenguaje)\n",
      "Puntaje de corte (primer seleccionado)\n",
      "Puntaje de corte (promedio de la carrera)\n",
      "Puntaje de corte (último seleccionado)\n",
      "Máximo Puntaje NEM\n",
      "Promedio Puntaje NEM\n",
      "Mínimo Puntaje NEM\n",
      "Máximo Puntaje Ranking\n",
      "Promedio Puntaje Ranking\n",
      "Mínimo Puntaje Ranking\n",
      "Nº Alumnos Ingreso Via PSU o PDT\n",
      "Nº Alumnos Ingreso Otra Via\n",
      "Valor de matrícula\n",
      "Valor de arancel\n",
      "Valor del Título\n",
      "Tipo Moneda\n",
      "Vacantes\n",
      "Matrícula primer año hombres\n",
      "Matrícula primer año mujeres\n",
      "Matrícula primer año extranjeros\n",
      "Matrícula Primer Año\n",
      "Matrícula total hombres\n",
      "Matrícula total mujeres\n",
      "Matrícula total extranjeros\n",
      "Matrícula Total\n",
      "Códgo SIES\n",
      "Pregrado/Posgrado\n"
     ]
    }
   ],
   "source": [
    "# Columnas del dataframe\n",
    "print(\"El DataFrame esta compuesto por las siguientes columnas:\")\n",
    "columns = list(df.columns)\n",
    "for i in columns:\n",
    "    print(i)"
   ]
  },
  {
   "cell_type": "markdown",
   "metadata": {},
   "source": [
    "Notemos que la base de datos contiene la información de carreras por año, en donde hay data del año sobre las matriculas, la carrera, la institución. Hay columnas que de por sí no nos entregan información relevante a lo que buscamos o se puede extraer de otras columnas, como el orden geografico de la región, las menciones o especialidades, el idgenerocarrera, el nombre del campus, cód. campus y sede, Código SIES.\n",
    "\n",
    "Por otro lado, si bien nos interesan los puntajes, con la información del premedio basta para nuestro analisis"
   ]
  },
  {
   "cell_type": "code",
   "execution_count": null,
   "metadata": {},
   "outputs": [],
   "source": [
    "# Eliminamos esas columnas\n",
    "df = df.drop(['Nombre de la Sede', 'Orden Geográfico de la Región (Norte aSur)', 'Mención o Especialidad', 'idgenerocarrera', 'Cód. Campus', 'Cód. Sede', 'Códgo SIES'], axis=1)"
   ]
  },
  {
   "cell_type": "code",
   "execution_count": null,
   "metadata": {},
   "outputs": [],
   "source": [
    "# Eliminamos máximos\n",
    "df = df.drop(['Máximo Puntaje (promedio matemáticas y lenguaje)', 'Máximo Puntaje NEM', 'Máximo Puntaje Ranking'], axis=1)\n",
    "\n",
    "# Eliminamos mínimos\n",
    "df = df.drop(['Mínimo Puntaje (promedio matemáticas y lenguaje)', 'Mínimo Puntaje NEM', 'Mínimo Puntaje Ranking'], axis=1)"
   ]
  },
  {
   "cell_type": "code",
   "execution_count": null,
   "metadata": {},
   "outputs": [
    {
     "name": "stdout",
     "output_type": "stream",
     "text": [
      "Cantidad de valores únicos por columna: \n",
      " \n",
      "Año                                                      19\n",
      "Cód. Institución                                        247\n",
      "Nombre Institución                                      247\n",
      "Tipo Institución                                          4\n",
      "Clasificación1                                            6\n",
      "Clasificación2                                            8\n",
      "Clasificación3                                            2\n",
      "Clasificación4                                            6\n",
      "Clasificación5                                            2\n",
      "Clasificación6                                            4\n",
      "Comuna donde se imparte la carrera o programa           127\n",
      "Nombre Region                                            16\n",
      "Cód. Carrera                                          33071\n",
      "Carrera Genérica                                        294\n",
      "Nombre Programa                                        7935\n",
      "Horario                                                   3\n",
      "Tipo Programa                                             2\n",
      "Area Conocimiento                                        11\n",
      "Tipo Carrera                                             12\n",
      "IngresoDirecto                                            2\n",
      "Año Inicio Actividades                                  107\n",
      "Nombre del Campus                                       282\n",
      "Duración (en semestres)                                  15\n",
      "Título                                                 5749\n",
      "Grado Académico                                        3136\n",
      "Promedio Puntaje (promedio matemáticas y lenguaje)      532\n",
      "Puntaje de corte (primer seleccionado)                  626\n",
      "Puntaje de corte (promedio de la carrera)               534\n",
      "Puntaje de corte (último seleccionado)                  619\n",
      "Promedio Puntaje NEM                                    545\n",
      "Promedio Puntaje Ranking                                566\n",
      "Nº Alumnos Ingreso Via PSU o PDT                        442\n",
      "Nº Alumnos Ingreso Otra Via                             429\n",
      "Valor de matrícula                                     3226\n",
      "Valor de arancel                                      19439\n",
      "Valor del Título                                       4453\n",
      "Tipo Moneda                                               5\n",
      "Vacantes                                                445\n",
      "Matrícula primer año hombres                            407\n",
      "Matrícula primer año mujeres                            382\n",
      "Matrícula primer año extranjeros                         75\n",
      "Matrícula Primer Año                                    578\n",
      "Matrícula total hombres                                 972\n",
      "Matrícula total mujeres                                 973\n",
      "Matrícula total extranjeros                             141\n",
      "Matrícula Total                                        1459\n",
      "Pregrado/Posgrado                                         2\n",
      "dtype: int64 \n",
      " \n"
     ]
    }
   ],
   "source": [
    "# Identifiquemos los valores únicos por columna\n",
    "unicos = df.nunique()\n",
    "print(f\"Cantidad de valores únicos por columna: \\n \\n{unicos} \\n \")"
   ]
  },
  {
   "cell_type": "markdown",
   "metadata": {},
   "source": [
    "De esto podemos notar que hay columnas que tienen pocos valores unicos, por lo que deben ser una especie de clasificación y por tanto es importanter ver si estas entregan una información relevante."
   ]
  },
  {
   "cell_type": "code",
   "execution_count": null,
   "metadata": {},
   "outputs": [
    {
     "name": "stdout",
     "output_type": "stream",
     "text": [
      "Valores únicos de la columna Clasificación1: \n",
      " \n",
      "['(a) Universidades CRUCH' '(b) Universidades Privadas'\n",
      " '(c) Institutos Profesionales' '(d) Centros de Formación Técnica'\n",
      " '(e) Centros de Formación Técnica Estatales' '(f) F.F.A.A.'] \n",
      " \n",
      "Valores únicos de la columna Clasificación2: \n",
      " \n",
      "['(a) Universidades Estatales CRUCH' '(b) Universidades Privadas CRUCH'\n",
      " '(d) Universidades Privadas' '(c) Univ. Privadas Adscritas SUA'\n",
      " '(e) Institutos Profesionales' '(f) Centros de Formación Técnica'\n",
      " '(g) Centros de Formación Técnica Estatales' '(h) F.F.A.A.'] \n",
      " \n",
      "Valores únicos de la columna Clasificación3: \n",
      " \n",
      "['(a) Acreditada' '(b) No Acreditada'] \n",
      " \n",
      "Valores únicos de la columna Clasificación4: \n",
      " \n",
      "['(a) Autónoma' '(e) Cerrada' '(b) Licenciamiento' '(e) F.F.A.A.'\n",
      " '(c) Examinación' '(d) Supervisión'] \n",
      " \n",
      "Valores únicos de la columna Clasificación5: \n",
      " \n",
      "['(a) Adscritas a Gratuidad' '(b) No Adscritas/No Aplica'] \n",
      " \n",
      "Valores únicos de la columna Clasificación6: \n",
      " \n",
      "['(a) Subsistema Universitario' '(c) No adscrito'\n",
      " '(b) Subsistema Técnico Profesional' '(d) F.F.A.A.'] \n",
      " \n",
      "Valores únicos de la columna Horario: \n",
      " \n",
      "['Diurno' 'Vespertino' 'Otro'] \n",
      " \n",
      "Valores únicos de la columna Tipo Programa: \n",
      " \n",
      "['Programa Regular' 'Programa Especial'] \n",
      " \n",
      "Valores únicos de la columna IngresoDirecto: \n",
      " \n",
      "['Ingreso Directo' 'No es Ingreso Directo'] \n",
      " \n",
      "Valores únicos de la columna Tipo Moneda: \n",
      " \n",
      "['Pesos     ' 'PESOS     ' 'pesos     ' 'UF        ' 'Pesos'] \n",
      " \n",
      "Valores únicos de la columna Pregrado/Posgrado: \n",
      " \n",
      "['Pregrado' 'Posgrado'] \n",
      " \n"
     ]
    }
   ],
   "source": [
    "interes1 = ['Clasificación1', 'Clasificación2', 'Clasificación3', 'Clasificación4', 'Clasificación5', 'Clasificación6']\n",
    "for column in interes1:\n",
    "    print(f\"Valores únicos de la columna {column}: \\n \\n{df[column].unique()} \\n \")\n",
    "\n",
    "interes2 = ['Horario', 'Tipo Programa', 'IngresoDirecto', 'Tipo Moneda', \"Pregrado/Posgrado\"]\n",
    "for column in interes2:\n",
    "    print(f\"Valores únicos de la columna {column}: \\n \\n{df[column].unique() } \\n \")"
   ]
  },
  {
   "cell_type": "markdown",
   "metadata": {},
   "source": [
    "Según lo que estamos buscando, dentro de las clasificaciones, la columna \"Clasificación2\" entrega una sub caracterizacipon de la columna \"Clasificación1\" por lo que no entrega información relevante según nuestro enfoque. Por otro lado, se puede observar que en la columna \"Tipo Moneda\" en verdad son loslo 2 opciones que una de ellas está escrita de forma distinta por lo que hay que corregir esa columna. Por último, la comuna de \"Pregrado/posgrado\" hay que revisar la frecuencia de estas, para elegir si enfocarnos en las matrículas especificas de alguna de ellas o en general."
   ]
  },
  {
   "cell_type": "code",
   "execution_count": null,
   "metadata": {},
   "outputs": [
    {
     "name": "stdout",
     "output_type": "stream",
     "text": [
      "Existen 83.78684755431429% datos de pregrado y 16.21315244568571% datos de posgrado\n"
     ]
    }
   ],
   "source": [
    "#df = df.drop(['Clasificación2'], axis=1)\n",
    "\n",
    "# Reemplazamos los valores de la columna Tipo Moneda a Pesos si la variable es PESOS\n",
    "df['Tipo Moneda'] = df['Tipo Moneda'].replace('PESOS     ', 'Pesos')\n",
    "df['Tipo Moneda'] = df['Tipo Moneda'].replace('Pesos     ', 'Pesos')\n",
    "df['Tipo Moneda'] = df['Tipo Moneda'].replace('pesos     ', 'Pesos')\n",
    "df['Tipo Moneda'] = df['Tipo Moneda'].replace('UF        ', 'UF')\n",
    "\n",
    "\n",
    "print(f\"Existen {100*sum(df['Pregrado/Posgrado']=='Pregrado')/len(df['Pregrado/Posgrado'])}% datos de pregrado y {100*sum(df['Pregrado/Posgrado']=='Posgrado')/len(df['Pregrado/Posgrado'])}% datos de posgrado\")"
   ]
  },
  {
   "cell_type": "markdown",
   "metadata": {},
   "source": [
    "Como exite un claro desbalanceo en esta clasificación, solo nos quedamos con las matrículas de pregrado"
   ]
  },
  {
   "cell_type": "code",
   "execution_count": null,
   "metadata": {},
   "outputs": [],
   "source": [
    "df = df.drop(df[df[\"Pregrado/Posgrado\"] == \"Posgrado\"].index)"
   ]
  },
  {
   "cell_type": "code",
   "execution_count": null,
   "metadata": {},
   "outputs": [
    {
     "name": "stdout",
     "output_type": "stream",
     "text": [
      "Porcentaje valores vacios por columna: \n",
      " \n",
      "Año                                                    0.000000\n",
      "Cód. Institución                                       0.000000\n",
      "Nombre Institución                                     0.000000\n",
      "Tipo Institución                                       0.000000\n",
      "Clasificación1                                         0.000000\n",
      "Clasificación2                                         0.000000\n",
      "Clasificación3                                         0.000000\n",
      "Clasificación4                                         0.000000\n",
      "Clasificación5                                         0.000000\n",
      "Clasificación6                                         0.000000\n",
      "Comuna donde se imparte la carrera o programa          0.000000\n",
      "Nombre Region                                          0.000000\n",
      "Cód. Carrera                                           0.000000\n",
      "Carrera Genérica                                       0.000000\n",
      "Nombre Programa                                        0.000000\n",
      "Horario                                                0.000000\n",
      "Tipo Programa                                          0.000000\n",
      "Area Conocimiento                                      0.000000\n",
      "Tipo Carrera                                           0.000000\n",
      "IngresoDirecto                                         0.000000\n",
      "Año Inicio Actividades                                 0.000000\n",
      "Nombre del Campus                                     57.032345\n",
      "Duración (en semestres)                                0.394974\n",
      "Título                                                 2.038155\n",
      "Grado Académico                                       67.102011\n",
      "Promedio Puntaje (promedio matemáticas y lenguaje)    78.327687\n",
      "Puntaje de corte (primer seleccionado)                81.435656\n",
      "Puntaje de corte (promedio de la carrera)             81.488574\n",
      "Puntaje de corte (último seleccionado)                80.325472\n",
      "Promedio Puntaje NEM                                  89.012182\n",
      "Promedio Puntaje Ranking                              89.580094\n",
      "Nº Alumnos Ingreso Via PSU o PDT                      77.453724\n",
      "Nº Alumnos Ingreso Otra Via                           61.868600\n",
      "Valor de matrícula                                    21.934720\n",
      "Valor de arancel                                      25.370016\n",
      "Valor del Título                                      15.108863\n",
      "Tipo Moneda                                            0.000000\n",
      "Vacantes                                              23.459518\n",
      "Matrícula primer año hombres                           9.789802\n",
      "Matrícula primer año mujeres                           9.934371\n",
      "Matrícula primer año extranjeros                      28.702203\n",
      "Matrícula Primer Año                                   0.000000\n",
      "Matrícula total hombres                                1.445148\n",
      "Matrícula total mujeres                                1.646454\n",
      "Matrícula total extranjeros                           24.681538\n",
      "Matrícula Total                                        0.000000\n",
      "Pregrado/Posgrado                                      0.000000\n",
      "dtype: float64 \n",
      " \n"
     ]
    }
   ],
   "source": [
    "# Identifiquemos los valores nulos\n",
    "vacios = df.isnull().sum()\n",
    "print(f\"Porcentaje valores vacios por columna: \\n \\n{100*vacios/df.shape[0]} \\n \")\n"
   ]
  },
  {
   "cell_type": "code",
   "execution_count": null,
   "metadata": {},
   "outputs": [
    {
     "data": {
      "text/plain": [
       "(183303, 47)"
      ]
     },
     "execution_count": 13,
     "metadata": {},
     "output_type": "execute_result"
    }
   ],
   "source": [
    "df.shape"
   ]
  },
  {
   "cell_type": "markdown",
   "metadata": {},
   "source": [
    "Debido a que el porcentaje de nulos en la parte de puntajes es extremadamente alta, este dataset no nos permite realizar un estudio por medio de los puntajes, pero si por medio de los matriculados, tipo de institución. \n",
    "\n",
    "Se propone complementar este dataset con otro que incluye información de la infraestructutra de las universidades."
   ]
  },
  {
   "cell_type": "code",
   "execution_count": null,
   "metadata": {},
   "outputs": [],
   "source": [
    "# df_inmueble = pd.read_excel('./data/indices_institucional_2005_2022.xlsx', sheet_name='Inmuebles')\n",
    "# df_labs = pd.read_excel('./data/indices_institucional_2005_2022.xlsx', sheet_name='Laboratorios y Talleres')"
   ]
  },
  {
   "cell_type": "code",
   "execution_count": null,
   "metadata": {},
   "outputs": [],
   "source": [
    "df_limpio = df[(df['Tipo Institución'] == 'Univ.') & (df['Pregrado/Posgrado'] == 'Pregrado') & (df['Clasificación1']=='(a) Universidades CRUCH') & (df['Horario']=='Diurno')]"
   ]
  },
  {
   "cell_type": "code",
   "execution_count": null,
   "metadata": {},
   "outputs": [
    {
     "data": {
      "text/plain": [
       "array(['Univ.'], dtype=object)"
      ]
     },
     "execution_count": 122,
     "metadata": {},
     "output_type": "execute_result"
    }
   ],
   "source": [
    "df_limpio['Tipo Institución'].unique()"
   ]
  },
  {
   "cell_type": "code",
   "execution_count": null,
   "metadata": {},
   "outputs": [
    {
     "data": {
      "text/plain": [
       "Index(['Año', 'Cód. Institución', 'Nombre Institución', 'Tipo Institución',\n",
       "       'Clasificación1', 'Clasificación2', 'Clasificación3', 'Clasificación4',\n",
       "       'Clasificación5', 'Clasificación6',\n",
       "       'Comuna donde se imparte la carrera o programa', 'Nombre Region',\n",
       "       'Cód. Carrera', 'Carrera Genérica', 'Nombre Programa', 'Horario',\n",
       "       'Tipo Programa', 'Area Conocimiento', 'Tipo Carrera', 'IngresoDirecto',\n",
       "       'Año Inicio Actividades', 'Nombre del Campus',\n",
       "       'Duración (en semestres)', 'Título', 'Grado Académico',\n",
       "       'Promedio Puntaje (promedio matemáticas y lenguaje)',\n",
       "       'Puntaje de corte (primer seleccionado)',\n",
       "       'Puntaje de corte (promedio de la carrera)',\n",
       "       'Puntaje de corte (último seleccionado)', 'Promedio Puntaje NEM',\n",
       "       'Promedio Puntaje Ranking', 'Nº Alumnos Ingreso Via PSU o PDT',\n",
       "       'Nº Alumnos Ingreso Otra Via', 'Valor de matrícula', 'Valor de arancel',\n",
       "       'Valor del Título', 'Tipo Moneda', 'Vacantes',\n",
       "       'Matrícula primer año hombres', 'Matrícula primer año mujeres',\n",
       "       'Matrícula primer año extranjeros', 'Matrícula Primer Año',\n",
       "       'Matrícula total hombres', 'Matrícula total mujeres',\n",
       "       'Matrícula total extranjeros', 'Matrícula Total', 'Pregrado/Posgrado'],\n",
       "      dtype='object')"
      ]
     },
     "execution_count": 86,
     "metadata": {},
     "output_type": "execute_result"
    }
   ],
   "source": [
    "df.columns"
   ]
  },
  {
   "cell_type": "code",
   "execution_count": null,
   "metadata": {},
   "outputs": [
    {
     "name": "stdout",
     "output_type": "stream",
     "text": [
      "largo 25403 nan 5704 porcentaje 22.454040861315594\n"
     ]
    }
   ],
   "source": [
    "x=len(df_limpio['Puntaje de corte (último seleccionado)'])\n",
    "y=df_limpio['Puntaje de corte (último seleccionado)'].isnull().sum()\n",
    "print(f'largo {x} nan {y} porcentaje {y/x*100}')"
   ]
  },
  {
   "cell_type": "code",
   "execution_count": null,
   "metadata": {},
   "outputs": [
    {
     "ename": "NameError",
     "evalue": "name 'df_limpio' is not defined",
     "output_type": "error",
     "traceback": [
      "\u001b[1;31m---------------------------------------------------------------------------\u001b[0m",
      "\u001b[1;31mNameError\u001b[0m                                 Traceback (most recent call last)",
      "\u001b[1;32mc:\\Users\\001251655\\Documents\\GitHub\\proyecto-mineria-de-datos\\hito2\\Hito_2.ipynb Cell 44\u001b[0m line \u001b[0;36m1\n\u001b[1;32m----> <a href='vscode-notebook-cell:/c%3A/Users/001251655/Documents/GitHub/proyecto-mineria-de-datos/hito2/Hito_2.ipynb#Y114sZmlsZQ%3D%3D?line=0'>1</a>\u001b[0m df_limpio[\u001b[39m'\u001b[39m\u001b[39mAño\u001b[39m\u001b[39m'\u001b[39m]\n",
      "\u001b[1;31mNameError\u001b[0m: name 'df_limpio' is not defined"
     ]
    }
   ],
   "source": [
    "df_limpio['Año']"
   ]
  },
  {
   "cell_type": "code",
   "execution_count": null,
   "metadata": {},
   "outputs": [
    {
     "data": {
      "text/html": [
       "<div>\n",
       "<style scoped>\n",
       "    .dataframe tbody tr th:only-of-type {\n",
       "        vertical-align: middle;\n",
       "    }\n",
       "\n",
       "    .dataframe tbody tr th {\n",
       "        vertical-align: top;\n",
       "    }\n",
       "\n",
       "    .dataframe thead th {\n",
       "        text-align: right;\n",
       "    }\n",
       "</style>\n",
       "<table border=\"1\" class=\"dataframe\">\n",
       "  <thead>\n",
       "    <tr style=\"text-align: right;\">\n",
       "      <th></th>\n",
       "      <th>Año</th>\n",
       "      <th>Cód. Institución</th>\n",
       "      <th>Nombre Institución</th>\n",
       "      <th>Tipo Institución</th>\n",
       "      <th>Clasificación1</th>\n",
       "      <th>Clasificación2</th>\n",
       "      <th>Clasificación3</th>\n",
       "      <th>Clasificación4</th>\n",
       "      <th>Clasificación5</th>\n",
       "      <th>Clasificación6</th>\n",
       "      <th>...</th>\n",
       "      <th>Vacantes</th>\n",
       "      <th>Matrícula primer año hombres</th>\n",
       "      <th>Matrícula primer año mujeres</th>\n",
       "      <th>Matrícula primer año extranjeros</th>\n",
       "      <th>Matrícula Primer Año</th>\n",
       "      <th>Matrícula total hombres</th>\n",
       "      <th>Matrícula total mujeres</th>\n",
       "      <th>Matrícula total extranjeros</th>\n",
       "      <th>Matrícula Total</th>\n",
       "      <th>Pregrado/Posgrado</th>\n",
       "    </tr>\n",
       "  </thead>\n",
       "  <tbody>\n",
       "    <tr>\n",
       "      <th>10</th>\n",
       "      <td>2023-01-01</td>\n",
       "      <td>1001</td>\n",
       "      <td>U. DE CHILE</td>\n",
       "      <td>Univ.</td>\n",
       "      <td>(a) Universidades CRUCH</td>\n",
       "      <td>(a) Universidades Estatales CRUCH</td>\n",
       "      <td>(a) Acreditada</td>\n",
       "      <td>(a) Autónoma</td>\n",
       "      <td>(a) Adscritas a Gratuidad</td>\n",
       "      <td>(a) Subsistema Universitario</td>\n",
       "      <td>...</td>\n",
       "      <td>NaN</td>\n",
       "      <td>NaN</td>\n",
       "      <td>NaN</td>\n",
       "      <td>NaN</td>\n",
       "      <td>0</td>\n",
       "      <td>34.0</td>\n",
       "      <td>86.0</td>\n",
       "      <td>0.0</td>\n",
       "      <td>120</td>\n",
       "      <td>Pregrado</td>\n",
       "    </tr>\n",
       "    <tr>\n",
       "      <th>14</th>\n",
       "      <td>2023-01-01</td>\n",
       "      <td>1001</td>\n",
       "      <td>U. DE CHILE</td>\n",
       "      <td>Univ.</td>\n",
       "      <td>(a) Universidades CRUCH</td>\n",
       "      <td>(a) Universidades Estatales CRUCH</td>\n",
       "      <td>(a) Acreditada</td>\n",
       "      <td>(a) Autónoma</td>\n",
       "      <td>(a) Adscritas a Gratuidad</td>\n",
       "      <td>(a) Subsistema Universitario</td>\n",
       "      <td>...</td>\n",
       "      <td>45.0</td>\n",
       "      <td>0.0</td>\n",
       "      <td>0.0</td>\n",
       "      <td>0.0</td>\n",
       "      <td>0</td>\n",
       "      <td>38.0</td>\n",
       "      <td>2.0</td>\n",
       "      <td>0.0</td>\n",
       "      <td>40</td>\n",
       "      <td>Pregrado</td>\n",
       "    </tr>\n",
       "    <tr>\n",
       "      <th>15</th>\n",
       "      <td>2023-01-01</td>\n",
       "      <td>1001</td>\n",
       "      <td>U. DE CHILE</td>\n",
       "      <td>Univ.</td>\n",
       "      <td>(a) Universidades CRUCH</td>\n",
       "      <td>(a) Universidades Estatales CRUCH</td>\n",
       "      <td>(a) Acreditada</td>\n",
       "      <td>(a) Autónoma</td>\n",
       "      <td>(a) Adscritas a Gratuidad</td>\n",
       "      <td>(a) Subsistema Universitario</td>\n",
       "      <td>...</td>\n",
       "      <td>45.0</td>\n",
       "      <td>15.0</td>\n",
       "      <td>12.0</td>\n",
       "      <td>0.0</td>\n",
       "      <td>27</td>\n",
       "      <td>31.0</td>\n",
       "      <td>23.0</td>\n",
       "      <td>2.0</td>\n",
       "      <td>54</td>\n",
       "      <td>Pregrado</td>\n",
       "    </tr>\n",
       "    <tr>\n",
       "      <th>16</th>\n",
       "      <td>2023-01-01</td>\n",
       "      <td>1001</td>\n",
       "      <td>U. DE CHILE</td>\n",
       "      <td>Univ.</td>\n",
       "      <td>(a) Universidades CRUCH</td>\n",
       "      <td>(a) Universidades Estatales CRUCH</td>\n",
       "      <td>(a) Acreditada</td>\n",
       "      <td>(a) Autónoma</td>\n",
       "      <td>(a) Adscritas a Gratuidad</td>\n",
       "      <td>(a) Subsistema Universitario</td>\n",
       "      <td>...</td>\n",
       "      <td>23.0</td>\n",
       "      <td>7.0</td>\n",
       "      <td>1.0</td>\n",
       "      <td>0.0</td>\n",
       "      <td>8</td>\n",
       "      <td>21.0</td>\n",
       "      <td>6.0</td>\n",
       "      <td>0.0</td>\n",
       "      <td>27</td>\n",
       "      <td>Pregrado</td>\n",
       "    </tr>\n",
       "    <tr>\n",
       "      <th>17</th>\n",
       "      <td>2023-01-01</td>\n",
       "      <td>1001</td>\n",
       "      <td>U. DE CHILE</td>\n",
       "      <td>Univ.</td>\n",
       "      <td>(a) Universidades CRUCH</td>\n",
       "      <td>(a) Universidades Estatales CRUCH</td>\n",
       "      <td>(a) Acreditada</td>\n",
       "      <td>(a) Autónoma</td>\n",
       "      <td>(a) Adscritas a Gratuidad</td>\n",
       "      <td>(a) Subsistema Universitario</td>\n",
       "      <td>...</td>\n",
       "      <td>23.0</td>\n",
       "      <td>3.0</td>\n",
       "      <td>0.0</td>\n",
       "      <td>0.0</td>\n",
       "      <td>3</td>\n",
       "      <td>138.0</td>\n",
       "      <td>69.0</td>\n",
       "      <td>2.0</td>\n",
       "      <td>207</td>\n",
       "      <td>Pregrado</td>\n",
       "    </tr>\n",
       "    <tr>\n",
       "      <th>...</th>\n",
       "      <td>...</td>\n",
       "      <td>...</td>\n",
       "      <td>...</td>\n",
       "      <td>...</td>\n",
       "      <td>...</td>\n",
       "      <td>...</td>\n",
       "      <td>...</td>\n",
       "      <td>...</td>\n",
       "      <td>...</td>\n",
       "      <td>...</td>\n",
       "      <td>...</td>\n",
       "      <td>...</td>\n",
       "      <td>...</td>\n",
       "      <td>...</td>\n",
       "      <td>...</td>\n",
       "      <td>...</td>\n",
       "      <td>...</td>\n",
       "      <td>...</td>\n",
       "      <td>...</td>\n",
       "      <td>...</td>\n",
       "      <td>...</td>\n",
       "    </tr>\n",
       "    <tr>\n",
       "      <th>179981</th>\n",
       "      <td>2005-01-01</td>\n",
       "      <td>1055</td>\n",
       "      <td>U. DE LOS LAGOS</td>\n",
       "      <td>Univ.</td>\n",
       "      <td>(a) Universidades CRUCH</td>\n",
       "      <td>(a) Universidades Estatales CRUCH</td>\n",
       "      <td>(b) No Acreditada</td>\n",
       "      <td>(a) Autónoma</td>\n",
       "      <td>(a) Adscritas a Gratuidad</td>\n",
       "      <td>(a) Subsistema Universitario</td>\n",
       "      <td>...</td>\n",
       "      <td>NaN</td>\n",
       "      <td>65.0</td>\n",
       "      <td>5.0</td>\n",
       "      <td>0.0</td>\n",
       "      <td>70</td>\n",
       "      <td>107.0</td>\n",
       "      <td>8.0</td>\n",
       "      <td>0.0</td>\n",
       "      <td>115</td>\n",
       "      <td>Pregrado</td>\n",
       "    </tr>\n",
       "    <tr>\n",
       "      <th>179982</th>\n",
       "      <td>2005-01-01</td>\n",
       "      <td>1055</td>\n",
       "      <td>U. DE LOS LAGOS</td>\n",
       "      <td>Univ.</td>\n",
       "      <td>(a) Universidades CRUCH</td>\n",
       "      <td>(a) Universidades Estatales CRUCH</td>\n",
       "      <td>(b) No Acreditada</td>\n",
       "      <td>(a) Autónoma</td>\n",
       "      <td>(a) Adscritas a Gratuidad</td>\n",
       "      <td>(a) Subsistema Universitario</td>\n",
       "      <td>...</td>\n",
       "      <td>NaN</td>\n",
       "      <td>43.0</td>\n",
       "      <td>3.0</td>\n",
       "      <td>0.0</td>\n",
       "      <td>46</td>\n",
       "      <td>106.0</td>\n",
       "      <td>10.0</td>\n",
       "      <td>0.0</td>\n",
       "      <td>116</td>\n",
       "      <td>Pregrado</td>\n",
       "    </tr>\n",
       "    <tr>\n",
       "      <th>179983</th>\n",
       "      <td>2005-01-01</td>\n",
       "      <td>1055</td>\n",
       "      <td>U. DE LOS LAGOS</td>\n",
       "      <td>Univ.</td>\n",
       "      <td>(a) Universidades CRUCH</td>\n",
       "      <td>(a) Universidades Estatales CRUCH</td>\n",
       "      <td>(b) No Acreditada</td>\n",
       "      <td>(a) Autónoma</td>\n",
       "      <td>(a) Adscritas a Gratuidad</td>\n",
       "      <td>(a) Subsistema Universitario</td>\n",
       "      <td>...</td>\n",
       "      <td>NaN</td>\n",
       "      <td>41.0</td>\n",
       "      <td>12.0</td>\n",
       "      <td>0.0</td>\n",
       "      <td>53</td>\n",
       "      <td>41.0</td>\n",
       "      <td>12.0</td>\n",
       "      <td>0.0</td>\n",
       "      <td>53</td>\n",
       "      <td>Pregrado</td>\n",
       "    </tr>\n",
       "    <tr>\n",
       "      <th>179984</th>\n",
       "      <td>2005-01-01</td>\n",
       "      <td>1055</td>\n",
       "      <td>U. DE LOS LAGOS</td>\n",
       "      <td>Univ.</td>\n",
       "      <td>(a) Universidades CRUCH</td>\n",
       "      <td>(a) Universidades Estatales CRUCH</td>\n",
       "      <td>(b) No Acreditada</td>\n",
       "      <td>(a) Autónoma</td>\n",
       "      <td>(a) Adscritas a Gratuidad</td>\n",
       "      <td>(a) Subsistema Universitario</td>\n",
       "      <td>...</td>\n",
       "      <td>NaN</td>\n",
       "      <td>396.0</td>\n",
       "      <td>199.0</td>\n",
       "      <td>0.0</td>\n",
       "      <td>595</td>\n",
       "      <td>837.0</td>\n",
       "      <td>436.0</td>\n",
       "      <td>0.0</td>\n",
       "      <td>1273</td>\n",
       "      <td>Pregrado</td>\n",
       "    </tr>\n",
       "    <tr>\n",
       "      <th>179985</th>\n",
       "      <td>2005-01-01</td>\n",
       "      <td>1055</td>\n",
       "      <td>U. DE LOS LAGOS</td>\n",
       "      <td>Univ.</td>\n",
       "      <td>(a) Universidades CRUCH</td>\n",
       "      <td>(a) Universidades Estatales CRUCH</td>\n",
       "      <td>(b) No Acreditada</td>\n",
       "      <td>(a) Autónoma</td>\n",
       "      <td>(a) Adscritas a Gratuidad</td>\n",
       "      <td>(a) Subsistema Universitario</td>\n",
       "      <td>...</td>\n",
       "      <td>NaN</td>\n",
       "      <td>0.0</td>\n",
       "      <td>0.0</td>\n",
       "      <td>0.0</td>\n",
       "      <td>0</td>\n",
       "      <td>11.0</td>\n",
       "      <td>1.0</td>\n",
       "      <td>0.0</td>\n",
       "      <td>12</td>\n",
       "      <td>Pregrado</td>\n",
       "    </tr>\n",
       "  </tbody>\n",
       "</table>\n",
       "<p>11516 rows × 47 columns</p>\n",
       "</div>"
      ],
      "text/plain": [
       "              Año  Cód. Institución Nombre Institución Tipo Institución  \\\n",
       "10     2023-01-01              1001        U. DE CHILE            Univ.   \n",
       "14     2023-01-01              1001        U. DE CHILE            Univ.   \n",
       "15     2023-01-01              1001        U. DE CHILE            Univ.   \n",
       "16     2023-01-01              1001        U. DE CHILE            Univ.   \n",
       "17     2023-01-01              1001        U. DE CHILE            Univ.   \n",
       "...           ...               ...                ...              ...   \n",
       "179981 2005-01-01              1055    U. DE LOS LAGOS            Univ.   \n",
       "179982 2005-01-01              1055    U. DE LOS LAGOS            Univ.   \n",
       "179983 2005-01-01              1055    U. DE LOS LAGOS            Univ.   \n",
       "179984 2005-01-01              1055    U. DE LOS LAGOS            Univ.   \n",
       "179985 2005-01-01              1055    U. DE LOS LAGOS            Univ.   \n",
       "\n",
       "                 Clasificación1                     Clasificación2  \\\n",
       "10      (a) Universidades CRUCH  (a) Universidades Estatales CRUCH   \n",
       "14      (a) Universidades CRUCH  (a) Universidades Estatales CRUCH   \n",
       "15      (a) Universidades CRUCH  (a) Universidades Estatales CRUCH   \n",
       "16      (a) Universidades CRUCH  (a) Universidades Estatales CRUCH   \n",
       "17      (a) Universidades CRUCH  (a) Universidades Estatales CRUCH   \n",
       "...                         ...                                ...   \n",
       "179981  (a) Universidades CRUCH  (a) Universidades Estatales CRUCH   \n",
       "179982  (a) Universidades CRUCH  (a) Universidades Estatales CRUCH   \n",
       "179983  (a) Universidades CRUCH  (a) Universidades Estatales CRUCH   \n",
       "179984  (a) Universidades CRUCH  (a) Universidades Estatales CRUCH   \n",
       "179985  (a) Universidades CRUCH  (a) Universidades Estatales CRUCH   \n",
       "\n",
       "           Clasificación3 Clasificación4             Clasificación5  \\\n",
       "10         (a) Acreditada   (a) Autónoma  (a) Adscritas a Gratuidad   \n",
       "14         (a) Acreditada   (a) Autónoma  (a) Adscritas a Gratuidad   \n",
       "15         (a) Acreditada   (a) Autónoma  (a) Adscritas a Gratuidad   \n",
       "16         (a) Acreditada   (a) Autónoma  (a) Adscritas a Gratuidad   \n",
       "17         (a) Acreditada   (a) Autónoma  (a) Adscritas a Gratuidad   \n",
       "...                   ...            ...                        ...   \n",
       "179981  (b) No Acreditada   (a) Autónoma  (a) Adscritas a Gratuidad   \n",
       "179982  (b) No Acreditada   (a) Autónoma  (a) Adscritas a Gratuidad   \n",
       "179983  (b) No Acreditada   (a) Autónoma  (a) Adscritas a Gratuidad   \n",
       "179984  (b) No Acreditada   (a) Autónoma  (a) Adscritas a Gratuidad   \n",
       "179985  (b) No Acreditada   (a) Autónoma  (a) Adscritas a Gratuidad   \n",
       "\n",
       "                      Clasificación6  ... Vacantes  \\\n",
       "10      (a) Subsistema Universitario  ...      NaN   \n",
       "14      (a) Subsistema Universitario  ...     45.0   \n",
       "15      (a) Subsistema Universitario  ...     45.0   \n",
       "16      (a) Subsistema Universitario  ...     23.0   \n",
       "17      (a) Subsistema Universitario  ...     23.0   \n",
       "...                              ...  ...      ...   \n",
       "179981  (a) Subsistema Universitario  ...      NaN   \n",
       "179982  (a) Subsistema Universitario  ...      NaN   \n",
       "179983  (a) Subsistema Universitario  ...      NaN   \n",
       "179984  (a) Subsistema Universitario  ...      NaN   \n",
       "179985  (a) Subsistema Universitario  ...      NaN   \n",
       "\n",
       "       Matrícula primer año hombres  Matrícula primer año mujeres  \\\n",
       "10                              NaN                           NaN   \n",
       "14                              0.0                           0.0   \n",
       "15                             15.0                          12.0   \n",
       "16                              7.0                           1.0   \n",
       "17                              3.0                           0.0   \n",
       "...                             ...                           ...   \n",
       "179981                         65.0                           5.0   \n",
       "179982                         43.0                           3.0   \n",
       "179983                         41.0                          12.0   \n",
       "179984                        396.0                         199.0   \n",
       "179985                          0.0                           0.0   \n",
       "\n",
       "       Matrícula primer año extranjeros Matrícula Primer Año  \\\n",
       "10                                  NaN                    0   \n",
       "14                                  0.0                    0   \n",
       "15                                  0.0                   27   \n",
       "16                                  0.0                    8   \n",
       "17                                  0.0                    3   \n",
       "...                                 ...                  ...   \n",
       "179981                              0.0                   70   \n",
       "179982                              0.0                   46   \n",
       "179983                              0.0                   53   \n",
       "179984                              0.0                  595   \n",
       "179985                              0.0                    0   \n",
       "\n",
       "       Matrícula total hombres Matrícula total mujeres  \\\n",
       "10                        34.0                    86.0   \n",
       "14                        38.0                     2.0   \n",
       "15                        31.0                    23.0   \n",
       "16                        21.0                     6.0   \n",
       "17                       138.0                    69.0   \n",
       "...                        ...                     ...   \n",
       "179981                   107.0                     8.0   \n",
       "179982                   106.0                    10.0   \n",
       "179983                    41.0                    12.0   \n",
       "179984                   837.0                   436.0   \n",
       "179985                    11.0                     1.0   \n",
       "\n",
       "       Matrícula total extranjeros Matrícula Total Pregrado/Posgrado  \n",
       "10                             0.0             120          Pregrado  \n",
       "14                             0.0              40          Pregrado  \n",
       "15                             2.0              54          Pregrado  \n",
       "16                             0.0              27          Pregrado  \n",
       "17                             2.0             207          Pregrado  \n",
       "...                            ...             ...               ...  \n",
       "179981                         0.0             115          Pregrado  \n",
       "179982                         0.0             116          Pregrado  \n",
       "179983                         0.0              53          Pregrado  \n",
       "179984                         0.0            1273          Pregrado  \n",
       "179985                         0.0              12          Pregrado  \n",
       "\n",
       "[11516 rows x 47 columns]"
      ]
     },
     "execution_count": 120,
     "metadata": {},
     "output_type": "execute_result"
    }
   ],
   "source": [
    "sin=df_limpio[df_limpio['Puntaje de corte (último seleccionado)'].isnull()]\n",
    "sin"
   ]
  },
  {
   "cell_type": "code",
   "execution_count": null,
   "metadata": {},
   "outputs": [
    {
     "data": {
      "text/plain": [
       "array(['Univ.', 'I.P.', 'C.F.T.', 'F.F.A.A.'], dtype=object)"
      ]
     },
     "execution_count": 111,
     "metadata": {},
     "output_type": "execute_result"
    }
   ],
   "source": [
    "df['Tipo Institución'].unique()"
   ]
  },
  {
   "cell_type": "code",
   "execution_count": null,
   "metadata": {},
   "outputs": [
    {
     "name": "stdout",
     "output_type": "stream",
     "text": [
      "Porcentaje valores vacios por columna: \n",
      " \n",
      "Año                                                    0.000000\n",
      "Cód. Institución                                       0.000000\n",
      "Nombre Institución                                     0.000000\n",
      "Tipo Institución                                       0.000000\n",
      "Clasificación1                                         0.000000\n",
      "Clasificación2                                         0.000000\n",
      "Clasificación3                                         0.000000\n",
      "Clasificación4                                         0.000000\n",
      "Clasificación5                                         0.000000\n",
      "Clasificación6                                         0.000000\n",
      "Comuna donde se imparte la carrera o programa          0.000000\n",
      "Nombre Region                                          0.000000\n",
      "Cód. Carrera                                           0.000000\n",
      "Carrera Genérica                                       0.000000\n",
      "Nombre Programa                                        0.000000\n",
      "Horario                                                0.000000\n",
      "Tipo Programa                                          0.000000\n",
      "Area Conocimiento                                      0.000000\n",
      "Tipo Carrera                                           0.000000\n",
      "IngresoDirecto                                         0.000000\n",
      "Año Inicio Actividades                                 0.000000\n",
      "Nombre del Campus                                     78.246672\n",
      "Duración (en semestres)                                0.324295\n",
      "Título                                                 0.607048\n",
      "Grado Académico                                       85.415353\n",
      "Promedio Puntaje (promedio matemáticas y lenguaje)    92.153570\n",
      "Puntaje de corte (primer seleccionado)                93.914187\n",
      "Puntaje de corte (promedio de la carrera)             93.921673\n",
      "Puntaje de corte (último seleccionado)                93.430341\n",
      "Promedio Puntaje NEM                                  98.084848\n",
      "Promedio Puntaje Ranking                              98.178350\n",
      "Nº Alumnos Ingreso Via PSU o PDT                      91.763170\n",
      "Nº Alumnos Ingreso Otra Via                           63.775272\n",
      "Valor de matrícula                                    27.069786\n",
      "Valor de arancel                                      29.459191\n",
      "Valor del Título                                      23.477441\n",
      "Tipo Moneda                                            0.000000\n",
      "Vacantes                                              24.025606\n",
      "Matrícula primer año hombres                          10.358189\n",
      "Matrícula primer año mujeres                          10.975490\n",
      "Matrícula primer año extranjeros                      30.688700\n",
      "Matrícula Primer Año                                   0.000000\n",
      "Matrícula total hombres                                1.582787\n",
      "Matrícula total mujeres                                2.509179\n",
      "Matrícula total extranjeros                           28.858229\n",
      "Matrícula Total                                        0.000000\n",
      "Pregrado/Posgrado                                      0.000000\n",
      "N° Inmuebles                                           1.128047\n",
      "M2 Terreno                                             2.701331\n",
      "M2 Construido_x                                        1.175839\n",
      "M2 Salas                                               4.090004\n",
      "Nº Oficinas                                           35.218891\n",
      "Nº Salas                                               2.724461\n",
      "Nº Laboratorios                                        1.358752\n",
      "M2 Construido_y                                        1.503673\n",
      "Nº de PC para alumnos                                  4.978019\n",
      "N° Computadores con Internet                           5.049007\n",
      "dtype: float64 \n",
      " \n"
     ]
    }
   ],
   "source": [
    "# Identifiquemos los valores nulos\n",
    "vacios_fin = df_final.isnull().sum()\n",
    "print(f\"Porcentaje valores vacios por columna: \\n \\n{100*vacios_fin/df_final.shape[0]} \\n \")"
   ]
  },
  {
   "cell_type": "code",
   "execution_count": null,
   "metadata": {},
   "outputs": [],
   "source": [
    "from sklearn.cluster import KMeans\n",
    "from sklearn.ensemble import IsolationForest\n",
    "from scipy.stats.contingency import association\n",
    "import matplotlib.pyplot as plt\n",
    "import seaborn as sns\n",
    "import numpy as np\n",
    "import shutil\n",
    "from sklearn.preprocessing import FunctionTransformer, MinMaxScaler, OneHotEncoder, LabelEncoder\n",
    "from sklearn.compose import ColumnTransformer\n",
    "import re\n",
    "from sklearn.pipeline import Pipeline\n",
    "from sklearn.manifold import TSNE\n",
    "import pandas as pd\n",
    "import datetime\n",
    "import os\n",
    "\n",
    "import plotly.io as pio\n",
    "#!pip install --upgrade plotly\n",
    "import plotly.figure_factory as ff\n",
    "import plotly.express as px\n",
    "import warnings\n",
    "from sklearn.preprocessing import FunctionTransformer\n",
    "import re\n",
    "\n",
    "# Ignora todas las advertencias (no se recomienda en producción)\n",
    "warnings.filterwarnings(\"ignore\")"
   ]
  },
  {
   "cell_type": "code",
   "execution_count": null,
   "metadata": {},
   "outputs": [],
   "source": [
    "# Función para dividir la columna en tres columnas separadas usando múltiples separadores\n",
    "def split_column(column):\n",
    "    separadores = ['!', '@', '#', '$', '%', '^', '&', '*', '(', ')', '-', '_', '+', '=', '[', ']', '{', '}', '|', '\\\\', ':', ';', '<', '>', ',', '?', '/']\n",
    "    patron = '|'.join(map(re.escape, separadores))\n",
    "    columnas_separadas = column.apply(lambda columna: re.split(patron, columna))\n",
    "    # Convierte las columnas resultantes a tipo numérico (si es posible)\n",
    "    columnas_separadas = columnas_separadas.apply(pd.to_numeric,errors='coerce')\n",
    "    nombres = re.split(patron,column.name)\n",
    "    return pd.DataFrame(columnas_separadas.to_list(), columns=[f'{nombres[i]}' for i in range(len(columnas_separadas.iloc[0]))])\n",
    "\n",
    "class Profiler():\n",
    "    def __init__(self, data):\n",
    "        # Se verifica formato Pandas DataFrame\n",
    "        if not isinstance(data, pd.DataFrame):\n",
    "            raise ValueError(\"No corresponde al formato Pandas DAtaframe\")\n",
    "        self.data = data\n",
    "        #fecha corresponda a la fecha de ejecución en formato DD-MM-YYYY\n",
    "        self.date = datetime.datetime.now().strftime(\"%d-%m-%Y\")\n",
    "        #Se crea carpeta en directorio de trabajo con el nombre EDA_fecha\n",
    "        self.folder_name = f\"EDA_{self.date}\"\n",
    "        if not os.path.exists(self.folder_name):\n",
    "            os.makedirs(self.folder_name)\n",
    "\n",
    "    def summarize(self, variable_nombre):\n",
    "      summary_file = os.path.join(self.folder_name, \"summary.txt\")\n",
    "      with open(summary_file, \"w\") as file:\n",
    "          file.write('')\n",
    "\n",
    "      for var in variable_nombre:\n",
    "        variable = self.data[var]\n",
    "        tipo_variable = variable.dtype\n",
    "\n",
    "        #nulos\n",
    "        nulos = variable.isna()\n",
    "        total_null = nulos.sum()\n",
    "        porcentaje_null=total_null/len(variable)\n",
    "\n",
    "        #unicos\n",
    "        unicos = variable.nunique()\n",
    "        porcentaje_unicos=unicos/len(variable)\n",
    "        respuesta = f\"Nombre: {var}\\nTipo: {tipo_variable}\\nNulos: {total_null} correspondiente a {porcentaje_null * 100}%\\nÚnicos: {unicos} correspondiente a {porcentaje_unicos*100}%\"\n",
    "\n",
    "        if pd.api.types.is_numeric_dtype(tipo_variable):\n",
    "            ceros = (variable == 0).sum()\n",
    "            negativos = (variable<0).sum()\n",
    "            respuesta+=f'\\nCeros: {ceros} \\nNegativos: {negativos}'\n",
    "            #Cuartiles\n",
    "            Q1 = variable.quantile(0.25)\n",
    "            Q2 = variable.quantile(0.50)\n",
    "            Q3 = variable.quantile(0.75)\n",
    "            Q4 = variable.quantile(1)\n",
    "            respuesta+=f'\\n25%: {Q1} \\n50%: {Q2} \\n75%: {Q3} \\n100%: {Q4}'\n",
    "            # IQR (rango intercuartil) de la columna\n",
    "            IQR = Q3 - Q1\n",
    "            # Límites inferior y superior para los outliers\n",
    "            limite_inf = Q1 - 1.5 * IQR\n",
    "            limite_sup = Q3 + 1.5 * IQR\n",
    "            # Cantidad Outliers\n",
    "            outliers = variable[(variable < limite_inf) | (variable> limite_sup)]\n",
    "            cantidad_de_outliers = len(outliers)\n",
    "            respuesta+=f'\\nCantidad outliers: {cantidad_de_outliers}\\n'\n",
    "            # Minimo, maximo y prom\n",
    "            min= variable.min()\n",
    "            max= variable.max()\n",
    "            prom= variable.mean()\n",
    "            respuesta+=f'Min: {min}\\nMax: {max}\\nPromedio: {prom}'\n",
    "\n",
    "            # if alert_criteria is not None:\n",
    "            #     if variable.apply(alert_criteria).any():\n",
    "            #         result_str += \"\\nALERTA: Se ha detectado una anomalía según el criterio proporcionado por el usuario.\"\n",
    "        with open(summary_file, \"a\") as file:\n",
    "          file.write(f'{respuesta}\\n\\n')\n",
    "      return respuesta\n",
    "\n",
    "    def plot_vars(self, variable_nombre, n):\n",
    "      subfolder_path = os.path.join(self.folder_name, 'plots')\n",
    "      if not os.path.exists(subfolder_path):\n",
    "          os.makedirs(subfolder_path)  # Crea la carpeta dentro de EDA_fecha\n",
    "      #Lista con variables numericas\n",
    "      variables_numericas = [var for var in variable_nombre if pd.api.types.is_numeric_dtype(self.data[var].dtype)]\n",
    "\n",
    "      #Se realiza matriz de correlación para las variables numericas\n",
    "      if variables_numericas:\n",
    "          corr_data = self.data[variables_numericas].corr()\n",
    "          fig =  px.imshow(corr_data,\n",
    "                            x=corr_data.columns,\n",
    "                            y=corr_data.columns,)\n",
    "          fig.update_layout(title='Matriz de Correlación de Variables Numéricas')\n",
    "          fig.show()\n",
    "          fig.write_image(f\"{subfolder_path}/correlation_matrix_numeric.pdf\", format=\"pdf\", engine=\"kaleido\")\n",
    "\n",
    "      #Grafica densidad por cada variable numerica\n",
    "      for var in variables_numericas:\n",
    "          fig = px.histogram(self.data[var], marginal=\"rug\", title=f'Distribución de Densidad de {var}')\n",
    "          fig.show()\n",
    "          fig.write_image(f\"{subfolder_path}/{var}.pdf\", format=\"pdf\", engine=\"kaleido\")\n",
    "\n",
    "      #Lista con variables categoricas\n",
    "      variables_categoricas = [vari for vari in variable_nombre if pd.api.types.is_object_dtype(self.data[vari].dtype)]\n",
    "      # print(variables_categoricas)\n",
    "      #Matriz coeficiente de cramer para variables categoricas\n",
    "      if variables_categoricas:\n",
    "          num_categorical_vars = len(self.data[variables_categoricas].columns)\n",
    "          cramer_matrix = np.zeros((num_categorical_vars, num_categorical_vars))\n",
    "\n",
    "          for i in range(num_categorical_vars):\n",
    "              for j in range(num_categorical_vars):\n",
    "                  contingency_matrix = pd.crosstab(self.data[variables_categoricas].iloc[:, i], self.data[variables_categoricas].iloc[:, j])\n",
    "                  cramers_v = association(contingency_matrix)\n",
    "                  cramer_matrix[i, j] = cramers_v\n",
    "          plt.figure(figsize=(10, 8))\n",
    "          sns.heatmap(cramer_matrix, annot=True, xticklabels=self.data[variables_categoricas].columns, yticklabels=self.data[variables_categoricas].columns, cmap='viridis')\n",
    "          plt.title('Matriz de Cramer de Variables Categóricas')\n",
    "          plt.savefig(f\"{subfolder_path}/Cramer_matrix_categorical.pdf\", format='pdf')\n",
    "          plt.show()\n",
    "      # Grafica top_n para cada categoria\n",
    "      for var in variables_categoricas:\n",
    "          top_n = self.data[var].value_counts().head(n)\n",
    "          fig = px.bar(top_n, x=top_n.index, y=top_n.values)\n",
    "          fig.update_layout(title=f'Histograma de las Top {n} categorías de {var}')\n",
    "          fig.show()\n",
    "          fig.write_image(f\"{subfolder_path}/{var}.pdf\")\n",
    "\n",
    "      return\n",
    "\n",
    "    def clean_data(self,lista_variables,nulos):\n",
    "      #Se crea carpeta en directorio de trabajo con el nombre EDA_fecha\n",
    "      subfolder_path = os.path.join(self.folder_name, 'clean_data')\n",
    "      if not os.path.exists(subfolder_path):\n",
    "          os.makedirs(subfolder_path)  # Crea la carpeta dentro de EDA_fecha\n",
    "\n",
    "      dataset = self.data[lista_variables]\n",
    "\n",
    "    \n",
    "\n",
    "      #dropeamos las columnas duplicadas\n",
    "      sin_dup = dataset.drop_duplicates()\n",
    "\n",
    "      #crear un duplicado del dataset\n",
    "      sin_null = sin_dup\n",
    "\n",
    "      #separamos las columnas numéricas de las no numéricas para hacer el tratamiento de nulos\n",
    "      columnas_numericas = sin_null.select_dtypes(include=['number']).columns\n",
    "      columnas_no_numericas = sin_null.select_dtypes(exclude=['number']).columns\n",
    "\n",
    "      if nulos == 'drop':\n",
    "\n",
    "        sin_null = sin_null.dropna(subset=columnas_numericas,how='any')\n",
    "\n",
    "        for columna in columnas_no_numericas:\n",
    "          sin_null[columna].fillna(\"1\", inplace=True)\n",
    "          sin_null[columna].dropna(inplace=True)\n",
    "          sin_null[columna]=sin_null[columna].replace(\"1\", None)\n",
    "\n",
    "      elif nulos == 'imputar':\n",
    "\n",
    "        # Reemplazamos los valores nulos de las columnas numéricas con el promedio de la columna\n",
    "        for columna in columnas_numericas:\n",
    "            media = sin_null[columna].mean()\n",
    "            sin_null[columna].fillna(media, inplace=True)\n",
    "\n",
    "        # Se reemplazan los valores nulos de las columnas no numéricas con la moda de la columna\n",
    "        for columna in columnas_no_numericas:\n",
    "          print(columna)\n",
    "          sin_null[columna].fillna(\"1\", inplace=True)\n",
    "          moda = sin_null[columna].mode()\n",
    "          sin_null[columna].fillna(moda, inplace=True)\n",
    "          sin_null[columna]=sin_null[columna].replace(\"1\", None)\n",
    "\n",
    "      #--------------------------------------------------------------------\n",
    "      sin_null = sin_null.reset_index(drop=True)\n",
    "      path = f\"EDA_{self.date}\"+ \"/clean_data/data.csv\"\n",
    "      sin_null.to_csv(path, index=False)\n",
    "      return sin_null\n",
    "\n",
    "\n",
    "    def scale(self):\n",
    "      #Se crea carpeta en directorio de trabajo con el nombre EDA_fecha\n",
    "      subfolder_path = os.path.join(self.folder_name, 'scale')\n",
    "      if not os.path.exists(subfolder_path):\n",
    "          os.makedirs(subfolder_path)  # Crea la carpeta dentro de EDA_fecha\n",
    "\n",
    "\n",
    "      df = self.clean_data(self.data.columns,nulos='drop')\n",
    "      variables_categoricas = df.select_dtypes(include=['object']).columns\n",
    "      variables_numericas = df.select_dtypes(include=['number']).columns\n",
    "\n",
    "      # Define un ColumnTransformer que aplica el escalado logarítmico y MinMaxScaler a las variables numéricas\n",
    "      preprocessor = ColumnTransformer(\n",
    "          transformers=[\n",
    "              ('log_minmax', Pipeline([('log_transform', FunctionTransformer(func=np.log1p, validate=True)),\n",
    "              ('minmax_scale', MinMaxScaler())]), variables_numericas),  # Aplica logaritmo a las columnas numéricas\n",
    "              ('onehot', OneHotEncoder(), variables_categoricas)\n",
    "          ],\n",
    "          remainder='passthrough',sparse_threshold=1  # Deja las columnas no especificadas sin cambios (si las hay)\n",
    "      )\n",
    "\n",
    "      # Aplica el ColumnTransformer a las columnas numéricas\n",
    "      df_transformed = preprocessor.fit_transform(df)\n",
    "      df_transformed = df_transformed.toarray()\n",
    "\n",
    "      print(preprocessor)\n",
    "      df_transformed = pd.DataFrame(df_transformed)\n",
    "\n",
    "      path = f\"EDA_{self.date}\"+ \"/scale/scaled_features.csv\"\n",
    "      df_transformed.to_csv(path, index=False)\n",
    "\n",
    "      return preprocessor\n",
    "\n",
    "    def reduction(self):\n",
    "      df = self.clean_data(self.data.columns,nulos='drop')\n",
    "      preprocessor = self.scale()\n",
    "      pipeline = Pipeline([\n",
    "          ('preprocessor', preprocessor),\n",
    "          ('tsne', TSNE(n_components=2, random_state=42,init=\"random\"))\n",
    "      ])\n",
    "\n",
    "      reduced_data = pipeline.fit_transform(df)\n",
    "      return reduced_data\n",
    "\n",
    "    def metodo_codo(self):\n",
    "\n",
    "      df = self.clean_data(self.data.columns,nulos='drop')\n",
    "      preprocessor = self.scale()\n",
    "\n",
    "      inercias_array=[]\n",
    "      for k in range(1,15):\n",
    "            pipeline_kmeans = Pipeline([\n",
    "                ('preprocessor', preprocessor),\n",
    "                ('kmeans', KMeans(n_clusters=k))\n",
    "            ])\n",
    "            pipeline_kmeans.fit(df)\n",
    "            inercias_array.append(pipeline_kmeans['kmeans'].inertia_)\n",
    "\n",
    "      #calcular las pendientes de las inercias\n",
    "\n",
    "\n",
    "      # Aplicar la \"Regla del Codo\" para encontrar el número óptimo de clusters\n",
    "      x = np.array(range(1, 15))\n",
    "      #normalizar vectores\n",
    "      x = (x - np.min(x)) / (np.max(x) - np.min(x))\n",
    "      inercias_array = (inercias_array - np.min(inercias_array)) / (np.max(inercias_array) - np.min(inercias_array))\n",
    "      #aplicar la regla del codo\n",
    "      a = x**2 + inercias_array**2\n",
    "      b = (x - 1)**2 + (inercias_array - 1)**2\n",
    "      c = inercias_array**2\n",
    "      f = b / (a + c)\n",
    "      optimo = np.argmax(f)  # Sumamos 1 porque los índices en Python comienzan en 0\n",
    "\n",
    "      plt.figure(figsize=(14,6))\n",
    "      plt.plot(range(1, 15), inercias_array, marker='o', linestyle='-', color='b')\n",
    "      plt.title('Método del Codo')\n",
    "      plt.xlabel('Número de Clusters')\n",
    "      plt.ylabel('Inercia')\n",
    "      plt.grid(True)\n",
    "      plt.show()\n",
    "      return optimo\n",
    "\n",
    "    def make_clusters(self):\n",
    "      subfolder_path = os.path.join(self.folder_name, 'clusters')\n",
    "      if not os.path.exists(subfolder_path):\n",
    "          os.makedirs(subfolder_path)\n",
    "      df = self.clean_data(self.data.columns,nulos='drop')\n",
    "      reduced_data=self.reduction()\n",
    "      preprocessor = self.scale()\n",
    "      clusters_op = self.metodo_codo()\n",
    "\n",
    "      pipeline = Pipeline([\n",
    "          ('preprocessor', preprocessor),\n",
    "          ('kmeans', KMeans(n_clusters=clusters_op)) ## para incluir \"dbscan\" habria que hacer un mapeo\n",
    "      ])\n",
    "\n",
    "      pipeline.fit_transform(df)\n",
    "      cluster_labels = pipeline.named_steps['kmeans'].labels_\n",
    "\n",
    "      data_with_clusters = df.copy()\n",
    "      data_with_clusters['cluster'] = cluster_labels\n",
    "      cluster_data_path = os.path.join(subfolder_path, 'data_clusters.csv')\n",
    "      data_with_clusters.to_csv(cluster_data_path, index=False)\n",
    "\n",
    "\n",
    "      # Crea un DataFrame con los datos reducidos\n",
    "      reduced_df = pd.DataFrame(data=reduced_data, columns=['Dimension 1', 'Dimension 2'])\n",
    "      reduced_df['Cluster'] = cluster_labels  # Agrega las etiquetas de los clusters\n",
    "\n",
    "      # Grafica los datos en un scatterplot con colores según el cluster\n",
    "      plt.figure(figsize=(10, 8))\n",
    "      sns.scatterplot(x='Dimension 1', y='Dimension 2', data=reduced_df, hue='Cluster', palette='viridis')\n",
    "      plt.title('Clusteres sobre reducción de Dimensionalidad con t-SNE')\n",
    "      plt.savefig(f\"{subfolder_path}/Clusters.pdf\", format='pdf')\n",
    "      plt.show()\n",
    "\n",
    "      return cluster_labels\n",
    "\n",
    "    def detect_anomalies(self):\n",
    "      #Se crea carpeta en directorio de trabajo con el nombre EDA_fecha\n",
    "      subfolder_path = os.path.join(self.folder_name, 'anomalies')\n",
    "      if not os.path.exists(subfolder_path):\n",
    "          os.makedirs(subfolder_path)  # Crea la carpeta dentro de EDA_fecha\n",
    "\n",
    "      df = self.clean_data(self.data.columns,nulos='drop')\n",
    "      reduced_data=self.reduction()\n",
    "      preprocessor = self.scale()\n",
    "      pipeline = Pipeline([\n",
    "          ('preprocessor', preprocessor),\n",
    "          ('anomalies', IsolationForest(n_estimators=100, contamination=0.05, random_state=42))\n",
    "      ])\n",
    "\n",
    "      pipeline.fit(df)\n",
    "      anomalies_labels = pipeline.named_steps['anomalies'].predict(pipeline.named_steps['preprocessor'].transform(df)) #devuelve 1 para muestras que no son anomalías y -1 para muestras que se consideran anomalías\n",
    "\n",
    "      data_with_anomalies = df.copy()\n",
    "      data_with_anomalies['anomalies'] = anomalies_labels\n",
    "      anomalies_data_path = os.path.join(subfolder_path, 'data_anomalies.csv')\n",
    "      data_with_anomalies.to_csv(anomalies_data_path, index=False)\n",
    "\n",
    "      # Crea un DataFrame con los datos reducidos\n",
    "      reduced_df = pd.DataFrame(data=reduced_data, columns=['Dimension 1', 'Dimension 2'])\n",
    "      reduced_df['anomalies_labels'] = anomalies_labels  # Agrega las etiquetas de las anomalías\n",
    "      reduced_df['anomalies_labels'] = reduced_df['anomalies_labels'].replace({1: 'No anomalía', -1: 'Anomalía'})\n",
    "\n",
    "      # Grafica los datos en un scatterplot con colores según el cluster\n",
    "      plt.figure(figsize=(10, 8))\n",
    "      sns.scatterplot(x='Dimension 1', y='Dimension 2', data=reduced_df, hue='anomalies_labels', palette='viridis')\n",
    "      plt.title('Anomalias sobre reducción de Dimensionalidad con t-SNE')\n",
    "      plt.savefig(f\"{subfolder_path}/Anomalies.pdf\", format='pdf')\n",
    "      plt.show()\n",
    "\n",
    "      return anomalies_labels\n",
    "\n",
    "\n",
    "    def profile(self,variable_nombre,n, nulos):\n",
    "      self.summarize(variable_nombre)\n",
    "      self.plot_vars(variable_nombre,n)\n",
    "      self.scale()\n",
    "      self.clean_data(variable_nombre,nulos)\n",
    "      self.make_clusters()\n",
    "      self.detect_anomalies()\n",
    "      ## Rellenar\n",
    "\n",
    "    def clearGarbage(self):\n",
    "        if self.folder_name:\n",
    "            try:\n",
    "                shutil.rmtree(self.folder_name)  # Elimina la carpeta y su contenido\n",
    "            except FileNotFoundError:\n",
    "                pass  # Si no existe la carpeta, no se produce un error\n",
    "\n",
    "\n",
    "\n"
   ]
  },
  {
   "cell_type": "code",
   "execution_count": null,
   "metadata": {},
   "outputs": [
    {
     "data": {
      "text/plain": [
       "(25403, 47)"
      ]
     },
     "execution_count": 126,
     "metadata": {},
     "output_type": "execute_result"
    }
   ],
   "source": [
    "df_limpio.shape"
   ]
  },
  {
   "cell_type": "code",
   "execution_count": null,
   "metadata": {},
   "outputs": [],
   "source": [
    "df_limpio"
   ]
  },
  {
   "cell_type": "code",
   "execution_count": null,
   "metadata": {},
   "outputs": [
    {
     "data": {
      "application/vnd.plotly.v1+json": {
       "config": {
        "plotlyServerURL": "https://plot.ly"
       },
       "data": [
        {
         "coloraxis": "coloraxis",
         "hovertemplate": "x: %{x}<br>y: %{y}<br>color: %{z}<extra></extra>",
         "name": "0",
         "type": "heatmap",
         "x": [
          "Cód. Institución",
          "Cód. Carrera",
          "Año Inicio Actividades",
          "Duración (en semestres)",
          "Promedio Puntaje (promedio matemáticas y lenguaje)",
          "Puntaje de corte (primer seleccionado)",
          "Puntaje de corte (promedio de la carrera)",
          "Puntaje de corte (último seleccionado)",
          "Promedio Puntaje NEM",
          "Promedio Puntaje Ranking",
          "Nº Alumnos Ingreso Via PSU o PDT",
          "Nº Alumnos Ingreso Otra Via",
          "Valor de matrícula",
          "Valor de arancel",
          "Valor del Título",
          "Vacantes",
          "Matrícula primer año hombres",
          "Matrícula primer año mujeres",
          "Matrícula primer año extranjeros",
          "Matrícula Primer Año",
          "Matrícula total hombres",
          "Matrícula total mujeres",
          "Matrícula total extranjeros",
          "Matrícula Total"
         ],
         "xaxis": "x",
         "y": [
          "Cód. Institución",
          "Cód. Carrera",
          "Año Inicio Actividades",
          "Duración (en semestres)",
          "Promedio Puntaje (promedio matemáticas y lenguaje)",
          "Puntaje de corte (primer seleccionado)",
          "Puntaje de corte (promedio de la carrera)",
          "Puntaje de corte (último seleccionado)",
          "Promedio Puntaje NEM",
          "Promedio Puntaje Ranking",
          "Nº Alumnos Ingreso Via PSU o PDT",
          "Nº Alumnos Ingreso Otra Via",
          "Valor de matrícula",
          "Valor de arancel",
          "Valor del Título",
          "Vacantes",
          "Matrícula primer año hombres",
          "Matrícula primer año mujeres",
          "Matrícula primer año extranjeros",
          "Matrícula Primer Año",
          "Matrícula total hombres",
          "Matrícula total mujeres",
          "Matrícula total extranjeros",
          "Matrícula Total"
         ],
         "yaxis": "y",
         "z": [
          [
           1,
           0.22021563682808296,
           0.3290285953173901,
           -0.11952173215624064,
           -0.3618255619733095,
           -0.2214359517644685,
           -0.31942050039745745,
           -0.3558220623273301,
           -0.27656810113249625,
           -0.2809759090708784,
           -0.12261450732100619,
           0.1391012845116493,
           -0.0803346995007723,
           -0.19613594339464485,
           -0.005519189298007596,
           -0.08681136590977483,
           -0.10374586077076936,
           -0.03407687848617005,
           -0.08503652413205381,
           -0.08728662374599935,
           -0.14128384369526015,
           -0.1007721598321116,
           -0.11717829219279847,
           -0.13903853861112792
          ],
          [
           0.22021563682808296,
           1,
           0.511186602721118,
           -0.24689562187318026,
           -0.07518218752894024,
           0.05121129818649706,
           -0.018173830843372898,
           -0.10172109532184538,
           0.00802152221031344,
           0.0008520688134942375,
           -0.12199197488326796,
           0.14555819194045708,
           0.11961469615839557,
           0.10510653091202247,
           0.0013910750211761356,
           -0.10586195560454299,
           -0.09203948961949987,
           -0.09720088731584411,
           -0.005160671347312481,
           -0.10826442867301594,
           -0.1734029618471415,
           -0.20344547942386826,
           -0.04027657304472363,
           -0.2094615188018058
          ],
          [
           0.3290285953173901,
           0.511186602721118,
           1,
           -0.22146372247529908,
           -0.3571727243640643,
           -0.19935248233154082,
           -0.2978513139257551,
           -0.3535902433223158,
           -0.1937072578612365,
           -0.19514143097704872,
           -0.347603080820864,
           -0.033545496906791115,
           0.07546592426724018,
           -0.08165550464174652,
           0.060578307877250534,
           -0.33583254587091016,
           -0.272593404571292,
           -0.27065276191420773,
           -0.14514060643081134,
           -0.2880412726546567,
           -0.4042505003973091,
           -0.39687222851702997,
           -0.24301298528677476,
           -0.4514860148443849
          ],
          [
           -0.11952173215624064,
           -0.24689562187318026,
           -0.22146372247529908,
           1,
           0.2640335566611278,
           0.2407083951874612,
           0.27702347431749946,
           0.24291163053272874,
           0.25795068987575026,
           0.2687031851321243,
           0.09162704364257208,
           -0.32944129530183225,
           0.06782082326813094,
           0.3471955714090579,
           0.0813282429819583,
           0.09511874934726552,
           0.11758602589904558,
           0.07526731678407848,
           0.08289881060063645,
           0.13840633165839317,
           0.2667684469075536,
           0.2370264863153223,
           0.13013549801628077,
           0.28894611546654775
          ],
          [
           -0.3618255619733095,
           -0.07518218752894024,
           -0.3571727243640643,
           0.2640335566611278,
           1,
           0.6917183928878275,
           0.9056532037188344,
           0.8702626101479419,
           0.7790024618180423,
           0.763747062757208,
           0.3676330457144605,
           0.179340920685119,
           0.034113962766826544,
           0.43669228479804695,
           -0.02478071967101764,
           0.32365074034909386,
           0.3298001736891335,
           0.31664221320845887,
           0.18331804958343084,
           0.3812243281434464,
           0.3748345316580058,
           0.36182135611739236,
           0.2574401570472995,
           0.421748336149443
          ],
          [
           -0.2214359517644685,
           0.05121129818649706,
           -0.19935248233154082,
           0.2407083951874612,
           0.6917183928878275,
           1,
           0.7968125321957323,
           0.5770071320303846,
           0.7811368887594003,
           0.7557330693411619,
           0.3328192323707847,
           0.1463984728026298,
           0.16033979048603303,
           0.5694564722813942,
           0.0028472029963121526,
           0.29051367313915855,
           0.2816635504236192,
           0.3123286496650352,
           0.21385224653075796,
           0.34681495053017236,
           0.30440430586042516,
           0.32373811971804667,
           0.25674564918600873,
           0.3568572561379333
          ],
          [
           -0.31942050039745745,
           -0.018173830843372898,
           -0.2978513139257551,
           0.27702347431749946,
           0.9056532037188344,
           0.7968125321957323,
           1,
           0.9052935528771051,
           0.9343166165778652,
           0.932370131323894,
           0.3575485044312561,
           0.20103855308106214,
           0.08828283023930225,
           0.5464992028699783,
           0.006650753520946988,
           0.3084663145473239,
           0.2766382028992949,
           0.37196056372553915,
           0.2144532820279118,
           0.3728605126808747,
           0.3348893896767783,
           0.4133849184895216,
           0.2796506999691924,
           0.42009625324050937
          ],
          [
           -0.3558220623273301,
           -0.10172109532184538,
           -0.3535902433223158,
           0.24291163053272874,
           0.8702626101479419,
           0.5770071320303846,
           0.9052935528771051,
           1,
           0.8097046960756025,
           0.8237019180904703,
           0.3659185667303474,
           0.1916832181136218,
           -0.003565339194582123,
           0.38714479252645034,
           0.0019520668134885468,
           0.3098763356985162,
           0.2667549982543086,
           0.3906543723598677,
           0.17254402855628187,
           0.37521254313559643,
           0.32357004026322944,
           0.43278562497065326,
           0.2365095108168761,
           0.4223653302833869
          ],
          [
           -0.27656810113249625,
           0.00802152221031344,
           -0.1937072578612365,
           0.25795068987575026,
           0.7790024618180423,
           0.7811368887594003,
           0.9343166165778652,
           0.8097046960756025,
           1,
           0.983042780635585,
           0.2926372161900545,
           0.18463102632440095,
           0.09264925190235819,
           0.5988819979298206,
           -0.022160583957532336,
           0.2565793794682613,
           0.18807863680100115,
           0.3555485185467403,
           0.20882783294941423,
           0.30269007656429403,
           0.2439855615189262,
           0.39759096234454516,
           0.27079159508037465,
           0.3499735451434772
          ],
          [
           -0.2809759090708784,
           0.0008520688134942375,
           -0.19514143097704872,
           0.2687031851321243,
           0.763747062757208,
           0.7557330693411619,
           0.932370131323894,
           0.8237019180904703,
           0.983042780635585,
           1,
           0.2956454765862195,
           0.18258225842867254,
           0.0808952923588537,
           0.5795813205989557,
           -0.000028623650102071006,
           0.2545134073968306,
           0.18604607091149644,
           0.3618629594179627,
           0.2059269084278543,
           0.3044209959935907,
           0.24137286246349018,
           0.4003393500320028,
           0.26048967763708464,
           0.3495758294054997
          ],
          [
           -0.12261450732100619,
           -0.12199197488326796,
           -0.347603080820864,
           0.09162704364257208,
           0.3676330457144605,
           0.3328192323707847,
           0.3575485044312561,
           0.3659185667303474,
           0.2926372161900545,
           0.2956454765862195,
           1,
           0.49874685886376324,
           0.026003651686451114,
           0.2579239447008004,
           -0.025236469474678103,
           0.9014917281004071,
           0.8318548960673318,
           0.7337070841466786,
           0.3654150187586181,
           0.9234462304350979,
           0.7645856263824716,
           0.6569313622044699,
           0.4426706839869951,
           0.8189046855594114
          ],
          [
           0.1391012845116493,
           0.14555819194045708,
           -0.033545496906791115,
           -0.32944129530183225,
           0.179340920685119,
           0.1463984728026298,
           0.20103855308106214,
           0.1916832181136218,
           0.18463102632440095,
           0.18258225842867254,
           0.49874685886376324,
           1,
           -0.05170579167469063,
           -0.04302946830486731,
           -0.056586761828177214,
           0.43787922144970176,
           0.40175234907598933,
           0.4399644861840577,
           0.3571564893343207,
           0.48078931708776723,
           0.337525154717299,
           0.3028896905807339,
           0.36375677854154925,
           0.3617359502144575
          ],
          [
           -0.0803346995007723,
           0.11961469615839557,
           0.07546592426724018,
           0.06782082326813094,
           0.034113962766826544,
           0.16033979048603303,
           0.08828283023930225,
           -0.003565339194582123,
           0.09264925190235819,
           0.0808952923588537,
           0.026003651686451114,
           -0.05170579167469063,
           1,
           0.4193114357970366,
           0.06734322990815314,
           0.061749606184669174,
           0.06782879013812035,
           0.06422358549891863,
           0.1278184721991686,
           0.07958685207328015,
           0.06989626929085355,
           0.07699158080614987,
           0.12187497704054977,
           0.08375887935275855
          ],
          [
           -0.19613594339464485,
           0.10510653091202247,
           -0.08165550464174652,
           0.3471955714090579,
           0.43669228479804695,
           0.5694564722813942,
           0.5464992028699783,
           0.38714479252645034,
           0.5988819979298206,
           0.5795813205989557,
           0.2579239447008004,
           -0.04302946830486731,
           0.4193114357970366,
           1,
           0.08115440606412316,
           0.29434310801275987,
           0.25764293717611914,
           0.23416804222272988,
           0.2818814935249555,
           0.2913743408053403,
           0.31822330378983077,
           0.30700631991286004,
           0.32345596727554793,
           0.35807957678540175
          ],
          [
           -0.005519189298007596,
           0.0013910750211761356,
           0.060578307877250534,
           0.0813282429819583,
           -0.02478071967101764,
           0.0028472029963121526,
           0.006650753520946988,
           0.0019520668134885468,
           -0.022160583957532336,
           -0.000028623650102071006,
           -0.025236469474678103,
           -0.056586761828177214,
           0.06734322990815314,
           0.08115440606412316,
           1,
           -0.023302300212029867,
           -0.01292075567895016,
           -0.006010960662715428,
           0.002314987646482497,
           -0.010716330631372934,
           -0.00624726215457443,
           -0.0000953018714124063,
           -0.00021922812780708297,
           -0.003747690142908589
          ],
          [
           -0.08681136590977483,
           -0.10586195560454299,
           -0.33583254587091016,
           0.09511874934726552,
           0.32365074034909386,
           0.29051367313915855,
           0.3084663145473239,
           0.3098763356985162,
           0.2565793794682613,
           0.2545134073968306,
           0.9014917281004071,
           0.43787922144970176,
           0.061749606184669174,
           0.29434310801275987,
           -0.023302300212029867,
           1,
           0.8630313878978193,
           0.7420446712295246,
           0.3912782117935362,
           0.9477975748605748,
           0.8069726610746377,
           0.6789864071234399,
           0.4789648272614849,
           0.8547085733732217
          ],
          [
           -0.10374586077076936,
           -0.09203948961949987,
           -0.272593404571292,
           0.11758602589904558,
           0.3298001736891335,
           0.2816635504236192,
           0.2766382028992949,
           0.2667549982543086,
           0.18807863680100115,
           0.18604607091149644,
           0.8318548960673318,
           0.40175234907598933,
           0.06782879013812035,
           0.25764293717611914,
           -0.01292075567895016,
           0.8630313878978193,
           1,
           0.4966255676985025,
           0.39550389691174953,
           0.8952553298777745,
           0.8755832228407776,
           0.43243791322912245,
           0.4649008016421617,
           0.7741513259712457
          ],
          [
           -0.03407687848617005,
           -0.09720088731584411,
           -0.27065276191420773,
           0.07526731678407848,
           0.31664221320845887,
           0.3123286496650352,
           0.37196056372553915,
           0.3906543723598677,
           0.3555485185467403,
           0.3618629594179627,
           0.7337070841466786,
           0.4399644861840577,
           0.06422358549891863,
           0.23416804222272988,
           -0.006010960662715428,
           0.7420446712295246,
           0.4966255676985025,
           1,
           0.33897128129916076,
           0.8299735149690947,
           0.4506746092777995,
           0.8558885262122562,
           0.3779218188956075,
           0.7078984915984617
          ],
          [
           -0.08503652413205381,
           -0.005160671347312481,
           -0.14514060643081134,
           0.08289881060063645,
           0.18331804958343084,
           0.21385224653075796,
           0.2144532820279118,
           0.17254402855628187,
           0.20882783294941423,
           0.2059269084278543,
           0.3654150187586181,
           0.3571564893343207,
           0.1278184721991686,
           0.2818814935249555,
           0.002314987646482497,
           0.3912782117935362,
           0.39550389691174953,
           0.33897128129916076,
           1,
           0.42129374365524663,
           0.40315201815383944,
           0.3489493757522638,
           0.7041061145801826,
           0.42536025056047216
          ],
          [
           -0.08728662374599935,
           -0.10826442867301594,
           -0.2880412726546567,
           0.13840633165839317,
           0.3812243281434464,
           0.34681495053017236,
           0.3728605126808747,
           0.37521254313559643,
           0.30269007656429403,
           0.3044209959935907,
           0.9234462304350979,
           0.48078931708776723,
           0.07958685207328015,
           0.2913743408053403,
           -0.010716330631372934,
           0.9477975748605748,
           0.8952553298777745,
           0.8299735149690947,
           0.42129374365524663,
           1,
           0.7888477350520338,
           0.7278178085978122,
           0.48292181946925117,
           0.861354297335239
          ],
          [
           -0.14128384369526015,
           -0.1734029618471415,
           -0.4042505003973091,
           0.2667684469075536,
           0.3748345316580058,
           0.30440430586042516,
           0.3348893896767783,
           0.32357004026322944,
           0.2439855615189262,
           0.24137286246349018,
           0.7645856263824716,
           0.337525154717299,
           0.06989626929085355,
           0.31822330378983077,
           -0.00624726215457443,
           0.8069726610746377,
           0.8755832228407776,
           0.4506746092777995,
           0.40315201815383944,
           0.7888477350520338,
           1,
           0.5606537309609652,
           0.5498571266633552,
           0.9136782464668297
          ],
          [
           -0.1007721598321116,
           -0.20344547942386826,
           -0.39687222851702997,
           0.2370264863153223,
           0.36182135611739236,
           0.32373811971804667,
           0.4133849184895216,
           0.43278562497065326,
           0.39759096234454516,
           0.4003393500320028,
           0.6569313622044699,
           0.3028896905807339,
           0.07699158080614987,
           0.30700631991286004,
           -0.0000953018714124063,
           0.6789864071234399,
           0.43243791322912245,
           0.8558885262122562,
           0.3489493757522638,
           0.7278178085978122,
           0.5606537309609652,
           1,
           0.4514622313223169,
           0.8488500371274613
          ],
          [
           -0.11717829219279847,
           -0.04027657304472363,
           -0.24301298528677476,
           0.13013549801628077,
           0.2574401570472995,
           0.25674564918600873,
           0.2796506999691924,
           0.2365095108168761,
           0.27079159508037465,
           0.26048967763708464,
           0.4426706839869951,
           0.36375677854154925,
           0.12187497704054977,
           0.32345596727554793,
           -0.00021922812780708297,
           0.4789648272614849,
           0.4649008016421617,
           0.3779218188956075,
           0.7041061145801826,
           0.48292181946925117,
           0.5498571266633552,
           0.4514622313223169,
           1,
           0.5703240218199147
          ],
          [
           -0.13903853861112792,
           -0.2094615188018058,
           -0.4514860148443849,
           0.28894611546654775,
           0.421748336149443,
           0.3568572561379333,
           0.42009625324050937,
           0.4223653302833869,
           0.3499735451434772,
           0.3495758294054997,
           0.8189046855594114,
           0.3617359502144575,
           0.08375887935275855,
           0.35807957678540175,
           -0.003747690142908589,
           0.8547085733732217,
           0.7741513259712457,
           0.7078984915984617,
           0.42536025056047216,
           0.861354297335239,
           0.9136782464668297,
           0.8488500371274613,
           0.5703240218199147,
           1
          ]
         ]
        }
       ],
       "layout": {
        "coloraxis": {
         "colorscale": [
          [
           0,
           "#0d0887"
          ],
          [
           0.1111111111111111,
           "#46039f"
          ],
          [
           0.2222222222222222,
           "#7201a8"
          ],
          [
           0.3333333333333333,
           "#9c179e"
          ],
          [
           0.4444444444444444,
           "#bd3786"
          ],
          [
           0.5555555555555556,
           "#d8576b"
          ],
          [
           0.6666666666666666,
           "#ed7953"
          ],
          [
           0.7777777777777778,
           "#fb9f3a"
          ],
          [
           0.8888888888888888,
           "#fdca26"
          ],
          [
           1,
           "#f0f921"
          ]
         ]
        },
        "margin": {
         "t": 60
        },
        "template": {
         "data": {
          "bar": [
           {
            "error_x": {
             "color": "#2a3f5f"
            },
            "error_y": {
             "color": "#2a3f5f"
            },
            "marker": {
             "line": {
              "color": "#E5ECF6",
              "width": 0.5
             },
             "pattern": {
              "fillmode": "overlay",
              "size": 10,
              "solidity": 0.2
             }
            },
            "type": "bar"
           }
          ],
          "barpolar": [
           {
            "marker": {
             "line": {
              "color": "#E5ECF6",
              "width": 0.5
             },
             "pattern": {
              "fillmode": "overlay",
              "size": 10,
              "solidity": 0.2
             }
            },
            "type": "barpolar"
           }
          ],
          "carpet": [
           {
            "aaxis": {
             "endlinecolor": "#2a3f5f",
             "gridcolor": "white",
             "linecolor": "white",
             "minorgridcolor": "white",
             "startlinecolor": "#2a3f5f"
            },
            "baxis": {
             "endlinecolor": "#2a3f5f",
             "gridcolor": "white",
             "linecolor": "white",
             "minorgridcolor": "white",
             "startlinecolor": "#2a3f5f"
            },
            "type": "carpet"
           }
          ],
          "choropleth": [
           {
            "colorbar": {
             "outlinewidth": 0,
             "ticks": ""
            },
            "type": "choropleth"
           }
          ],
          "contour": [
           {
            "colorbar": {
             "outlinewidth": 0,
             "ticks": ""
            },
            "colorscale": [
             [
              0,
              "#0d0887"
             ],
             [
              0.1111111111111111,
              "#46039f"
             ],
             [
              0.2222222222222222,
              "#7201a8"
             ],
             [
              0.3333333333333333,
              "#9c179e"
             ],
             [
              0.4444444444444444,
              "#bd3786"
             ],
             [
              0.5555555555555556,
              "#d8576b"
             ],
             [
              0.6666666666666666,
              "#ed7953"
             ],
             [
              0.7777777777777778,
              "#fb9f3a"
             ],
             [
              0.8888888888888888,
              "#fdca26"
             ],
             [
              1,
              "#f0f921"
             ]
            ],
            "type": "contour"
           }
          ],
          "contourcarpet": [
           {
            "colorbar": {
             "outlinewidth": 0,
             "ticks": ""
            },
            "type": "contourcarpet"
           }
          ],
          "heatmap": [
           {
            "colorbar": {
             "outlinewidth": 0,
             "ticks": ""
            },
            "colorscale": [
             [
              0,
              "#0d0887"
             ],
             [
              0.1111111111111111,
              "#46039f"
             ],
             [
              0.2222222222222222,
              "#7201a8"
             ],
             [
              0.3333333333333333,
              "#9c179e"
             ],
             [
              0.4444444444444444,
              "#bd3786"
             ],
             [
              0.5555555555555556,
              "#d8576b"
             ],
             [
              0.6666666666666666,
              "#ed7953"
             ],
             [
              0.7777777777777778,
              "#fb9f3a"
             ],
             [
              0.8888888888888888,
              "#fdca26"
             ],
             [
              1,
              "#f0f921"
             ]
            ],
            "type": "heatmap"
           }
          ],
          "heatmapgl": [
           {
            "colorbar": {
             "outlinewidth": 0,
             "ticks": ""
            },
            "colorscale": [
             [
              0,
              "#0d0887"
             ],
             [
              0.1111111111111111,
              "#46039f"
             ],
             [
              0.2222222222222222,
              "#7201a8"
             ],
             [
              0.3333333333333333,
              "#9c179e"
             ],
             [
              0.4444444444444444,
              "#bd3786"
             ],
             [
              0.5555555555555556,
              "#d8576b"
             ],
             [
              0.6666666666666666,
              "#ed7953"
             ],
             [
              0.7777777777777778,
              "#fb9f3a"
             ],
             [
              0.8888888888888888,
              "#fdca26"
             ],
             [
              1,
              "#f0f921"
             ]
            ],
            "type": "heatmapgl"
           }
          ],
          "histogram": [
           {
            "marker": {
             "pattern": {
              "fillmode": "overlay",
              "size": 10,
              "solidity": 0.2
             }
            },
            "type": "histogram"
           }
          ],
          "histogram2d": [
           {
            "colorbar": {
             "outlinewidth": 0,
             "ticks": ""
            },
            "colorscale": [
             [
              0,
              "#0d0887"
             ],
             [
              0.1111111111111111,
              "#46039f"
             ],
             [
              0.2222222222222222,
              "#7201a8"
             ],
             [
              0.3333333333333333,
              "#9c179e"
             ],
             [
              0.4444444444444444,
              "#bd3786"
             ],
             [
              0.5555555555555556,
              "#d8576b"
             ],
             [
              0.6666666666666666,
              "#ed7953"
             ],
             [
              0.7777777777777778,
              "#fb9f3a"
             ],
             [
              0.8888888888888888,
              "#fdca26"
             ],
             [
              1,
              "#f0f921"
             ]
            ],
            "type": "histogram2d"
           }
          ],
          "histogram2dcontour": [
           {
            "colorbar": {
             "outlinewidth": 0,
             "ticks": ""
            },
            "colorscale": [
             [
              0,
              "#0d0887"
             ],
             [
              0.1111111111111111,
              "#46039f"
             ],
             [
              0.2222222222222222,
              "#7201a8"
             ],
             [
              0.3333333333333333,
              "#9c179e"
             ],
             [
              0.4444444444444444,
              "#bd3786"
             ],
             [
              0.5555555555555556,
              "#d8576b"
             ],
             [
              0.6666666666666666,
              "#ed7953"
             ],
             [
              0.7777777777777778,
              "#fb9f3a"
             ],
             [
              0.8888888888888888,
              "#fdca26"
             ],
             [
              1,
              "#f0f921"
             ]
            ],
            "type": "histogram2dcontour"
           }
          ],
          "mesh3d": [
           {
            "colorbar": {
             "outlinewidth": 0,
             "ticks": ""
            },
            "type": "mesh3d"
           }
          ],
          "parcoords": [
           {
            "line": {
             "colorbar": {
              "outlinewidth": 0,
              "ticks": ""
             }
            },
            "type": "parcoords"
           }
          ],
          "pie": [
           {
            "automargin": true,
            "type": "pie"
           }
          ],
          "scatter": [
           {
            "fillpattern": {
             "fillmode": "overlay",
             "size": 10,
             "solidity": 0.2
            },
            "type": "scatter"
           }
          ],
          "scatter3d": [
           {
            "line": {
             "colorbar": {
              "outlinewidth": 0,
              "ticks": ""
             }
            },
            "marker": {
             "colorbar": {
              "outlinewidth": 0,
              "ticks": ""
             }
            },
            "type": "scatter3d"
           }
          ],
          "scattercarpet": [
           {
            "marker": {
             "colorbar": {
              "outlinewidth": 0,
              "ticks": ""
             }
            },
            "type": "scattercarpet"
           }
          ],
          "scattergeo": [
           {
            "marker": {
             "colorbar": {
              "outlinewidth": 0,
              "ticks": ""
             }
            },
            "type": "scattergeo"
           }
          ],
          "scattergl": [
           {
            "marker": {
             "colorbar": {
              "outlinewidth": 0,
              "ticks": ""
             }
            },
            "type": "scattergl"
           }
          ],
          "scattermapbox": [
           {
            "marker": {
             "colorbar": {
              "outlinewidth": 0,
              "ticks": ""
             }
            },
            "type": "scattermapbox"
           }
          ],
          "scatterpolar": [
           {
            "marker": {
             "colorbar": {
              "outlinewidth": 0,
              "ticks": ""
             }
            },
            "type": "scatterpolar"
           }
          ],
          "scatterpolargl": [
           {
            "marker": {
             "colorbar": {
              "outlinewidth": 0,
              "ticks": ""
             }
            },
            "type": "scatterpolargl"
           }
          ],
          "scatterternary": [
           {
            "marker": {
             "colorbar": {
              "outlinewidth": 0,
              "ticks": ""
             }
            },
            "type": "scatterternary"
           }
          ],
          "surface": [
           {
            "colorbar": {
             "outlinewidth": 0,
             "ticks": ""
            },
            "colorscale": [
             [
              0,
              "#0d0887"
             ],
             [
              0.1111111111111111,
              "#46039f"
             ],
             [
              0.2222222222222222,
              "#7201a8"
             ],
             [
              0.3333333333333333,
              "#9c179e"
             ],
             [
              0.4444444444444444,
              "#bd3786"
             ],
             [
              0.5555555555555556,
              "#d8576b"
             ],
             [
              0.6666666666666666,
              "#ed7953"
             ],
             [
              0.7777777777777778,
              "#fb9f3a"
             ],
             [
              0.8888888888888888,
              "#fdca26"
             ],
             [
              1,
              "#f0f921"
             ]
            ],
            "type": "surface"
           }
          ],
          "table": [
           {
            "cells": {
             "fill": {
              "color": "#EBF0F8"
             },
             "line": {
              "color": "white"
             }
            },
            "header": {
             "fill": {
              "color": "#C8D4E3"
             },
             "line": {
              "color": "white"
             }
            },
            "type": "table"
           }
          ]
         },
         "layout": {
          "annotationdefaults": {
           "arrowcolor": "#2a3f5f",
           "arrowhead": 0,
           "arrowwidth": 1
          },
          "autotypenumbers": "strict",
          "coloraxis": {
           "colorbar": {
            "outlinewidth": 0,
            "ticks": ""
           }
          },
          "colorscale": {
           "diverging": [
            [
             0,
             "#8e0152"
            ],
            [
             0.1,
             "#c51b7d"
            ],
            [
             0.2,
             "#de77ae"
            ],
            [
             0.3,
             "#f1b6da"
            ],
            [
             0.4,
             "#fde0ef"
            ],
            [
             0.5,
             "#f7f7f7"
            ],
            [
             0.6,
             "#e6f5d0"
            ],
            [
             0.7,
             "#b8e186"
            ],
            [
             0.8,
             "#7fbc41"
            ],
            [
             0.9,
             "#4d9221"
            ],
            [
             1,
             "#276419"
            ]
           ],
           "sequential": [
            [
             0,
             "#0d0887"
            ],
            [
             0.1111111111111111,
             "#46039f"
            ],
            [
             0.2222222222222222,
             "#7201a8"
            ],
            [
             0.3333333333333333,
             "#9c179e"
            ],
            [
             0.4444444444444444,
             "#bd3786"
            ],
            [
             0.5555555555555556,
             "#d8576b"
            ],
            [
             0.6666666666666666,
             "#ed7953"
            ],
            [
             0.7777777777777778,
             "#fb9f3a"
            ],
            [
             0.8888888888888888,
             "#fdca26"
            ],
            [
             1,
             "#f0f921"
            ]
           ],
           "sequentialminus": [
            [
             0,
             "#0d0887"
            ],
            [
             0.1111111111111111,
             "#46039f"
            ],
            [
             0.2222222222222222,
             "#7201a8"
            ],
            [
             0.3333333333333333,
             "#9c179e"
            ],
            [
             0.4444444444444444,
             "#bd3786"
            ],
            [
             0.5555555555555556,
             "#d8576b"
            ],
            [
             0.6666666666666666,
             "#ed7953"
            ],
            [
             0.7777777777777778,
             "#fb9f3a"
            ],
            [
             0.8888888888888888,
             "#fdca26"
            ],
            [
             1,
             "#f0f921"
            ]
           ]
          },
          "colorway": [
           "#636efa",
           "#EF553B",
           "#00cc96",
           "#ab63fa",
           "#FFA15A",
           "#19d3f3",
           "#FF6692",
           "#B6E880",
           "#FF97FF",
           "#FECB52"
          ],
          "font": {
           "color": "#2a3f5f"
          },
          "geo": {
           "bgcolor": "white",
           "lakecolor": "white",
           "landcolor": "#E5ECF6",
           "showlakes": true,
           "showland": true,
           "subunitcolor": "white"
          },
          "hoverlabel": {
           "align": "left"
          },
          "hovermode": "closest",
          "mapbox": {
           "style": "light"
          },
          "paper_bgcolor": "white",
          "plot_bgcolor": "#E5ECF6",
          "polar": {
           "angularaxis": {
            "gridcolor": "white",
            "linecolor": "white",
            "ticks": ""
           },
           "bgcolor": "#E5ECF6",
           "radialaxis": {
            "gridcolor": "white",
            "linecolor": "white",
            "ticks": ""
           }
          },
          "scene": {
           "xaxis": {
            "backgroundcolor": "#E5ECF6",
            "gridcolor": "white",
            "gridwidth": 2,
            "linecolor": "white",
            "showbackground": true,
            "ticks": "",
            "zerolinecolor": "white"
           },
           "yaxis": {
            "backgroundcolor": "#E5ECF6",
            "gridcolor": "white",
            "gridwidth": 2,
            "linecolor": "white",
            "showbackground": true,
            "ticks": "",
            "zerolinecolor": "white"
           },
           "zaxis": {
            "backgroundcolor": "#E5ECF6",
            "gridcolor": "white",
            "gridwidth": 2,
            "linecolor": "white",
            "showbackground": true,
            "ticks": "",
            "zerolinecolor": "white"
           }
          },
          "shapedefaults": {
           "line": {
            "color": "#2a3f5f"
           }
          },
          "ternary": {
           "aaxis": {
            "gridcolor": "white",
            "linecolor": "white",
            "ticks": ""
           },
           "baxis": {
            "gridcolor": "white",
            "linecolor": "white",
            "ticks": ""
           },
           "bgcolor": "#E5ECF6",
           "caxis": {
            "gridcolor": "white",
            "linecolor": "white",
            "ticks": ""
           }
          },
          "title": {
           "x": 0.05
          },
          "xaxis": {
           "automargin": true,
           "gridcolor": "white",
           "linecolor": "white",
           "ticks": "",
           "title": {
            "standoff": 15
           },
           "zerolinecolor": "white",
           "zerolinewidth": 2
          },
          "yaxis": {
           "automargin": true,
           "gridcolor": "white",
           "linecolor": "white",
           "ticks": "",
           "title": {
            "standoff": 15
           },
           "zerolinecolor": "white",
           "zerolinewidth": 2
          }
         }
        },
        "title": {
         "text": "Matriz de Correlación de Variables Numéricas"
        },
        "xaxis": {
         "anchor": "y",
         "constrain": "domain",
         "domain": [
          0,
          1
         ],
         "scaleanchor": "y"
        },
        "yaxis": {
         "anchor": "x",
         "autorange": "reversed",
         "constrain": "domain",
         "domain": [
          0,
          1
         ]
        }
       }
      }
     },
     "metadata": {},
     "output_type": "display_data"
    }
   ],
   "source": [
    "prueba= Profiler(df_limpio)\n",
    "#prueba.profile(df_final.columns,10, nulos='drop')\n",
    "prueba.summarize(df_limpio.columns)\n",
    "prueba.plot_vars(df_limpio.columns,10)\n"
   ]
  }
 ],
 "metadata": {
  "kernelspec": {
   "display_name": "Python 3",
   "language": "python",
   "name": "python3"
  },
  "language_info": {
   "codemirror_mode": {
    "name": "ipython",
    "version": 3
   },
   "file_extension": ".py",
   "mimetype": "text/x-python",
   "name": "python",
   "nbconvert_exporter": "python",
   "pygments_lexer": "ipython3",
   "version": "3.11.6"
  }
 },
 "nbformat": 4,
 "nbformat_minor": 2
}
