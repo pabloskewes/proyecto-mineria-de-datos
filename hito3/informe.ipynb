{
 "cells": [
  {
   "cell_type": "markdown",
   "metadata": {},
   "source": [
    "# Índices Educación Superior Periodo 2005-2023"
   ]
  },
  {
   "cell_type": "markdown",
   "metadata": {},
   "source": [
    "## I. Introducción\n",
    "La educación es uno de los pilares de la sociedad, por tanto se hace interesante comprender cómo se relacionan algunos de sus indicadores y de que forma influyen unos con otros ¿existirá una relación entre el puntaje de corte de una carrera y su costo en arancel? ¿se pueden agrupar carreras y universidades según su información de matrícula?\n",
    "\n",
    "Se posee una base de datos histórica de educación superior que cuenta con registros desde 2005 a 2023 y que se explotará a continuación."
   ]
  },
  {
   "cell_type": "markdown",
   "metadata": {},
   "source": [
    "## II. Exploración de datos"
   ]
  },
  {
   "cell_type": "markdown",
   "metadata": {},
   "source": [
    "### Distribuciones importantes"
   ]
  },
  {
   "cell_type": "markdown",
   "metadata": {},
   "source": [
    "En primer lugar, se decide contabilizar el porcentaje de registros correspondientes a carreras de pregrado y postgrado, resultando en un 83.8% y 16.2% respectivamente.\n",
    "\n",
    "![Distribución de registros con respecto a la columna Pregrado/Posgrado](./outputs/dist.png)\n"
   ]
  },
  {
   "cell_type": "markdown",
   "metadata": {},
   "source": [
    "Por otra parte, la distribución de estudiantes por regiones es la siguiente:\n",
    "\n",
    "![Distribución de estudiantes por regiones](./outputs/count_students.png)"
   ]
  },
  {
   "cell_type": "markdown",
   "metadata": {},
   "source": [
    "Aunque pudiese ser predecible, se evidencia una alta cantidad de estudiantes en la Región Metropolitana, seguida por Valparaíso y Biobío. "
   ]
  },
  {
   "cell_type": "markdown",
   "metadata": {},
   "source": [
    "En cuanto a la cantidad de estudiantes por tipo de carrera, se observa que la mayoría de los estudiantes se encuentran en carreras de tipo técnicas, seguidas por profesional con licenciatura y carreras profesionales.\n",
    "\n",
    "![Distribución de estudiantes por tipo de carrera](./outputs/count_students_degree.png)"
   ]
  },
  {
   "cell_type": "markdown",
   "metadata": {},
   "source": [
    "Agrupando las carreras por sector de conocimiento, se puede observar una gran presencia de estudiantes en carreras tecnológicas, seguidas por el área de administración y comercio. En tercer puesto, se encuentra el área de salud que es casi equiparada por el área de educación.\n",
    "\n",
    "![Distribución de estudiantes por sector de conocimiento](./outputs/count_students_area.png)"
   ]
  },
  {
   "cell_type": "markdown",
   "metadata": {},
   "source": [
    "Por el lado de las estadísticas relacionadas al ingreso a estas carreras se tiene el promedio del puntaje obtenido en las pruebas de matemáticas y lenguaje. \n",
    "Los resultados registrados entre los años 2005 y 2019 corresponden a la prueba de selección universitaria PSU, con un puntaje mínimo de 150 puntos y un máximo de 850 puntos. Los siguientes 3 años corresponden a resultados de la prueba de transición universitaria PTU, mientras que el último año registrado corresponde a la nueva prueba de acceso a la educación superior PAES, cuyo rango de puntajes va desde los 100 hasta los 1.000 puntos."
   ]
  },
  {
   "cell_type": "markdown",
   "metadata": {},
   "source": [
    "A continuación se observa la distribución de los puntajes, donde se puede apreciar que en el caso de la PSU la mayoría de los estudiantes obtienen puntajes entre 400 y 700 puntos en ambas pruebas (esto ya que la escala de cada una de las pruebas de la PSU estaba estandarizado, con una media de 500 puntos y una desviación estándar de 110).\n",
    "\n",
    "\n",
    "![Distribución de puntajes PSU](./outputs/psu.jpeg)\n",
    "\n",
    "![Distribución de puntajes PSU](./outputs/paes.jpeg)"
   ]
  },
  {
   "cell_type": "markdown",
   "metadata": {},
   "source": [
    "### Análisis de las columnas"
   ]
  },
  {
   "cell_type": "markdown",
   "metadata": {},
   "source": [
    "Desde un punto de vista más detallado, se analizarán las columnas de la base de datos para determinar cuáles son las más relevantes para el análisis y cuáles podrían ser descartadas. Entre las columnas más importantes se encuentran las siguientes:\n",
    "\n",
    "* Año: Se observa que la base de datos cuenta con registros desde el año 2005 hasta el año 2023. Este atributo es numérico y el tipo de dato de esta columna es de tipo entero.\n",
    "* Cód. Institución: Corresponde al código que identifica a la institución de educación superior, por lo que es un atributo numérico. El tipo de dato de esta columna es de tipo entero, no requiriendo ningún tipo de transformación. Podría ser útil para realizar agregación de datos.\n",
    "* Nombre Institución: Atributo cualitativo nominal que corresponde al nombre de la institución de educación superior. El tipo de dato de esta columna es de tipo string, no requiriendo ningún tipo de transformación. Podría ser útil para realizar agregación de datos.\n",
    "* Tipo Institución: Corresponde al tipo de institución de educación superior, lo que lo convierte en un atributo cualitativo. El tipo de dato de esta columna es de tipo string, no requiriendo ningún tipo de transformación, aunque al ser un atributo cualitativo podría ser ordinal y por tanto ser mapeado. Podría ser útil para realizar agrupaciones de datos.\n",
    "* Clasificación1 a Clasificación6: Son atributos cualitativo y, al igual que el \"Tipo Institución\" se les puede considerar ordinal. El tipo de dato de esta columna es de tipo string.\n",
    "Dado que podrían ser categorías importantes, se analizan sus datos para determinar a qué corresponden. \n",
    "\n",
    "  - Clasificación 2: Corresponde al tipo de universidad: si es CRUCH, Privada, Instituto. FFAA, etc.\n",
    "  - Clasificación 1: Es una versión menos granular de la clasificación 2, por lo que se decide eliminarla.\n",
    "  - Clasificación 3: Acreditación de la carrera (Acreditada, No Acreditada)\n",
    "  - Clasificación 4: Si es una organización autónoma, cerrada, de supervisión, licenciamiento, etc.\n",
    "  - Clasificación 5: Si está o no adscrita a gratuidad\n",
    "  - Clasificación 6: Subsistema al que pertenece la carrera\n",
    "\n",
    "* Nombre de la Sede: Atributo cualitativo nominal que corresponde al nombre de la sede de la institución de educación superior. El tipo de dato de esta columna es de tipo string, no requiriendo ningún tipo de transformación. Podría ser útil para realizar agregación o agrupación de datos.\n",
    "* Comuna donde se imparte la carrera o programa y Nombre Region: Atributos cualitativo nominales que corresponden al nombre de la comuna donde se imparte la carrera o programa y su región. El tipo de dato de estas columnas son de tipo string, no requiriendo ningún tipo de transformación. Podrían ser útil para realizar agregación o agrupación de datos.\n",
    "* Orden Geográfico de la Región (Norte a Sur): Atributo cuantitativo que corresponde al número de la región, siendo un número entero. El tipo de dato de esta columna es de tipo entero, no requiriendo ningún tipo de transformación.\n",
    "* Cód. Carrera: Corresponde al código que identifica a la carrera, por lo que es un atributo numérico. El tipo de dato de esta columna es de tipo entero, no requiriendo ningún tipo de transformación. Podría ser útil para realizar agregación de datos.\n",
    "* Carrera Genérica, Nombre Programa y Mención o Especialdad: Información cualitativa nominal que corresponde al nombre de la carrera o programa y su mención/especialidad en caso de contar con una. El tipo de dato de estas columnas es de tipo string.\n",
    "* Horario: Atributo cualitativo nominal que corresponde al horario en que se imparte la carrera o programa (Diurno o Vespertino). El tipo de dato de esta columna es de tipo string. \n",
    "* Tipo Programa: Sus valores son Programa Regular y Programa Especial (por lo que es un atributo cualitativo nominal). El programa especial aplica para programas que permiten el perfeccionamiento en competencias específicas, por lo que su duración puede ser menor a la de una carrera con programa regular o tratarse de programas de formación de las fuerzas armadas. El tipo de dato de esta columna es de tipo string.\n",
    "* Area Conocimiento: Atributo cualitativo nominal que corresponde al área de conocimiento de la carrera o programa. El tipo de dato de esta columna es de tipo string. Podría ser útil para realizar agrupación de datos.\n",
    "* idgenerocarrera: Atributo cuantitativo que corresponde al código que identifica al género de la carrera. El tipo de dato de esta columna es de tipo entero.\n",
    "* Tipo Carrera: Atributo cualitativo nominal que corresponde al tipo de carrera (Técnica, Profesional, Profesional con Licenciatura, etc.). El tipo de dato de esta columna es de tipo string. Podría ser útil para realizar agrupación de datos.\n",
    "* IngresoDirecto: Atributo cualitativo nominal que corresponde a si la carrera o programa permite el ingreso directo o no. El tipo de dato de esta columna es de tipo string.\n",
    "* Año Inicio Actividades: Atributo cuantitativo que corresponde al año en que la carrera o programa inició sus actividades. El tipo de dato de esta columna es de tipo entero.\n",
    "* Nombre del Campus: Atributo cualitativo nominal que corresponde al nombre del campus donde se imparte la carrera o programa. El tipo de dato de esta columna es de tipo string. Podría ser útil para realizar agrupación o agregación de datos.\n",
    "* Duración (en semestres): Atributo cuantitativo que corresponde a la duración de la carrera o programa en semestres. El tipo de dato de esta columna es de tipo entero.\n",
    "* Cód. Campus y Cód. Sede: Corresponden a los códigos que identifican al campus donde se imparte la carrera o programa, por lo que es un atributo numérico. El tipo de dato de estas dos columnan es de tipo entero, no requiriendo ningún tipo de transformación. Podrían ser útiles para realizar agregación de datos.\n",
    "* Título y Grado Académico: Atributo cualitativo nominal que corresponde al título y grado que otorga la carrera o programa. El tipo de dato de esta columna es de tipo string. Podría ser útil para realizar agrupación de datos.\n",
    "* Máximo Puntaje, Promedio Puntaje y Mínimo Puntaje (promedio matemáticas y lenguaje): Atributos cuantitativos que corresponden al puntaje máximo y mínimo de ingreso a la carrera o programa, así como el promedio de estos. El tipo de dato de estas columnas es de tipo entero.\n",
    "* Puntaje de corte, (primer y último seleccionado y promedio de la carrera): Atributos cuantitativos que corresponden al puntaje de corte de la carrera o programa, así como el primer y último seleccionado y el promedio de estos. El tipo de dato de estas columnas es de tipo entero.\n",
    "* Máximo Puntaje, Promedio Puntaje y Mínimo Puntaje (NEM): Atributos cuantitativos que corresponden al puntaje máximo y mínimo de notas de enseñanza media de los seleccionados, así como el promedio de estos. El tipo de dato de estas columnas es de tipo entero.\n",
    "* Máximo Puntaje, Promedio Puntaje y Mínimo Puntaje (Ranking): Similar al caso anterior, pero para el ranking de notas de enseñanza media. El tipo de dato de estas columnas es de tipo entero.\n",
    "\n",
    "A partir de esto, se observa que hay columnas que no nos entregan información relevante, como el orden geografico de la región, el Código SIES o el idgenerocarrera. \n",
    "\n",
    "También la información referente a puntajes mínimos y máximos de ingreso es insuficiente (tienen una alta tasa de nulos), pero se cuenta con más valores para la columna de 'Promedio Puntaje (promedio matemáticas y lenguaje)' de las pruebas de ingreso. Las menciones o especialidades no están presentes en todas las carreras y la columna con el nombre del campus tiene una tasa de nulos del 57%, por lo que tampoco se considerarán en el experimento."
   ]
  },
  {
   "cell_type": "markdown",
   "metadata": {},
   "source": [
    "## III. Preguntas de interés\n",
    "Preguntas a que se podrían resolver usando la minería de datos:\n",
    "1. ¿Es posible predecir el puntaje de corte esperado para el próximo año a partir de las tendencias históricas?\n",
    "2. ¿Qué factores determinan el arancel de una carrera?\n",
    "3. ¿Existen universidades con características comunes? \n",
    "4. ¿Se pueden agrupar instituciones/carreras usando estas características? ¿Acaso tienen perfiles similares de aranceles y puntajes de ingreso?\n",
    "\n",
    "Resulta interesante construir un predictor de puntajes de corte creado con datos reales, y no con simples estimaciones, o analizar el perfil de las instituciones de acuerdo a las características que se puedan extraer a partir de los atributos de la base de datos, ya que mediante simple análisis visual de las bases no siempre es directa la relación entre características de miles de datos disponibles.\n",
    "\n",
    "Estas 4 preguntas pueden ser catalogadas en 2 grupos: preguntas de predicción y preguntas de agrupamiento (clustering).\n",
    "\n",
    "A partir del estudio inicial del dataset se cree que hay datos suficientes para responder el primer grupo de preguntas antes planteadas, por lo tanto, se decide buscar más información en otras fuentes de datos."
   ]
  },
  {
   "cell_type": "markdown",
   "metadata": {},
   "source": [
    "## IV. Propuesta de Metodología Experimental\n",
    "Considerando que nuestras preguntas serán estudiadas en dos categorías, se propone las siguientes metodologías:\n",
    "\n",
    "**Predicción:**\n",
    "- Realizar preprocesamiento: Botar columnas irrelevantes, rellenar nulos, etc.\n",
    "- Fijar una carrera/clase de carrera específica: Considerando la cantidad de carreras existentes, se propone fijar una carrera específica para realizar la predicción de puntaje de corte.\n",
    "- Usar modelos de regresión para predecir el puntaje de corte anual: Se debe determinar qué tipo de regresión conviene usar en función de los datos: lineal, polinomial, etc.\n",
    "- Evaluar el modelo y ver qué features son importantes\n",
    "\n",
    "**Clustering:**\n",
    "- Preprocesamiento: La etapa de preprocesamiento se divide en 6 pasos\n",
    "    - Botar filas irrelevantes\n",
    "    - Botar columnas irrelevantes\n",
    "    - Botar columnas con muchos nulos\n",
    "    - Imputar nulos\n",
    "    - Mapear columnas cualitativas ordinales\n",
    "    - Aplicar OneHotEncoder a columnas cualitativas nominales\n",
    "    - Unir ambos conjunto de datos\n",
    "- Determinar número óptimo de clusters\n",
    "- Usar algoritmos de clustering: K-means, DBSCAN, etc.\n",
    "- Reducción de dimensiones: Se puede usar PCA para reducir la dimensionalidad de los datos y así poder visualizarlos en 2D\n",
    "- Evaluación y análisis: Se debe evaluar qué tan bien se agrupan los datos y analizar los grupos obtenidos para determinar si tienen sentido o no."
   ]
  },
  {
   "cell_type": "markdown",
   "metadata": {},
   "source": [
    "## V. Experimentación\n",
    "\n",
    "### Predicción de puntaje de corte\n",
    "\n",
    "### Clustering de carreras e instituciones\n",
    "Como se mencionó anteriormente, el conjunto de datos inicial no parece ser suficiente para responder las preguntas de agrupamiento. Por lo tanto, se decide utilizar una base de datos con información de los inmuebles de las instituciones de educación superior y que contiene varios identificadores en común con el conjunto inicial, facilitando la unión de registros entre ambos.\n",
    "\n",
    "Esta nueva base de datos posee diferentes pestañas, de las cuales se utilizarán las siguientes:\n",
    "* Inmuebles: Contiene información sobre los inmuebles de las instituciones de educación superior, como la superficie construida, número de salas, etc. \n",
    "* Laboratorios y Talleres: Contiene información sobre la cantidad de laboratorios y talleres que posee cada institución de educación superior, incluyendo el número de computadores.\n",
    "* Docentes: Esta pestaña contiene información sobre la cantidad de docentes que trabajan en cada institución de educación superior y el número de horas que trabajan, detallando también el número de docentes que trabajan en magíster y doctorado.\n",
    "\n",
    "Con el fin de realizar los pasos propuestos en la metodología experimental, se procede a la creación de un pipeline de preprocesamiento. Esto, además de permitir ajustar los hiperparámetros de los algoritmos de preprocesamiento, evita el data leakage al momento de realizar la validación cruzada. \n",
    "\n",
    "![Ejemplo de pipeline](./outputs/pipeline_inicial.png)\n",
    "\n",
    "Es importante mencionar que cada etapa del pipeline se realiza en cada uno de los grupos de datos por separado. Aunque pareciera más sencillo realizar la unión de los datos antes de realizar el preprocesamiento, el realizarlo de esta forma otorga más control en el proceso, pudiendo realizar experimentos con distintas combinaciones según el dataframe elegido. Además, para combatir la falta de eficiencia, se realiza el preprocesamiento de cada grupo de datos en paralelo usando el pipeline llamado MultiDataFramePipeline.\n",
    "\n",
    "![Procesamiento realizado a la columna \"Grado Académico\" que finalmente fue botada](./outputs/procesamiento_grado.jpeg)\n",
    "\n",
    "#### Pipeline del conjunto inicial\n",
    "Partiendo por el conjunto inicial y recordando el desbalance de la base de datos, se decide utilizar solo las carreras de Pregrado (83.8% de los datos). También se botan las filas que no cuentan con información de su puntaje promedio en las pruebas de matemáticas y lenguaje, ya que esta columna viene a reemplazar a las columnas de puntajes máximos y mínimos que cuentan con una alta tasa de nulos. Estas dos acciones son realizadas fuera del pipeline.\n",
    "\n",
    "El primer paso del pipeline de preprocesamiento del set inicial corresponde a la elimininación de columnas irrelevantes. Para esto, se eliminan las columnas que no aportan información relevante para el análisis, como el nombre de la sede del registro (existe Nombre del Campus que tiene una mejor tasa), el orden geográfico de la región, la mención o especialidad de la carrera, el idgenerocarrera, Código SIES y los puntajes que son innecesarias al usar la columna con su promedio. También se eliminan ciertas columnas para evitar la maldición de la dimensionalidad, como el grado académico (columna que fue procesada pero que se optó por no continuar para ser reemplazada por la columna \"Tipo Carrera\" que no contiene datos nulos), el código de la institución (debido a la existencia de la columna \"Nombre Institución\" que es más fácil de leer), el nombre de la región en que se imparte la carrera, la carrera genérica y el código de la carrera (debido a la existencia de la columna \"Area de Conocimiento\" que tiene una menor dimensionalidad), el nombre del programa, nombre del campus y título que otorga la carrera. El número de columnas pasa de 59 a 40 columnas.\n",
    "\n",
    "![Detalle de un pipeline. Se observan las columnas a botar en el primer paso del pipeline](./outputs/pipeline_detalle.png)\n",
    "\n",
    "Tras esto, se procede a obtener las columnas que cuentan con una alta tasa de nulos con la finalidad de eliminarlas. Se experimentó con un umbral de 0.24 y se decidió mantener la columna \"Nombre del Campus\" debido a que se considera como una columna importante para el análisis. Como resultado, se pasa de 40 a 34 columnas.\n",
    "\n",
    "Una etapa adicional que se realiza es el de procesar el costo de la carrera/programa. Se estandariza la columna \"Tipo Moneda\" para obtener dos posibles valores: \"Pesos\" y \"UF\". Luego, para los registros cuyo valor de matrícula, arancel o título esta en UF, se multiplica por el valor de la UF del año actual. Finalmente, se elimina la columna \"Tipo Moneda\".\n",
    "\n",
    "En el cuarto paso del pipeline se realiza el mapping de las columnas cualitativas ordinales (paso requerido por el modelo). El algoritmo mapea las categorías de una columna a valores numéricos, donde cada categoría es mapeada a un número entero. Por ejemplo, si una columna tiene las categorías \"A\", \"B\" y \"C\", estas serán mapeadas a 0, 1 y 2 respectivamente. Las columnas mapeadas son las Categorias del 1 al 6, Tipo Institución, Tipo Programa, Tipo Carrera, y Tipo Ingreso.\n",
    "\n",
    "Ante la presencia de columnas cualitativas nominales, se decide utilizar el algoritmo OneHotEncoder para realizar el mapeo. Este algoritmo crea una columna por cada categoría de la columna original, donde cada columna creada corresponde a un valor binario que indica si la categoría está presente o no. Por ejemplo, si una columna tiene las categorías \"A\", \"B\" y \"C\", estas serán mapeadas a 3 columnas: \"A\", \"B\" y \"C\", donde cada columna tendrá un valor de 1 si la categoría está presente en el registro o 0 si no lo está. Las columnas mapeadas son las columnas \"Nombre Institución\", \"Comuna donde se imparte la carrera o programa\", \"Area Conocimiento\" y \"Horario\".\n",
    "\n",
    "El último paso de este pipeline es el de imputar los nulos de las columnas restantes. Por el lado de los algoritmos de imputación univariante se encuentran el algoritmo SimpleImputer (que utiliza la media, mediana o moda para rellenar los nulos), mientras que por el lado de los multivariantes se está el algoritmo IterativeImputer (que utiliza un modelo de regresión para predecir los valores nulos). Adicionalmente, se cuenta con el algoritmo KNNImputer, que utiliza los k vecinos más cercanos para predecir los valores nulos. Debido a la falta de tiempo solo se experimenta con el algoritmo KNNImputer, elegido ya que considera la estructura local de los datos al imputar valores, lo que puede ser beneficioso en conjuntos de datos donde los vecinos cercanos son indicativos de relaciones relevantes. Se experimenta con distintos valores de k y se decide utilizar k=5, valor que computacionalmente no resulta demasiado costoso en este conjunto con gran cantidad de datos.\n",
    "\n",
    "#### Pipeline del nuevo conjunto de datos\n",
    "Pasando al pipeline de los conjuntos de datos \"inmuebles\", \"labs\" y \"docencia\", se realiza un preprocesamiento mucho más simple. En primer lugar, se eliminan las columnas que aparecen en el conjunto inicial puesto que no aportan más información (mantener estos datos generaría columnas duplicadas al momento de unir los datasets). Luego, se botan las columnas con alta tasa de nulos, usando un umbral de 0.3 y finalmente se imputan los nulos utilizando el algoritmo KNNImputer con k=5.\n",
    "\n",
    "#### Pipeline de unión de los conjuntos de datos y ejecución de los algoritmos de clustering\n",
    "\n",
    "Ejecutado cada pipeline en paralelo, se realiza la unión de los cuatro conjuntos de datos resultantes. Para esto, se realiza un join utilizando el código de la sede (identificador más particular encontrado) y el año del registro. Para evitar la reaparición de valores nulos, se une la intersección de los conjuntos de datos, reduciendo solo en un 15% la cantidad de registros del dataset. La ejecución de los pipeline en paralelo y la unión del resultado de estos se realiza en un nuevo pipeline.\n",
    "\n",
    "El siguiente paso en este nuevo pipeline bota la columna \"Cód. Sede\" utilizada para hacer la unión. Esto, ya que se trata de un identificador en formato string (malo para el modelo) que ya no tiene utilidad.\n",
    "\n",
    "Luego, como cuarto paso, se utiliza el algoritmo VarianceThreshold para eliminar las columnas con varianza menor a un umbral de 0.1. Esto, con el fin de eliminar columnas que no aportan información relevante.\n",
    "\n",
    "Finalmente, antes de realizar los clusters, se estandarizan los datos utilizando el algoritmo StandardScaler. Esto, con el fin de evitar que los algoritmos de clustering sean sesgados por las diferencias de escala entre las columnas.\n",
    "\n",
    "#### Generación del cluster\n",
    "Para la generación de los grupos de datos se utilizan el algoritmo K-means. Este algoritmo es uno de los más utilizados para realizar clustering, ya que es fácil de implementar y es computacionalmente eficiente. Además, es un algoritmo que permite determinar el número de clusters a priori, lo que es una ventaja al momento de realizar el análisis.\n",
    "\n",
    "Para determinar el número de clusters se utiliza el método del codo. Este método consiste en realizar el algoritmo de clustering para distintos valores de k y graficar el valor de la inercia (suma de las distancias al cuadrado de cada punto al centroide de su cluster) en función de k. El valor de k que se debe elegir corresponde al punto de la gráfica donde se observa un cambio de pendiente, lo que se conoce como el \"codo\" de la gráfica. En este caso, tras iterar el número de clusters desde 3 a 6, se observa que el codo se encuentra en k=4, por lo que se decide utilizar este valor para el algoritmo de clustering.\n",
    "\n",
    "![Gráfica de la inercia en función de k](./outputs/codo.png)\n",
    "\n",
    "#### Resultados\n",
    "\n",
    "Como vista general, se presenta la gráfica en 2D obtenida mediante PCA.\n",
    "\n",
    "![Gráfica de los clusters en 2D](./outputs/2d.png)\n",
    "\n",
    "Si bien en esta gráfica se observa que los clusters se encuentran bien definidos (lo que es un buen indicador de que el algoritmo de clustering funcionó correctamente) hay que tener en cuenta que esta gráfica solo muestra 2 dimensiones de los datos, por lo que a continuación se presentan histogramas en busca de caracterizar los clusters obtenidos.\n",
    "\n",
    "![Histograma de las instituciones por cluster](./outputs/nombre_institucion.jpeg)\n",
    "\n",
    "![Histograma de los tipo de institución (Clasificación1) por cluster](./outputs/clasificacion1.jpeg)\n",
    "\n",
    "![Histograma de los tipo de institución detallado(Clasificación2) por cluster](./outputs/clasificacion2.jpeg)\n",
    "\n",
    "![Histograma del tipo de acreditación (Clasificación3) por cluster](./outputs/clasificacion3.jpeg)\n",
    "\n",
    "![Histograma según adscripción a gratuidad (Clasificación5) por cluster](./outputs/clasificacion5.jpeg)\n",
    "\n",
    "![Histograma según área de la carrera por cluster](./outputs/area.jpeg)\n",
    "\n",
    "![Histograma según comuna en que se imparte la carrera por cluster](./outputs/comuna.jpeg)\n",
    "\n",
    "![Histograma según tipo de carrera por cluster](./outputs/tipo.jpeg)\n",
    "\n",
    "![Histograma según costo arancel por cluster](./outputs/valor_arancel.jpeg)\n",
    "\n",
    "![Histograma según puntaje promedio matemáticas y lenguaje por cluster](./outputs/promedio_puntaje.jpeg)\n",
    "\n",
    "\n"
   ]
  },
  {
   "cell_type": "markdown",
   "metadata": {},
   "source": [
    "# Anexo"
   ]
  },
  {
   "cell_type": "code",
   "execution_count": null,
   "metadata": {},
   "outputs": [],
   "source": [
    "from pathlib import Path\n",
    "import joblib\n",
    "\n",
    "import pandas as pd\n",
    "import matplotlib.pyplot as plt\n",
    "from sklearn.cluster import KMeans\n",
    "from sklearn.metrics import silhouette_score\n",
    "from sklearn.pipeline import Pipeline\n",
    "\n",
    "from pipeline import (\n",
    "    DropColumns,\n",
    "    DropHighNAPercentage,\n",
    "    NormalizeCurrency,\n",
    "    OrdinalColumnMapper,\n",
    ")\n",
    "\n",
    "pd.set_option('display.max_columns', 100)"
   ]
  },
  {
   "cell_type": "code",
   "execution_count": null,
   "metadata": {},
   "outputs": [],
   "source": [
    "ROOT_DIR = Path.cwd().parent\n",
    "DATA_DIR = ROOT_DIR / \"data\"\n",
    "assert DATA_DIR.exists()\n",
    "\n",
    "DATA_PATH = DATA_DIR / \"base_indices_2005-2023.xlsx\""
   ]
  },
  {
   "cell_type": "code",
   "execution_count": null,
   "metadata": {},
   "outputs": [],
   "source": [
    "# # xlsx to pkl\n",
    "df = pd.read_excel(DATA_PATH)\n",
    "joblib.dump(df, DATA_DIR / 'base_indices.pkl')"
   ]
  },
  {
   "cell_type": "code",
   "execution_count": null,
   "metadata": {},
   "outputs": [],
   "source": [
    "df = joblib.load(DATA_DIR / \"base_indices.pkl\")\n",
    "df = df.reset_index()"
   ]
  },
  {
   "cell_type": "markdown",
   "metadata": {},
   "source": [
    "## Exploración"
   ]
  },
  {
   "cell_type": "markdown",
   "metadata": {},
   "source": [
    "### Hito 1"
   ]
  },
  {
   "cell_type": "code",
   "execution_count": null,
   "metadata": {},
   "outputs": [],
   "source": [
    "df.info()"
   ]
  },
  {
   "cell_type": "code",
   "execution_count": null,
   "metadata": {},
   "outputs": [],
   "source": [
    "# Plot distribution of pregrado vs posgrado in a pie chart\n",
    "conteo_pregrado = df[df['Pregrado/Posgrado'] == 'Pregrado'].shape[0]\n",
    "conteo_posgrado = df[df['Pregrado/Posgrado'] == 'Posgrado'].shape[0]\n",
    "\n",
    "# Crear un gráfico de sectores\n",
    "labels = ['Pregrado', 'Posgrado']\n",
    "sizes = [conteo_pregrado, conteo_posgrado]\n",
    "colors = ['lightskyblue', 'lightcoral']\n",
    "\n",
    "plt.pie(sizes, labels=labels, colors=colors, autopct='%1.1f%%', startangle=140)\n",
    "plt.axis('equal')  # Equal aspect ratio ensures that pie is drawn as a circle.\n",
    "plt.title('Distribución de Pregrado vs Posgrado')\n",
    "plt.show()"
   ]
  },
  {
   "cell_type": "code",
   "execution_count": null,
   "metadata": {},
   "outputs": [],
   "source": [
    "df['Nombre Region'].value_counts().plot(kind='barh')\n",
    "plt.ylabel('Región')\n",
    "plt.xlabel('Cantidad de estudiantes')\n",
    "plt.title('Cantidad de estudiantes por región')"
   ]
  },
  {
   "cell_type": "code",
   "execution_count": null,
   "metadata": {},
   "outputs": [],
   "source": [
    "df['Tipo Carrera'].value_counts().plot(kind='barh')\n",
    "plt.ylabel('Tipo de carrera')\n",
    "plt.xlabel('Cantidad de estudiantes')\n",
    "plt.title('Cantidad de estudiantes por tipo de carrera')"
   ]
  },
  {
   "cell_type": "code",
   "execution_count": null,
   "metadata": {},
   "outputs": [],
   "source": [
    "df['Area Conocimiento'].value_counts().plot(kind='barh')\n",
    "plt.ylabel('Área de conocimiento')\n",
    "plt.xlabel('Cantidad de estudiantes')\n",
    "plt.title('Cantidad de estudiantes por área de conocimiento')"
   ]
  },
  {
   "cell_type": "code",
   "execution_count": null,
   "metadata": {},
   "outputs": [],
   "source": [
    "df['Año'] = pd.to_datetime(df['Año'], format='%Y')\n",
    "df.groupby(\"Año\")['Promedio Puntaje (promedio matemáticas y lenguaje)'].max()"
   ]
  },
  {
   "cell_type": "code",
   "execution_count": null,
   "metadata": {},
   "outputs": [],
   "source": [
    "# Datos PSU y PTU\n",
    "datos_puntaje_PSU_PTU=df[df['Año'].dt.year<2023]['Promedio Puntaje (promedio matemáticas y lenguaje)'].value_counts().sort_index().plot()\n",
    "plt.xlabel(\"Promedio puntaje\")\n",
    "plt.ylabel(\"Cantidad de estudiantes\")\n",
    "plt.title(\"Distribución de promedio de puntaje para la PSU-PTU de matemáticas y lenguaje\")\n",
    "plt.show()\n",
    "\n",
    "# Datos PAES\n",
    "datos_puntaje_PAES=df[(df['Año'].dt.year>=2023)]['Promedio Puntaje (promedio matemáticas y lenguaje)'].value_counts().sort_index().plot()\n",
    "plt.xlabel(\"Promedio puntaje\")\n",
    "plt.ylabel(\"Cantidad de estudiantes\")\n",
    "plt.title(\"Distribución de promedio de puntaje para la PAES de matemáticas y lenguaje\")\n",
    "\n",
    "plt.show()"
   ]
  },
  {
   "cell_type": "markdown",
   "metadata": {},
   "source": [
    "### Hito 2"
   ]
  },
  {
   "cell_type": "code",
   "execution_count": null,
   "metadata": {},
   "outputs": [],
   "source": [
    "df['Orden Geográfico de la Región (Norte aSur)'].value_counts()"
   ]
  },
  {
   "cell_type": "code",
   "execution_count": null,
   "metadata": {},
   "outputs": [],
   "source": [
    "# show percentage of null values in Mención o Especialidad\n",
    "df['Mención o Especialidad'].isnull().sum() / df.shape[0]"
   ]
  },
  {
   "cell_type": "code",
   "execution_count": null,
   "metadata": {},
   "outputs": [],
   "source": [
    "# show unique values in idgenerocarrera\n",
    "df['idgenerocarrera'].value_counts()"
   ]
  },
  {
   "cell_type": "code",
   "execution_count": null,
   "metadata": {},
   "outputs": [],
   "source": [
    "\n",
    "df['Códgo SIES'].value_counts()"
   ]
  },
  {
   "cell_type": "code",
   "execution_count": null,
   "metadata": {},
   "outputs": [],
   "source": [
    "# show percentage of null values in each column and sort them in descending order\n",
    "nulls = df.isnull().sum() / len(df) * 100\n",
    "nulls.sort_values(ascending=False)\n"
   ]
  },
  {
   "cell_type": "code",
   "execution_count": null,
   "metadata": {},
   "outputs": [],
   "source": [
    "interes1 = [\n",
    "    \"Clasificación1\",\n",
    "    \"Clasificación2\",\n",
    "    \"Clasificación3\",\n",
    "    \"Clasificación4\",\n",
    "    \"Clasificación5\",\n",
    "    \"Clasificación6\",\n",
    "]\n",
    "for column in interes1:\n",
    "    print(f\"Valores únicos de la columna {column}: \\n \\n{df[column].unique()} \\n \")\n",
    "\n",
    "interes2 = [\n",
    "    \"Horario\",\n",
    "    \"Tipo Programa\",\n",
    "    \"IngresoDirecto\",\n",
    "    \"Tipo Moneda\",\n",
    "    \"Pregrado/Posgrado\",\n",
    "]\n",
    "for column in interes2:\n",
    "    print(f\"Valores únicos de la columna {column}: \\n \\n{df[column].unique() } \\n \")\n"
   ]
  }
 ],
 "metadata": {
  "kernelspec": {
   "display_name": "venv",
   "language": "python",
   "name": "python3"
  },
  "language_info": {
   "codemirror_mode": {
    "name": "ipython",
    "version": 3
   },
   "file_extension": ".py",
   "mimetype": "text/x-python",
   "name": "python",
   "nbconvert_exporter": "python",
   "pygments_lexer": "ipython3",
   "version": "3.9.6"
  }
 },
 "nbformat": 4,
 "nbformat_minor": 2
}
