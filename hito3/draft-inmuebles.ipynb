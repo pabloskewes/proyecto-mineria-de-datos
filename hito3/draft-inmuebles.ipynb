{
 "cells": [
  {
   "cell_type": "markdown",
   "metadata": {},
   "source": [
    "# Exploración Inmuebles\n",
    "Notebook que incluye la exploración del dataset \"indices_institucional_2005_2022\" para la posterior unión con el dataset \"base_indices_2005-2023\".\n",
    "\n",
    "Requiere los resultados del notebook draft-df."
   ]
  },
  {
   "cell_type": "code",
   "execution_count": null,
   "metadata": {},
   "outputs": [],
   "source": [
    "from pathlib import Path\n",
    "import joblib\n",
    "from typing import List\n",
    "\n",
    "import pandas as pd\n",
    "from sklearn.impute import KNNImputer\n",
    "from sklearn.pipeline import Pipeline\n",
    "\n",
    "from pipeline import (\n",
    "    DropHighNAPercentage,\n",
    "    DropColumns,\n",
    "    NanInputer,\n",
    ")\n",
    "from utils import (\n",
    "    show,\n",
    ")\n",
    "\n",
    "pd.set_option(\"display.max_columns\", None)"
   ]
  },
  {
   "cell_type": "code",
   "execution_count": null,
   "metadata": {},
   "outputs": [],
   "source": [
    "ROOT_DIR = Path.cwd().parent\n",
    "DATA_DIR = ROOT_DIR / \"data\"\n",
    "\n",
    "DATA_PATH = DATA_DIR / 'indices_institucional_2005_2022.xlsx'\n",
    "DATA_PATH.exists()"
   ]
  },
  {
   "cell_type": "markdown",
   "metadata": {},
   "source": [
    "### Loading Data"
   ]
  },
  {
   "cell_type": "code",
   "execution_count": null,
   "metadata": {},
   "outputs": [],
   "source": [
    "# xlsx to pkl\n",
    "# inmuebles = pd.read_excel(DATA_PATH, sheet_name=\"Inmuebles\")\n",
    "# labs = pd.read_excel(DATA_PATH, sheet_name=\"Laboratorios y Talleres\")\n",
    "# docentes = pd.read_excel(DATA_PATH, sheet_name=\"Docentes\")\n",
    "\n",
    "# extra_data = inmuebles, labs, docentes\n",
    "# joblib.dump(extra_data, DATA_DIR / 'extra_data.pkl')"
   ]
  },
  {
   "cell_type": "code",
   "execution_count": null,
   "metadata": {},
   "outputs": [],
   "source": [
    "inmuebles, labs, docentes = joblib.load(DATA_DIR / 'extra_data.pkl')\n",
    "df = joblib.load(DATA_DIR / 'processed_df.pkl')"
   ]
  },
  {
   "cell_type": "markdown",
   "metadata": {},
   "source": [
    "### Preprocessing Data"
   ]
  },
  {
   "cell_type": "code",
   "execution_count": null,
   "metadata": {},
   "outputs": [],
   "source": [
    "def prepare_for_merge(df_to_merge: pd.DataFrame, year_col: str) -> pd.DataFrame:\n",
    "    df_to_merge[\"Año\"] = df_to_merge[year_col].astype(int)\n",
    "    df_to_merge = df_to_merge.drop(columns=[year_col])\n",
    "    df_to_merge = df_to_merge.rename(columns={\"idSede\": \"Cód. Sede\"})\n",
    "    df_to_merge[\"Cód. Sede\"] = df_to_merge[\"Cód. Sede\"].astype(int)\n",
    "    df_to_merge[\"Cód. Institución\"] = df_to_merge[\"Cód. Institución\"].astype(int)\n",
    "    df_to_merge = df_to_merge.drop(columns=[\"Tipo Institución\", \"Cód. Institución\"])\n",
    "\n",
    "    return df_to_merge\n",
    "\n",
    "\n",
    "inmuebles = prepare_for_merge(inmuebles, year_col=\"Año Información\")\n",
    "labs = prepare_for_merge(labs, year_col=\"Año Proceso\")\n",
    "docentes = prepare_for_merge(docentes, year_col=\"Año Proceso\")"
   ]
  },
  {
   "cell_type": "code",
   "execution_count": null,
   "metadata": {},
   "outputs": [],
   "source": [
    "# pipes\n",
    "inmuebles_pipe = Pipeline(\n",
    "    [\n",
    "        (\n",
    "            \"drop_columns\",\n",
    "            DropColumns(\n",
    "                columns=[\"Nombre Institución\", \"Sede\", \"idInstitucion\"], errors=\"ignore\"\n",
    "            ),\n",
    "        ),\n",
    "        (\"drop_high_na\", DropHighNAPercentage(na_threshold=0.3, exclude=[])),\n",
    "        (\"inputer\", NanInputer(n_neighbors=5)),\n",
    "    ]\n",
    ")\n",
    "\n",
    "labs_pipe = Pipeline(\n",
    "    [\n",
    "        (\n",
    "            \"drop_columns\",\n",
    "            DropColumns(\n",
    "                columns=[\"Nombre Institución\", \"Sede\", \"idInstitucion\"], errors=\"ignore\"\n",
    "            ),\n",
    "        ),\n",
    "        (\"drop_high_na\", DropHighNAPercentage(na_threshold=0.3, exclude=[])),\n",
    "        (\"inputer\", NanInputer(n_neighbors=5)),\n",
    "    ]\n",
    ")\n",
    "\n",
    "docentes_pipe = Pipeline(\n",
    "    [\n",
    "        (\n",
    "            \"drop_columns\",\n",
    "            DropColumns(\n",
    "                columns=[\"Nombre Institución\", \"Sede\", \"idInstitucion\"], errors=\"ignore\"\n",
    "            ),\n",
    "        ),\n",
    "        (\"drop_high_na\", DropHighNAPercentage(na_threshold=0.3, exclude=[])),\n",
    "        (\"inputer\", NanInputer(n_neighbors=5)),\n",
    "    ]\n",
    ")"
   ]
  },
  {
   "cell_type": "code",
   "execution_count": null,
   "metadata": {},
   "outputs": [],
   "source": [
    "inmuebles = inmuebles_pipe.fit_transform(inmuebles)\n",
    "labs = labs_pipe.fit_transform(labs)\n",
    "docentes = docentes_pipe.fit_transform(docentes)"
   ]
  },
  {
   "cell_type": "code",
   "execution_count": null,
   "metadata": {},
   "outputs": [],
   "source": [
    "show(inmuebles)\n",
    "show(labs)\n",
    "show(docentes)\n",
    "show(df)"
   ]
  },
  {
   "cell_type": "code",
   "execution_count": null,
   "metadata": {},
   "outputs": [],
   "source": [
    "print(f\"Total number of columns: {inmuebles.shape[1] + labs.shape[1] + docentes.shape[1]}\")"
   ]
  },
  {
   "cell_type": "code",
   "execution_count": null,
   "metadata": {},
   "outputs": [],
   "source": [
    "MERGE_COLS = [\n",
    "    \"Año\",\n",
    "    \"Cód. Sede\",\n",
    "]"
   ]
  },
  {
   "cell_type": "code",
   "execution_count": null,
   "metadata": {},
   "outputs": [],
   "source": [
    "df_to_merge = docentes\n",
    "\n",
    "X_values = df[MERGE_COLS].to_records(index=False).tolist()\n",
    "Y_values = df_to_merge[MERGE_COLS].to_records(index=False).tolist()\n",
    "\n",
    "X = set(X_values)\n",
    "Y = set(Y_values)"
   ]
  },
  {
   "cell_type": "code",
   "execution_count": null,
   "metadata": {},
   "outputs": [],
   "source": [
    "len(X), len(Y), len(X & Y), len(X - Y), len(Y - X)"
   ]
  },
  {
   "cell_type": "code",
   "execution_count": null,
   "metadata": {},
   "outputs": [],
   "source": [
    "X_tuples = df[MERGE_COLS].apply(lambda x: tuple(x), axis=1)\n",
    "notna_perc = X_tuples[X_tuples.isin(Y)].shape[0] / X_tuples.shape[0]\n",
    "print(f\"Percentage of not null values: {notna_perc * 100:.2f}%\")"
   ]
  },
  {
   "cell_type": "markdown",
   "metadata": {},
   "source": [
    "## Merging Data"
   ]
  },
  {
   "cell_type": "code",
   "execution_count": null,
   "metadata": {},
   "outputs": [],
   "source": [
    "def merge_dataframes(\n",
    "    target_df: pd.DataFrame,\n",
    "    df_to_merge: pd.DataFrame,\n",
    "    merge_cols: List[str],\n",
    ") -> pd.DataFrame:\n",
    "    \"\"\"\n",
    "    Merge two dataframes on the specified columns,\n",
    "    conserving the index of the target dataframe\n",
    "    Args:\n",
    "        target_df (pd.DataFrame): dataframe to merge with\n",
    "        df_to_merge (pd.DataFrame): dataframe to merge\n",
    "        merge_cols (List[str]): columns to merge on\n",
    "    Returns:\n",
    "        pd.DataFrame: merged dataframe\n",
    "    \"\"\"\n",
    "    target_df = target_df.copy()\n",
    "    \n",
    "    target_df[\"index\"] = target_df.index\n",
    "    df_merged = target_df.merge(df_to_merge, on=merge_cols, how=\"inner\")\n",
    "    df_merged = df_merged.set_index(\"index\")\n",
    "    df_merged.index.name = None\n",
    "    return df_merged"
   ]
  },
  {
   "cell_type": "code",
   "execution_count": null,
   "metadata": {},
   "outputs": [],
   "source": [
    "df_merged = merge_dataframes(df, inmuebles, MERGE_COLS)\n",
    "df_merged = merge_dataframes(df_merged, labs, MERGE_COLS)\n",
    "df_merged = merge_dataframes(df_merged, docentes, MERGE_COLS)"
   ]
  },
  {
   "cell_type": "code",
   "execution_count": null,
   "metadata": {},
   "outputs": [],
   "source": [
    "show(df_merged)"
   ]
  }
 ],
 "metadata": {
  "kernelspec": {
   "display_name": "venv",
   "language": "python",
   "name": "python3"
  },
  "language_info": {
   "codemirror_mode": {
    "name": "ipython",
    "version": 3
   },
   "file_extension": ".py",
   "mimetype": "text/x-python",
   "name": "python",
   "nbconvert_exporter": "python",
   "pygments_lexer": "ipython3",
   "version": "3.9.6"
  }
 },
 "nbformat": 4,
 "nbformat_minor": 2
}
