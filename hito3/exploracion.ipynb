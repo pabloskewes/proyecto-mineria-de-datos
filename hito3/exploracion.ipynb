{
 "cells": [
  {
   "cell_type": "code",
   "execution_count": 1,
   "metadata": {},
   "outputs": [],
   "source": [
    "from pathlib import Path\n",
    "import joblib\n",
    "from pprint import pprint\n",
    "from typing import List, Dict, Tuple, Iterable\n",
    "\n",
    "import pandas as pd\n",
    "import numpy as np\n",
    "import matplotlib.pyplot as plt\n",
    "from sklearn.cluster import KMeans\n",
    "from sklearn.metrics import silhouette_score\n",
    "from sklearn.pipeline import Pipeline\n",
    "from sklearn.preprocessing import FunctionTransformer\n",
    "\n",
    "from pipeline import (\n",
    "    DropColumns,\n",
    "    DropHighNAPercentage,\n",
    "    PreprocessTipoMoneda,\n",
    ")"
   ]
  },
  {
   "cell_type": "code",
   "execution_count": 2,
   "metadata": {},
   "outputs": [],
   "source": [
    "ROOT_DIR = Path.cwd().parent\n",
    "DATA_DIR = ROOT_DIR / \"data\"\n",
    "assert DATA_DIR.exists()\n",
    "\n",
    "DATA_PATH = DATA_DIR / \"base_indices_2005-2023.csv\""
   ]
  },
  {
   "cell_type": "code",
   "execution_count": 3,
   "metadata": {},
   "outputs": [],
   "source": [
    "df = joblib.load(DATA_DIR / \"base_indices.pkl\")"
   ]
  },
  {
   "cell_type": "code",
   "execution_count": 4,
   "metadata": {},
   "outputs": [
    {
     "name": "stdout",
     "output_type": "stream",
     "text": [
      "<class 'pandas.core.frame.DataFrame'>\n",
      "DatetimeIndex: 218773 entries, 2023-01-01 to 2005-01-01\n",
      "Data columns (total 59 columns):\n",
      " #   Column                                              Non-Null Count   Dtype  \n",
      "---  ------                                              --------------   -----  \n",
      " 0   Cód. Institución                                    218773 non-null  int64  \n",
      " 1   Nombre Institución                                  218773 non-null  object \n",
      " 2   Tipo Institución                                    218773 non-null  object \n",
      " 3   Clasificación1                                      218773 non-null  object \n",
      " 4   Clasificación2                                      218773 non-null  object \n",
      " 5   Clasificación3                                      218773 non-null  object \n",
      " 6   Clasificación4                                      218773 non-null  object \n",
      " 7   Clasificación5                                      218773 non-null  object \n",
      " 8   Clasificación6                                      218773 non-null  object \n",
      " 9   Nombre de la Sede                                   218773 non-null  object \n",
      " 10  Comuna donde se imparte la carrera o programa       218773 non-null  object \n",
      " 11  Nombre Region                                       218773 non-null  object \n",
      " 12  Orden Geográfico de la Región (Norte aSur)          218773 non-null  int64  \n",
      " 13  Cód. Carrera                                        218773 non-null  int64  \n",
      " 14  Carrera Genérica                                    218773 non-null  object \n",
      " 15  Nombre Programa                                     218773 non-null  object \n",
      " 16  Mención o Especialidad                              30680 non-null   object \n",
      " 17  Horario                                             218773 non-null  object \n",
      " 18  Tipo Programa                                       218773 non-null  object \n",
      " 19  Area Conocimiento                                   218773 non-null  object \n",
      " 20  idgenerocarrera                                     218773 non-null  int64  \n",
      " 21  Tipo Carrera                                        218773 non-null  object \n",
      " 22  IngresoDirecto                                      218773 non-null  object \n",
      " 23  Año Inicio Actividades                              218773 non-null  int64  \n",
      " 24  Nombre del Campus                                   103207 non-null  object \n",
      " 25  Duración (en semestres)                             218047 non-null  float64\n",
      " 26  Cód. Campus                                         103525 non-null  float64\n",
      " 27  Cód. Sede                                           218773 non-null  int64  \n",
      " 28  Título                                              189124 non-null  object \n",
      " 29  Grado Académico                                     81864 non-null   object \n",
      " 30  Máximo Puntaje (promedio matemáticas y lenguaje)    40018 non-null   float64\n",
      " 31  Promedio Puntaje (promedio matemáticas y lenguaje)  39726 non-null   float64\n",
      " 32  Mínimo Puntaje (promedio matemáticas y lenguaje)    39568 non-null   float64\n",
      " 33  Puntaje de corte (primer seleccionado)              34029 non-null   float64\n",
      " 34  Puntaje de corte (promedio de la carrera)           33932 non-null   float64\n",
      " 35  Puntaje de corte (último seleccionado)              36064 non-null   float64\n",
      " 36  Máximo Puntaje NEM                                  19956 non-null   float64\n",
      " 37  Promedio Puntaje NEM                                20141 non-null   float64\n",
      " 38  Mínimo Puntaje NEM                                  19943 non-null   float64\n",
      " 39  Máximo Puntaje Ranking                              18957 non-null   float64\n",
      " 40  Promedio Puntaje Ranking                            19100 non-null   float64\n",
      " 41  Mínimo Puntaje Ranking                              18944 non-null   float64\n",
      " 42  Nº Alumnos Ingreso Via PSU o PDT                    41330 non-null   float64\n",
      " 43  Nº Alumnos Ingreso Otra Via                         69896 non-null   float64\n",
      " 44  Valor de matrícula                                  168361 non-null  float64\n",
      " 45  Valor de arancel                                    163249 non-null  float64\n",
      " 46  Valor del Título                                    182002 non-null  float64\n",
      " 47  Tipo Moneda                                         218773 non-null  object \n",
      " 48  Vacantes                                            160361 non-null  float64\n",
      " 49  Matrícula primer año hombres                        197991 non-null  float64\n",
      " 50  Matrícula primer año mujeres                        197741 non-null  float64\n",
      " 51  Matrícula primer año extranjeros                    157630 non-null  float64\n",
      " 52  Matrícula Primer Año                                218773 non-null  int64  \n",
      " 53  Matrícula total hombres                             215556 non-null  float64\n",
      " 54  Matrícula total mujeres                             215164 non-null  float64\n",
      " 55  Matrícula total extranjeros                         166431 non-null  float64\n",
      " 56  Matrícula Total                                     218773 non-null  int64  \n",
      " 57  Códgo SIES                                          143336 non-null  object \n",
      " 58  Pregrado/Posgrado                                   218773 non-null  object \n",
      "dtypes: float64(26), int64(8), object(25)\n",
      "memory usage: 100.1+ MB\n"
     ]
    }
   ],
   "source": [
    "df.info()"
   ]
  },
  {
   "cell_type": "code",
   "execution_count": 5,
   "metadata": {},
   "outputs": [],
   "source": [
    "data_pipeline = Pipeline(\n",
    "    [\n",
    "        (\"drop_columns\", DropColumns()),\n",
    "        (\"drop_high_na\", DropHighNAPercentage(na_threshold=0.24)),\n",
    "        (\"preprocess_tipo_moneda\", PreprocessTipoMoneda()),\n",
    "    ]\n",
    ")"
   ]
  },
  {
   "cell_type": "code",
   "execution_count": 6,
   "metadata": {},
   "outputs": [
    {
     "data": {
      "text/html": [
       "<style>#sk-container-id-1 {color: black;}#sk-container-id-1 pre{padding: 0;}#sk-container-id-1 div.sk-toggleable {background-color: white;}#sk-container-id-1 label.sk-toggleable__label {cursor: pointer;display: block;width: 100%;margin-bottom: 0;padding: 0.3em;box-sizing: border-box;text-align: center;}#sk-container-id-1 label.sk-toggleable__label-arrow:before {content: \"▸\";float: left;margin-right: 0.25em;color: #696969;}#sk-container-id-1 label.sk-toggleable__label-arrow:hover:before {color: black;}#sk-container-id-1 div.sk-estimator:hover label.sk-toggleable__label-arrow:before {color: black;}#sk-container-id-1 div.sk-toggleable__content {max-height: 0;max-width: 0;overflow: hidden;text-align: left;background-color: #f0f8ff;}#sk-container-id-1 div.sk-toggleable__content pre {margin: 0.2em;color: black;border-radius: 0.25em;background-color: #f0f8ff;}#sk-container-id-1 input.sk-toggleable__control:checked~div.sk-toggleable__content {max-height: 200px;max-width: 100%;overflow: auto;}#sk-container-id-1 input.sk-toggleable__control:checked~label.sk-toggleable__label-arrow:before {content: \"▾\";}#sk-container-id-1 div.sk-estimator input.sk-toggleable__control:checked~label.sk-toggleable__label {background-color: #d4ebff;}#sk-container-id-1 div.sk-label input.sk-toggleable__control:checked~label.sk-toggleable__label {background-color: #d4ebff;}#sk-container-id-1 input.sk-hidden--visually {border: 0;clip: rect(1px 1px 1px 1px);clip: rect(1px, 1px, 1px, 1px);height: 1px;margin: -1px;overflow: hidden;padding: 0;position: absolute;width: 1px;}#sk-container-id-1 div.sk-estimator {font-family: monospace;background-color: #f0f8ff;border: 1px dotted black;border-radius: 0.25em;box-sizing: border-box;margin-bottom: 0.5em;}#sk-container-id-1 div.sk-estimator:hover {background-color: #d4ebff;}#sk-container-id-1 div.sk-parallel-item::after {content: \"\";width: 100%;border-bottom: 1px solid gray;flex-grow: 1;}#sk-container-id-1 div.sk-label:hover label.sk-toggleable__label {background-color: #d4ebff;}#sk-container-id-1 div.sk-serial::before {content: \"\";position: absolute;border-left: 1px solid gray;box-sizing: border-box;top: 0;bottom: 0;left: 50%;z-index: 0;}#sk-container-id-1 div.sk-serial {display: flex;flex-direction: column;align-items: center;background-color: white;padding-right: 0.2em;padding-left: 0.2em;position: relative;}#sk-container-id-1 div.sk-item {position: relative;z-index: 1;}#sk-container-id-1 div.sk-parallel {display: flex;align-items: stretch;justify-content: center;background-color: white;position: relative;}#sk-container-id-1 div.sk-item::before, #sk-container-id-1 div.sk-parallel-item::before {content: \"\";position: absolute;border-left: 1px solid gray;box-sizing: border-box;top: 0;bottom: 0;left: 50%;z-index: -1;}#sk-container-id-1 div.sk-parallel-item {display: flex;flex-direction: column;z-index: 1;position: relative;background-color: white;}#sk-container-id-1 div.sk-parallel-item:first-child::after {align-self: flex-end;width: 50%;}#sk-container-id-1 div.sk-parallel-item:last-child::after {align-self: flex-start;width: 50%;}#sk-container-id-1 div.sk-parallel-item:only-child::after {width: 0;}#sk-container-id-1 div.sk-dashed-wrapped {border: 1px dashed gray;margin: 0 0.4em 0.5em 0.4em;box-sizing: border-box;padding-bottom: 0.4em;background-color: white;}#sk-container-id-1 div.sk-label label {font-family: monospace;font-weight: bold;display: inline-block;line-height: 1.2em;}#sk-container-id-1 div.sk-label-container {text-align: center;}#sk-container-id-1 div.sk-container {/* jupyter's `normalize.less` sets `[hidden] { display: none; }` but bootstrap.min.css set `[hidden] { display: none !important; }` so we also need the `!important` here to be able to override the default hidden behavior on the sphinx rendered scikit-learn.org. See: https://github.com/scikit-learn/scikit-learn/issues/21755 */display: inline-block !important;position: relative;}#sk-container-id-1 div.sk-text-repr-fallback {display: none;}</style><div id=\"sk-container-id-1\" class=\"sk-top-container\"><div class=\"sk-text-repr-fallback\"><pre>Pipeline(steps=[(&#x27;drop_columns&#x27;, DropColumns()),\n",
       "                (&#x27;drop_high_na&#x27;, DropHighNAPercentage()),\n",
       "                (&#x27;preprocess_tipo_moneda&#x27;, PreprocessTipoMoneda())])</pre><b>In a Jupyter environment, please rerun this cell to show the HTML representation or trust the notebook. <br />On GitHub, the HTML representation is unable to render, please try loading this page with nbviewer.org.</b></div><div class=\"sk-container\" hidden><div class=\"sk-item sk-dashed-wrapped\"><div class=\"sk-label-container\"><div class=\"sk-label sk-toggleable\"><input class=\"sk-toggleable__control sk-hidden--visually\" id=\"sk-estimator-id-1\" type=\"checkbox\" ><label for=\"sk-estimator-id-1\" class=\"sk-toggleable__label sk-toggleable__label-arrow\">Pipeline</label><div class=\"sk-toggleable__content\"><pre>Pipeline(steps=[(&#x27;drop_columns&#x27;, DropColumns()),\n",
       "                (&#x27;drop_high_na&#x27;, DropHighNAPercentage()),\n",
       "                (&#x27;preprocess_tipo_moneda&#x27;, PreprocessTipoMoneda())])</pre></div></div></div><div class=\"sk-serial\"><div class=\"sk-item\"><div class=\"sk-estimator sk-toggleable\"><input class=\"sk-toggleable__control sk-hidden--visually\" id=\"sk-estimator-id-2\" type=\"checkbox\" ><label for=\"sk-estimator-id-2\" class=\"sk-toggleable__label sk-toggleable__label-arrow\">DropColumns</label><div class=\"sk-toggleable__content\"><pre>DropColumns()</pre></div></div></div><div class=\"sk-item\"><div class=\"sk-estimator sk-toggleable\"><input class=\"sk-toggleable__control sk-hidden--visually\" id=\"sk-estimator-id-3\" type=\"checkbox\" ><label for=\"sk-estimator-id-3\" class=\"sk-toggleable__label sk-toggleable__label-arrow\">DropHighNAPercentage</label><div class=\"sk-toggleable__content\"><pre>DropHighNAPercentage()</pre></div></div></div><div class=\"sk-item\"><div class=\"sk-estimator sk-toggleable\"><input class=\"sk-toggleable__control sk-hidden--visually\" id=\"sk-estimator-id-4\" type=\"checkbox\" ><label for=\"sk-estimator-id-4\" class=\"sk-toggleable__label sk-toggleable__label-arrow\">PreprocessTipoMoneda</label><div class=\"sk-toggleable__content\"><pre>PreprocessTipoMoneda()</pre></div></div></div></div></div></div></div>"
      ],
      "text/plain": [
       "Pipeline(steps=[('drop_columns', DropColumns()),\n",
       "                ('drop_high_na', DropHighNAPercentage()),\n",
       "                ('preprocess_tipo_moneda', PreprocessTipoMoneda())])"
      ]
     },
     "execution_count": 6,
     "metadata": {},
     "output_type": "execute_result"
    }
   ],
   "source": [
    "data_pipeline"
   ]
  },
  {
   "cell_type": "code",
   "execution_count": null,
   "metadata": {},
   "outputs": [],
   "source": [
    "df = data_pipeline.fit_transform(df)"
   ]
  },
  {
   "cell_type": "code",
   "execution_count": null,
   "metadata": {},
   "outputs": [],
   "source": [
    "# Existen columnas que no nos aportan información a nuestro estudio\n",
    "df = df.drop(\n",
    "    [\n",
    "        \"Nombre de la Sede\",\n",
    "        \"Orden Geográfico de la Región (Norte aSur)\",\n",
    "        \"Mención o Especialidad\",\n",
    "        \"idgenerocarrera\",\n",
    "        \"Cód. Campus\",\n",
    "        \"Cód. Sede\",\n",
    "        \"Códgo SIES\",\n",
    "    ],\n",
    "    axis=1,\n",
    ")"
   ]
  },
  {
   "cell_type": "code",
   "execution_count": null,
   "metadata": {},
   "outputs": [],
   "source": [
    "# También existen columnas con información redundante\n",
    "# Eliminamos máximos\n",
    "df = df.drop(\n",
    "    [\n",
    "        \"Máximo Puntaje (promedio matemáticas y lenguaje)\",\n",
    "        \"Máximo Puntaje NEM\",\n",
    "        \"Máximo Puntaje Ranking\",\n",
    "    ],\n",
    "    axis=1,\n",
    ")\n",
    "\n",
    "# Eliminamos mínimos\n",
    "df = df.drop(\n",
    "    [\n",
    "        \"Mínimo Puntaje (promedio matemáticas y lenguaje)\",\n",
    "        \"Mínimo Puntaje NEM\",\n",
    "        \"Mínimo Puntaje Ranking\",\n",
    "    ],\n",
    "    axis=1,\n",
    ")"
   ]
  },
  {
   "cell_type": "code",
   "execution_count": null,
   "metadata": {},
   "outputs": [],
   "source": [
    "# Otras tienen una cantidad elevada de nulos\n",
    "vacios = df.isnull().sum()\n",
    "vacios = (vacios[vacios > 0] / df.shape[0]) * 100\n",
    "vacios = vacios.astype(int)\n",
    "vacios = vacios.sort_values(ascending=False)\n",
    "indices_vacios = vacios[vacios > 24].index\n",
    "\n",
    "df = df.drop(indices_vacios, axis=1)"
   ]
  },
  {
   "cell_type": "code",
   "execution_count": null,
   "metadata": {},
   "outputs": [],
   "source": [
    "# Por otro lado, podemos notar que el dataframe está desbalanceado\n",
    "# contamos la cantidad de registros de pregrado vs los de posgrado\n",
    "df[\"Pregrado/Posgrado\"].value_counts(normalize=True)"
   ]
  },
  {
   "cell_type": "code",
   "execution_count": null,
   "metadata": {},
   "outputs": [],
   "source": [
    "# y que algunas columnas no cuentan con el formato correcto\n",
    "df[\"Tipo Moneda\"] = df[\"Tipo Moneda\"].str.strip().str.capitalize()\n",
    "df = df.rename(columns={\"Pregrado/Posgrado\": \"Pregrado o Posgrado\"})"
   ]
  },
  {
   "cell_type": "code",
   "execution_count": null,
   "metadata": {},
   "outputs": [],
   "source": [
    "def compute_kmeans(\n",
    "    df: pd.DataFrame,\n",
    "    cluster_range: Iterable[int],\n",
    ") -> pd.DataFrame:\n",
    "    \"\"\"\n",
    "    Perform k-means clustering for a range of k values and collect metrics.\n",
    "    Args:\n",
    "        df: Dataframe to cluster.\n",
    "        cluster_range: Range of k values to try.\n",
    "    Returns:\n",
    "        Dictionary with k as key and silhouette score as value.\n",
    "    \"\"\"\n",
    "    interia = []\n",
    "    silhouette = []\n",
    "    for k in cluster_range:\n",
    "        kmeans = KMeans(n_clusters=k, random_state=42).fit(df)\n",
    "        interia.append(kmeans.inertia_)\n",
    "        silhouette.append(silhouette_score(df, kmeans.labels_))\n",
    "\n",
    "    return pd.DataFrame(\n",
    "        {\"inertia\": interia, \"silhouette\": silhouette},\n",
    "        index=cluster_range,\n",
    "    )"
   ]
  },
  {
   "cell_type": "code",
   "execution_count": null,
   "metadata": {},
   "outputs": [],
   "source": [
    "def plot_kmean_results(k_range, inertia_values, silhouette_scores):\n",
    "    \"\"\"\n",
    "    Plot the results of the k-means clustering.\n",
    "    Args:\n",
    "        k_range: Range of k values used.\n",
    "        inertia_values: List of inertia values for each k.\n",
    "        silhouette_scores: List of silhouette scores for each k.\n",
    "    \"\"\"\n",
    "    fig, ax = plt.subplots(1, 2, figsize=(15, 5))\n",
    "    ax[0].plot(k_range, inertia_values, marker=\"o\")\n",
    "    ax[0].set_xlabel(\"Número de clusters\")\n",
    "    ax[0].set_ylabel(\"Inercia\")\n",
    "    ax[0].set_title(\"Método del codo\")\n",
    "\n",
    "    ax[1].plot(k_range, silhouette_scores, marker=\"o\")\n",
    "    ax[1].set_xlabel(\"Número de clusters\")\n",
    "    ax[1].set_ylabel(\"Silhouette\")\n",
    "    ax[1].set_title(\"Método de la silueta\")\n",
    "    plt.show()"
   ]
  },
  {
   "cell_type": "code",
   "execution_count": null,
   "metadata": {},
   "outputs": [],
   "source": [
    "kmeans_df = compute_kmeans(df, range(2, 21))"
   ]
  },
  {
   "cell_type": "code",
   "execution_count": null,
   "metadata": {},
   "outputs": [],
   "source": []
  }
 ],
 "metadata": {
  "kernelspec": {
   "display_name": "venv",
   "language": "python",
   "name": "python3"
  },
  "language_info": {
   "codemirror_mode": {
    "name": "ipython",
    "version": 3
   },
   "file_extension": ".py",
   "mimetype": "text/x-python",
   "name": "python",
   "nbconvert_exporter": "python",
   "pygments_lexer": "ipython3",
   "version": "3.11.1"
  }
 },
 "nbformat": 4,
 "nbformat_minor": 2
}
