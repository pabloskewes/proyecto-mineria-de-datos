{
 "cells": [
  {
   "cell_type": "code",
   "execution_count": null,
   "metadata": {},
   "outputs": [],
   "source": [
    "from pathlib import Path\n",
    "import joblib\n",
    "\n",
    "import pandas as pd\n",
    "import matplotlib.pyplot as plt\n",
    "from sklearn.cluster import KMeans\n",
    "from sklearn.metrics import silhouette_score\n",
    "from sklearn.pipeline import Pipeline\n",
    "\n",
    "from pipeline import (\n",
    "    DropColumns,\n",
    "    DropHighNAPercentage,\n",
    "    NormalizeCurrency,\n",
    "    OrdinalColumnMapper,\n",
    ")\n",
    "\n",
    "pd.set_option('display.max_columns', 100)"
   ]
  },
  {
   "cell_type": "code",
   "execution_count": null,
   "metadata": {},
   "outputs": [],
   "source": [
    "ROOT_DIR = Path.cwd().parent\n",
    "DATA_DIR = ROOT_DIR / \"data\"\n",
    "assert DATA_DIR.exists()\n",
    "\n",
    "DATA_PATH = DATA_DIR / \"base_indices_2005-2023.xlsx\""
   ]
  },
  {
   "cell_type": "code",
   "execution_count": null,
   "metadata": {},
   "outputs": [],
   "source": [
    "# # xlsx to pkl\n",
    "# df = pd.read_excel(DATA_PATH)\n",
    "# joblib.dump(df, DATA_DIR / 'base_indices.pkl')"
   ]
  },
  {
   "cell_type": "code",
   "execution_count": null,
   "metadata": {},
   "outputs": [],
   "source": [
    "df = joblib.load(DATA_DIR / \"base_indices.pkl\")\n",
    "df = df.reset_index()"
   ]
  },
  {
   "cell_type": "markdown",
   "metadata": {},
   "source": [
    "# Preprocesamiento"
   ]
  },
  {
   "cell_type": "code",
   "execution_count": null,
   "metadata": {},
   "outputs": [],
   "source": [
    "df = (\n",
    "    df[df[\"Pregrado/Posgrado\"] == \"Pregrado\"]\n",
    "    .drop(columns=[\"Pregrado/Posgrado\"])\n",
    "    .reset_index(drop=True)\n",
    ")"
   ]
  },
  {
   "cell_type": "code",
   "execution_count": null,
   "metadata": {},
   "outputs": [],
   "source": [
    "nulls = df.isnull().sum() / len(df) * 100\n",
    "nulls.sort_values(ascending=False)"
   ]
  },
  {
   "cell_type": "code",
   "execution_count": null,
   "metadata": {},
   "outputs": [],
   "source": [
    "df = df[df[\"Promedio Puntaje (promedio matemáticas y lenguaje)\"].notna()].reset_index(\n",
    "    drop=True\n",
    ")"
   ]
  },
  {
   "cell_type": "code",
   "execution_count": null,
   "metadata": {},
   "outputs": [],
   "source": [
    "data_pipeline = Pipeline(\n",
    "    [\n",
    "        (\"drop_columns\", DropColumns()),\n",
    "        (\"drop_high_na\", DropHighNAPercentage(na_threshold=0.24)),\n",
    "        (\"preprocess_tipo_moneda\", NormalizeCurrency()),\n",
    "        (\"ordinal_encoder\", OrdinalColumnMapper()),\n",
    "    ]\n",
    ")\n",
    "data_pipeline"
   ]
  },
  {
   "cell_type": "code",
   "execution_count": null,
   "metadata": {},
   "outputs": [],
   "source": [
    "processed_df = data_pipeline.fit_transform(df)"
   ]
  },
  {
   "cell_type": "code",
   "execution_count": null,
   "metadata": {},
   "outputs": [],
   "source": [
    "joblib.dump(processed_df, DATA_DIR / \"processed_df.pkl\")"
   ]
  },
  {
   "cell_type": "code",
   "execution_count": null,
   "metadata": {},
   "outputs": [],
   "source": [
    "processed_df[processed_df[\"Nombre del Campus\"].isnull()]"
   ]
  },
  {
   "cell_type": "code",
   "execution_count": null,
   "metadata": {},
   "outputs": [],
   "source": [
    "nulls = processed_df.isnull().sum() / len(df) * 100\n",
    "nulls.sort_values(ascending=False)"
   ]
  },
  {
   "cell_type": "code",
   "execution_count": null,
   "metadata": {},
   "outputs": [],
   "source": [
    "processed_df[processed_df['Tipo Moneda'] == 'Uf'][['Valor de matrícula', 'Valor del Título']]"
   ]
  },
  {
   "cell_type": "code",
   "execution_count": null,
   "metadata": {},
   "outputs": [],
   "source": []
  },
  {
   "cell_type": "code",
   "execution_count": null,
   "metadata": {},
   "outputs": [],
   "source": []
  },
  {
   "cell_type": "code",
   "execution_count": null,
   "metadata": {},
   "outputs": [],
   "source": [
    "uf_index = processed_df[processed_df['Tipo Moneda'] == 'Uf'].index\n",
    "df.loc[uf_index, ['Valor de matrícula', 'Valor del Título']]"
   ]
  },
  {
   "cell_type": "code",
   "execution_count": null,
   "metadata": {},
   "outputs": [],
   "source": [
    "\n",
    "df[df['Tipo Moneda'] == 'Uf']"
   ]
  },
  {
   "cell_type": "code",
   "execution_count": null,
   "metadata": {},
   "outputs": [],
   "source": [
    "processed_df"
   ]
  },
  {
   "cell_type": "code",
   "execution_count": null,
   "metadata": {},
   "outputs": [],
   "source": [
    "processed_df.info()"
   ]
  },
  {
   "cell_type": "code",
   "execution_count": null,
   "metadata": {},
   "outputs": [],
   "source": [
    "processed_df['Tipo Moneda'].value_counts()"
   ]
  },
  {
   "cell_type": "code",
   "execution_count": null,
   "metadata": {},
   "outputs": [],
   "source": [
    "\n",
    "\n",
    "get_uf_value()\n"
   ]
  },
  {
   "cell_type": "code",
   "execution_count": null,
   "metadata": {},
   "outputs": [],
   "source": [
    "pprint(processed_df.columns.tolist())"
   ]
  },
  {
   "cell_type": "code",
   "execution_count": null,
   "metadata": {},
   "outputs": [],
   "source": [
    "def compute_kmeans(\n",
    "    df: pd.DataFrame,\n",
    "    cluster_range: Iterable[int],\n",
    ") -> pd.DataFrame:\n",
    "    \"\"\"\n",
    "    Perform k-means clustering for a range of k values and collect metrics.\n",
    "    Args:\n",
    "        df: Dataframe to cluster.\n",
    "        cluster_range: Range of k values to try.\n",
    "    Returns:\n",
    "        Dictionary with k as key and silhouette score as value.\n",
    "    \"\"\"\n",
    "    interia = []\n",
    "    silhouette = []\n",
    "    for k in cluster_range:\n",
    "        kmeans = KMeans(n_clusters=k, random_state=42).fit(df)\n",
    "        interia.append(kmeans.inertia_)\n",
    "        silhouette.append(silhouette_score(df, kmeans.labels_))\n",
    "\n",
    "    return pd.DataFrame(\n",
    "        {\"inertia\": interia, \"silhouette\": silhouette},\n",
    "        index=cluster_range,\n",
    "    )"
   ]
  },
  {
   "cell_type": "code",
   "execution_count": null,
   "metadata": {},
   "outputs": [],
   "source": [
    "def plot_kmean_results(k_range, inertia_values, silhouette_scores):\n",
    "    \"\"\"\n",
    "    Plot the results of the k-means clustering.\n",
    "    Args:\n",
    "        k_range: Range of k values used.\n",
    "        inertia_values: List of inertia values for each k.\n",
    "        silhouette_scores: List of silhouette scores for each k.\n",
    "    \"\"\"\n",
    "    fig, ax = plt.subplots(1, 2, figsize=(15, 5))\n",
    "    ax[0].plot(k_range, inertia_values, marker=\"o\")\n",
    "    ax[0].set_xlabel(\"Número de clusters\")\n",
    "    ax[0].set_ylabel(\"Inercia\")\n",
    "    ax[0].set_title(\"Método del codo\")\n",
    "\n",
    "    ax[1].plot(k_range, silhouette_scores, marker=\"o\")\n",
    "    ax[1].set_xlabel(\"Número de clusters\")\n",
    "    ax[1].set_ylabel(\"Silhouette\")\n",
    "    ax[1].set_title(\"Método de la silueta\")\n",
    "    plt.show()"
   ]
  },
  {
   "cell_type": "code",
   "execution_count": null,
   "metadata": {},
   "outputs": [],
   "source": [
    "kmeans_df = compute_kmeans(df, range(2, 21))"
   ]
  }
 ],
 "metadata": {
  "kernelspec": {
   "display_name": "venv",
   "language": "python",
   "name": "python3"
  },
  "language_info": {
   "codemirror_mode": {
    "name": "ipython",
    "version": 3
   },
   "file_extension": ".py",
   "mimetype": "text/x-python",
   "name": "python",
   "nbconvert_exporter": "python",
   "pygments_lexer": "ipython3",
   "version": "3.9.6"
  }
 },
 "nbformat": 4,
 "nbformat_minor": 2
}
