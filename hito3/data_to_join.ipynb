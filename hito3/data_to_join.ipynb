{
 "cells": [
  {
   "cell_type": "code",
   "execution_count": null,
   "metadata": {},
   "outputs": [],
   "source": [
    "from pathlib import Path\n",
    "import joblib\n",
    "\n",
    "import pandas as pd\n",
    "from sklearn.impute import KNNImputer\n",
    "from sklearn.preprocessing import OneHotEncoder\n",
    "\n",
    "from pipeline import (\n",
    "    DropHighNAPercentage,\n",
    "    m_inst,\n",
    "    OrdinalColumnMapper,\n",
    "    DropColumns,\n",
    "    DataframeOneHotEncoder,\n",
    ")\n",
    "\n",
    "pd.set_option(\"display.max_columns\", 100)"
   ]
  },
  {
   "cell_type": "code",
   "execution_count": null,
   "metadata": {},
   "outputs": [],
   "source": [
    "ROOT_DIR = Path.cwd().parent\n",
    "DATA_DIR = ROOT_DIR / \"data\"\n",
    "\n",
    "DATA_PATH = DATA_DIR / 'indices_institucional_2005_2022.xlsx'\n",
    "DATA_PATH.exists()"
   ]
  },
  {
   "cell_type": "code",
   "execution_count": null,
   "metadata": {},
   "outputs": [],
   "source": [
    "def show(df: pd.DataFrame, limit: int = 5) -> None:\n",
    "    print(df.shape)\n",
    "    display(df.head(limit))"
   ]
  },
  {
   "cell_type": "code",
   "execution_count": null,
   "metadata": {},
   "outputs": [],
   "source": [
    "def show_null_percentages(df: pd.DataFrame) -> None:\n",
    "    nulls = df.isnull().sum() / df.shape[0]\n",
    "    nulls = nulls.sort_values(ascending=False)\n",
    "    display(nulls)"
   ]
  },
  {
   "cell_type": "markdown",
   "metadata": {},
   "source": [
    "### Loading Data"
   ]
  },
  {
   "cell_type": "code",
   "execution_count": null,
   "metadata": {},
   "outputs": [],
   "source": [
    "# inmuebles = pd.read_excel(DATA_PATH, sheet_name=\"Inmuebles\")\n",
    "# labs = pd.read_excel(DATA_PATH, sheet_name=\"Laboratorios y Talleres\")\n",
    "# docentes = pd.read_excel(DATA_PATH, sheet_name=\"Docentes\")\n",
    "\n",
    "# extra_data = inmuebles, labs, docentes\n",
    "# joblib.dump(extra_data, DATA_DIR / 'extra_data.pkl')"
   ]
  },
  {
   "cell_type": "code",
   "execution_count": null,
   "metadata": {},
   "outputs": [],
   "source": [
    "inmuebles, labs, docentes = joblib.load(DATA_DIR / 'extra_data.pkl')\n",
    "df = joblib.load(DATA_DIR / 'processed_df.pkl')"
   ]
  },
  {
   "cell_type": "markdown",
   "metadata": {},
   "source": [
    "### Preprocessing Data"
   ]
  },
  {
   "cell_type": "code",
   "execution_count": null,
   "metadata": {},
   "outputs": [],
   "source": [
    "# pipes\n",
    "inputer = KNNImputer()\n",
    "inputer.set_output(transform=\"pandas\")\n",
    "\n",
    "ordinal_mapper = OrdinalColumnMapper(\n",
    "    columns=[\"Tipo Institución\"],\n",
    "    mappings=[m_inst],\n",
    ")\n",
    "high_na_perc_dropper = DropHighNAPercentage(na_threshold=0.3, exclude=[])\n",
    "# one_hot_encoder = DataframeOneHotEncoder(columns=[\"Nombre Institución\", \"Sede\"])\n",
    "one_hot_encoder = OneHotEncoder(sparse_output=False, transform=\"pandas\")\n",
    "\n",
    "# process inmuebles\n",
    "inmuebles = DropColumns(columns_to_drop=[\"idInstitucion\"]).fit_transform(inmuebles)\n",
    "inmuebles = high_na_perc_dropper.fit_transform(inmuebles)\n",
    "inmuebles = ordinal_mapper.fit_transform(inmuebles)\n",
    "inmuebles = one_hot_encoder.fit_transform(inmuebles)\n",
    "inmuebles = inputer.fit_transform(inmuebles)\n"
   ]
  },
  {
   "cell_type": "code",
   "execution_count": null,
   "metadata": {},
   "outputs": [],
   "source": [
    "show(inmuebles)"
   ]
  },
  {
   "cell_type": "code",
   "execution_count": null,
   "metadata": {},
   "outputs": [],
   "source": [
    "show(docentes)\n",
    "# show null percentages and sort them\n",
    "show_null_percentages(docentes)\n"
   ]
  },
  {
   "cell_type": "code",
   "execution_count": null,
   "metadata": {},
   "outputs": [],
   "source": [
    "\n",
    "# process labs\n",
    "labs = ordinal_mapper.fit_transform(labs)\n",
    "labs = one_hot_encoder.fit_transform(labs)\n",
    "labs = inputer.fit_transform(labs)\n",
    "\n",
    "# process docentes\n",
    "docentes = high_na_perc_dropper.fit_transform(docentes)\n",
    "docentes = ordinal_mapper.fit_transform(docentes)\n",
    "docentes = one_hot_encoder.fit_transform(docentes)\n",
    "docentes = inputer.fit_transform(docentes)"
   ]
  },
  {
   "cell_type": "code",
   "execution_count": null,
   "metadata": {},
   "outputs": [],
   "source": [
    "inputer.get_feature_names_out()"
   ]
  },
  {
   "cell_type": "code",
   "execution_count": null,
   "metadata": {},
   "outputs": [],
   "source": []
  },
  {
   "cell_type": "code",
   "execution_count": null,
   "metadata": {},
   "outputs": [],
   "source": [
    "show(inmuebles)\n",
    "show(labs)\n",
    "show(docentes)\n",
    "show(df)"
   ]
  },
  {
   "cell_type": "code",
   "execution_count": null,
   "metadata": {},
   "outputs": [],
   "source": [
    "X = set(df['Cód. Sede'])\n",
    "Y = set(docentes['idSede'])"
   ]
  },
  {
   "cell_type": "code",
   "execution_count": null,
   "metadata": {},
   "outputs": [],
   "source": [
    "len(X), len(Y), len(X & Y), len(X - Y), len(Y - X)"
   ]
  },
  {
   "cell_type": "code",
   "execution_count": null,
   "metadata": {},
   "outputs": [],
   "source": [
    "show_null_percentages(inmuebles)"
   ]
  },
  {
   "cell_type": "code",
   "execution_count": null,
   "metadata": {},
   "outputs": [],
   "source": [
    "show_null_percentages(labs)"
   ]
  },
  {
   "cell_type": "code",
   "execution_count": null,
   "metadata": {},
   "outputs": [],
   "source": [
    "show_null_percentages(docentes)"
   ]
  },
  {
   "cell_type": "code",
   "execution_count": null,
   "metadata": {},
   "outputs": [],
   "source": [
    "df[df[\"Cód. Institución\"] == df[\"id\""
   ]
  }
 ],
 "metadata": {
  "kernelspec": {
   "display_name": "venv",
   "language": "python",
   "name": "python3"
  },
  "language_info": {
   "codemirror_mode": {
    "name": "ipython",
    "version": 3
   },
   "file_extension": ".py",
   "mimetype": "text/x-python",
   "name": "python",
   "nbconvert_exporter": "python",
   "pygments_lexer": "ipython3",
   "version": "3.9.6"
  }
 },
 "nbformat": 4,
 "nbformat_minor": 2
}
